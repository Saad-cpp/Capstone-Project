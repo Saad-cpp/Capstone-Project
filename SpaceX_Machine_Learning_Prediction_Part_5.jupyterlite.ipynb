{
 "metadata": {
  "kernelspec": {
   "name": "python3",
   "language": "python",
   "display_name": "Python 3 (ipykernel)"
  },
  "language_info": {
   "codemirror_mode": {
    "name": "python",
    "version": 3
   },
   "file_extension": ".py",
   "mimetype": "text/x-python",
   "name": "python",
   "nbconvert_exporter": "python",
   "pygments_lexer": "ipython3",
   "version": "3.8"
  }
 },
 "nbformat_minor": 4,
 "nbformat": 4,
 "cells": [
  {
   "cell_type": "markdown",
   "source": [
    "<p style=\"text-align:center\">\n",
    "    <a href=\"https://skills.network/?utm_medium=Exinfluencer&utm_source=Exinfluencer&utm_content=000026UJ&utm_term=10006555&utm_id=NA-SkillsNetwork-Channel-SkillsNetworkCoursesIBMDS0321ENSkillsNetwork26802033-2022-01-01\">\n",
    "    <img src=\"https://cf-courses-data.s3.us.cloud-object-storage.appdomain.cloud/assets/logos/SN_web_lightmode.png\" width=\"200\" alt=\"Skills Network Logo\"  />\n",
    "    </a>\n",
    "</p>\n"
   ],
   "metadata": {}
  },
  {
   "cell_type": "markdown",
   "source": [
    "# **Space X  Falcon 9 First Stage Landing Prediction**\n"
   ],
   "metadata": {}
  },
  {
   "cell_type": "markdown",
   "source": [
    "## Assignment:  Machine Learning Prediction\n"
   ],
   "metadata": {}
  },
  {
   "cell_type": "markdown",
   "source": [
    "Estimated time needed: **60** minutes\n"
   ],
   "metadata": {}
  },
  {
   "cell_type": "markdown",
   "source": [
    "Space X advertises Falcon 9 rocket launches on its website with a cost of 62 million dollars; other providers cost upward of 165 million dollars each, much of the savings is because Space X can reuse the first stage. Therefore if we can determine if the first stage will land, we can determine the cost of a launch. This information can be used if an alternate company wants to bid against space X for a rocket launch.   In this lab, you will create a machine learning pipeline  to predict if the first stage will land given the data from the preceding labs.\n"
   ],
   "metadata": {}
  },
  {
   "cell_type": "markdown",
   "source": [
    "![](https://cf-courses-data.s3.us.cloud-object-storage.appdomain.cloud/IBMDeveloperSkillsNetwork-DS0701EN-SkillsNetwork/api/Images/landing_1.gif)\n"
   ],
   "metadata": {}
  },
  {
   "cell_type": "markdown",
   "source": [
    "Several examples of an unsuccessful landing are shown here:\n"
   ],
   "metadata": {}
  },
  {
   "cell_type": "markdown",
   "source": [
    "![](https://cf-courses-data.s3.us.cloud-object-storage.appdomain.cloud/IBMDeveloperSkillsNetwork-DS0701EN-SkillsNetwork/api/Images/crash.gif)\n"
   ],
   "metadata": {}
  },
  {
   "cell_type": "markdown",
   "source": [
    "Most unsuccessful landings are planed. Space X; performs a controlled landing in the oceans.\n"
   ],
   "metadata": {}
  },
  {
   "cell_type": "markdown",
   "source": [
    "## Objectives\n"
   ],
   "metadata": {}
  },
  {
   "cell_type": "markdown",
   "source": [
    "Perform exploratory  Data Analysis and determine Training Labels\n",
    "\n",
    "*   create a column for the class\n",
    "*   Standardize the data\n",
    "*   Split into training data and test data\n",
    "\n",
    "\\-Find best Hyperparameter for SVM, Classification Trees and Logistic Regression\n",
    "\n",
    "*   Find the method performs best using test data\n"
   ],
   "metadata": {}
  },
  {
   "cell_type": "markdown",
   "source": [
    "## Import Libraries and Define Auxiliary Functions\n"
   ],
   "metadata": {}
  },
  {
   "cell_type": "code",
   "source": [
    "# %conda install numpy\n",
    "# %conda install pandas\n",
    "# %conda install seaborn"
   ],
   "metadata": {
    "trusted": true,
    "ExecuteTime": {
     "end_time": "2024-02-09T20:01:00.022255600Z",
     "start_time": "2024-02-09T20:00:59.781245800Z"
    }
   },
   "outputs": [],
   "execution_count": 65
  },
  {
   "cell_type": "code",
   "execution_count": 65,
   "outputs": [],
   "source": [],
   "metadata": {
    "collapsed": false,
    "ExecuteTime": {
     "end_time": "2024-02-09T20:01:00.217420200Z",
     "start_time": "2024-02-09T20:01:00.026412900Z"
    }
   }
  },
  {
   "cell_type": "markdown",
   "source": [
    "We will import the following libraries for the lab\n"
   ],
   "metadata": {}
  },
  {
   "cell_type": "code",
   "source": [
    "# Pandas is a software library written for the Python programming language for data manipulation and analysis.\n",
    "import pandas as pd\n",
    "# NumPy is a library for the Python programming language, adding support for large, multi-dimensional arrays and matrices, along with a large collection of high-level mathematical functions to operate on these arrays\n",
    "import numpy as np\n",
    "# Matplotlib is a plotting library for python and pyplot gives us a MatLab like plotting framework. We will use this in our plotter function to plot data.\n",
    "import matplotlib.pyplot as plt\n",
    "#Seaborn is a Python data visualization library based on matplotlib. It provides a high-level interface for drawing attractive and informative statistical graphics\n",
    "import seaborn as sns\n",
    "# Preprocessing allows us to standarsize our data\n",
    "from sklearn import preprocessing\n",
    "# Allows us to split our data into training and testing data\n",
    "from sklearn.model_selection import train_test_split\n",
    "# Allows us to test parameters of classification algorithms and find the best one\n",
    "from sklearn.model_selection import GridSearchCV\n",
    "# Logistic Regression classification algorithm\n",
    "from sklearn.linear_model import LogisticRegression\n",
    "# Support Vector Machine classification algorithm\n",
    "from sklearn.svm import SVC\n",
    "# Decision Tree classification algorithm\n",
    "from sklearn.tree import DecisionTreeClassifier\n",
    "# K Nearest Neighbors classification algorithm\n",
    "from sklearn.neighbors import KNeighborsClassifier"
   ],
   "metadata": {
    "trusted": true,
    "ExecuteTime": {
     "end_time": "2024-02-09T20:01:00.249507200Z",
     "start_time": "2024-02-09T20:01:00.223678200Z"
    }
   },
   "outputs": [],
   "execution_count": 66
  },
  {
   "cell_type": "markdown",
   "source": [
    "This function is to plot the confusion matrix.\n"
   ],
   "metadata": {}
  },
  {
   "cell_type": "code",
   "source": [
    "def plot_confusion_matrix(y,y_predict):\n",
    "    # \"this function plots the confusion matrix\"\n",
    "    from sklearn.metrics import confusion_matrix\n",
    "\n",
    "    cm = confusion_matrix(y, y_predict)\n",
    "    ax= plt.subplot()\n",
    "    sns.heatmap(cm, annot=True, ax = ax) #annot=True to annotate cells\n",
    "    ax.set_xlabel('Predicted labels')\n",
    "    ax.set_ylabel('True labels')\n",
    "    ax.set_title('Confusion Matrix') \n",
    "    ax.xaxis.set_ticklabels(['did not land', 'land']); ax.yaxis.set_ticklabels(['did not land', 'landed']) \n",
    "    plt.show() "
   ],
   "metadata": {
    "trusted": true,
    "ExecuteTime": {
     "end_time": "2024-02-09T20:01:00.284508700Z",
     "start_time": "2024-02-09T20:01:00.242499100Z"
    }
   },
   "outputs": [],
   "execution_count": 67
  },
  {
   "cell_type": "markdown",
   "source": [
    "## Load the dataframe\n"
   ],
   "metadata": {}
  },
  {
   "cell_type": "markdown",
   "source": [
    "Load the data\n"
   ],
   "metadata": {}
  },
  {
   "cell_type": "code",
   "source": [
    "# import js \n",
    "# from js import fetch\n",
    "# import io\n",
    "\n",
    "URL1 = \"https://cf-courses-data.s3.us.cloud-object-storage.appdomain.cloud/IBM-DS0321EN-SkillsNetwork/datasets/dataset_part_2.csv\"\n",
    "# resp1 = await fetch(URL1)\n",
    "# text1 = io.BytesIO((await URL1.arrayBuffer()).to_py())\n",
    "data = pd.read_csv(URL1)"
   ],
   "metadata": {
    "trusted": true,
    "ExecuteTime": {
     "end_time": "2024-02-09T20:01:07.281773400Z",
     "start_time": "2024-02-09T20:01:00.269510500Z"
    }
   },
   "outputs": [],
   "execution_count": 68
  },
  {
   "cell_type": "code",
   "source": [
    "data.head()"
   ],
   "metadata": {
    "trusted": true,
    "ExecuteTime": {
     "end_time": "2024-02-09T20:01:07.295228Z",
     "start_time": "2024-02-09T20:01:07.282775100Z"
    }
   },
   "outputs": [
    {
     "data": {
      "text/plain": "   FlightNumber        Date BoosterVersion  PayloadMass Orbit    LaunchSite  \\\n0             1  2010-06-04       Falcon 9  6104.959412   LEO  CCAFS SLC 40   \n1             2  2012-05-22       Falcon 9   525.000000   LEO  CCAFS SLC 40   \n2             3  2013-03-01       Falcon 9   677.000000   ISS  CCAFS SLC 40   \n3             4  2013-09-29       Falcon 9   500.000000    PO   VAFB SLC 4E   \n4             5  2013-12-03       Falcon 9  3170.000000   GTO  CCAFS SLC 40   \n\n       Outcome  Flights  GridFins  Reused   Legs LandingPad  Block  \\\n0    None None        1     False   False  False        NaN    1.0   \n1    None None        1     False   False  False        NaN    1.0   \n2    None None        1     False   False  False        NaN    1.0   \n3  False Ocean        1     False   False  False        NaN    1.0   \n4    None None        1     False   False  False        NaN    1.0   \n\n   ReusedCount Serial   Longitude   Latitude  Class  \n0            0  B0003  -80.577366  28.561857      0  \n1            0  B0005  -80.577366  28.561857      0  \n2            0  B0007  -80.577366  28.561857      0  \n3            0  B1003 -120.610829  34.632093      0  \n4            0  B1004  -80.577366  28.561857      0  ",
      "text/html": "<div>\n<style scoped>\n    .dataframe tbody tr th:only-of-type {\n        vertical-align: middle;\n    }\n\n    .dataframe tbody tr th {\n        vertical-align: top;\n    }\n\n    .dataframe thead th {\n        text-align: right;\n    }\n</style>\n<table border=\"1\" class=\"dataframe\">\n  <thead>\n    <tr style=\"text-align: right;\">\n      <th></th>\n      <th>FlightNumber</th>\n      <th>Date</th>\n      <th>BoosterVersion</th>\n      <th>PayloadMass</th>\n      <th>Orbit</th>\n      <th>LaunchSite</th>\n      <th>Outcome</th>\n      <th>Flights</th>\n      <th>GridFins</th>\n      <th>Reused</th>\n      <th>Legs</th>\n      <th>LandingPad</th>\n      <th>Block</th>\n      <th>ReusedCount</th>\n      <th>Serial</th>\n      <th>Longitude</th>\n      <th>Latitude</th>\n      <th>Class</th>\n    </tr>\n  </thead>\n  <tbody>\n    <tr>\n      <th>0</th>\n      <td>1</td>\n      <td>2010-06-04</td>\n      <td>Falcon 9</td>\n      <td>6104.959412</td>\n      <td>LEO</td>\n      <td>CCAFS SLC 40</td>\n      <td>None None</td>\n      <td>1</td>\n      <td>False</td>\n      <td>False</td>\n      <td>False</td>\n      <td>NaN</td>\n      <td>1.0</td>\n      <td>0</td>\n      <td>B0003</td>\n      <td>-80.577366</td>\n      <td>28.561857</td>\n      <td>0</td>\n    </tr>\n    <tr>\n      <th>1</th>\n      <td>2</td>\n      <td>2012-05-22</td>\n      <td>Falcon 9</td>\n      <td>525.000000</td>\n      <td>LEO</td>\n      <td>CCAFS SLC 40</td>\n      <td>None None</td>\n      <td>1</td>\n      <td>False</td>\n      <td>False</td>\n      <td>False</td>\n      <td>NaN</td>\n      <td>1.0</td>\n      <td>0</td>\n      <td>B0005</td>\n      <td>-80.577366</td>\n      <td>28.561857</td>\n      <td>0</td>\n    </tr>\n    <tr>\n      <th>2</th>\n      <td>3</td>\n      <td>2013-03-01</td>\n      <td>Falcon 9</td>\n      <td>677.000000</td>\n      <td>ISS</td>\n      <td>CCAFS SLC 40</td>\n      <td>None None</td>\n      <td>1</td>\n      <td>False</td>\n      <td>False</td>\n      <td>False</td>\n      <td>NaN</td>\n      <td>1.0</td>\n      <td>0</td>\n      <td>B0007</td>\n      <td>-80.577366</td>\n      <td>28.561857</td>\n      <td>0</td>\n    </tr>\n    <tr>\n      <th>3</th>\n      <td>4</td>\n      <td>2013-09-29</td>\n      <td>Falcon 9</td>\n      <td>500.000000</td>\n      <td>PO</td>\n      <td>VAFB SLC 4E</td>\n      <td>False Ocean</td>\n      <td>1</td>\n      <td>False</td>\n      <td>False</td>\n      <td>False</td>\n      <td>NaN</td>\n      <td>1.0</td>\n      <td>0</td>\n      <td>B1003</td>\n      <td>-120.610829</td>\n      <td>34.632093</td>\n      <td>0</td>\n    </tr>\n    <tr>\n      <th>4</th>\n      <td>5</td>\n      <td>2013-12-03</td>\n      <td>Falcon 9</td>\n      <td>3170.000000</td>\n      <td>GTO</td>\n      <td>CCAFS SLC 40</td>\n      <td>None None</td>\n      <td>1</td>\n      <td>False</td>\n      <td>False</td>\n      <td>False</td>\n      <td>NaN</td>\n      <td>1.0</td>\n      <td>0</td>\n      <td>B1004</td>\n      <td>-80.577366</td>\n      <td>28.561857</td>\n      <td>0</td>\n    </tr>\n  </tbody>\n</table>\n</div>"
     },
     "execution_count": 69,
     "metadata": {},
     "output_type": "execute_result"
    }
   ],
   "execution_count": 69
  },
  {
   "cell_type": "code",
   "source": [
    "URL2 = 'https://cf-courses-data.s3.us.cloud-object-storage.appdomain.cloud/IBM-DS0321EN-SkillsNetwork/datasets/dataset_part_3.csv'\n",
    "# resp2 = await fetch(URL2)\n",
    "# text2 = io.BytesIO((await resp2.arrayBuffer()).to_py())\n",
    "X = pd.read_csv(URL2)"
   ],
   "metadata": {
    "trusted": true,
    "ExecuteTime": {
     "end_time": "2024-02-09T20:01:10.782725800Z",
     "start_time": "2024-02-09T20:01:07.295228Z"
    }
   },
   "outputs": [],
   "execution_count": 70
  },
  {
   "cell_type": "code",
   "source": [
    "X.head(100)"
   ],
   "metadata": {
    "trusted": true,
    "ExecuteTime": {
     "end_time": "2024-02-09T20:01:10.817840600Z",
     "start_time": "2024-02-09T20:01:10.779727Z"
    }
   },
   "outputs": [
    {
     "data": {
      "text/plain": "    FlightNumber   PayloadMass  Flights  Block  ReusedCount  Orbit_ES-L1  \\\n0            1.0   6104.959412      1.0    1.0          0.0          0.0   \n1            2.0    525.000000      1.0    1.0          0.0          0.0   \n2            3.0    677.000000      1.0    1.0          0.0          0.0   \n3            4.0    500.000000      1.0    1.0          0.0          0.0   \n4            5.0   3170.000000      1.0    1.0          0.0          0.0   \n..           ...           ...      ...    ...          ...          ...   \n85          86.0  15400.000000      2.0    5.0          2.0          0.0   \n86          87.0  15400.000000      3.0    5.0          2.0          0.0   \n87          88.0  15400.000000      6.0    5.0          5.0          0.0   \n88          89.0  15400.000000      3.0    5.0          2.0          0.0   \n89          90.0   3681.000000      1.0    5.0          0.0          0.0   \n\n    Orbit_GEO  Orbit_GTO  Orbit_HEO  Orbit_ISS  ...  Serial_B1058  \\\n0         0.0        0.0        0.0        0.0  ...           0.0   \n1         0.0        0.0        0.0        0.0  ...           0.0   \n2         0.0        0.0        0.0        1.0  ...           0.0   \n3         0.0        0.0        0.0        0.0  ...           0.0   \n4         0.0        1.0        0.0        0.0  ...           0.0   \n..        ...        ...        ...        ...  ...           ...   \n85        0.0        0.0        0.0        0.0  ...           0.0   \n86        0.0        0.0        0.0        0.0  ...           1.0   \n87        0.0        0.0        0.0        0.0  ...           0.0   \n88        0.0        0.0        0.0        0.0  ...           0.0   \n89        0.0        0.0        0.0        0.0  ...           0.0   \n\n    Serial_B1059  Serial_B1060  Serial_B1062  GridFins_False  GridFins_True  \\\n0            0.0           0.0           0.0             1.0            0.0   \n1            0.0           0.0           0.0             1.0            0.0   \n2            0.0           0.0           0.0             1.0            0.0   \n3            0.0           0.0           0.0             1.0            0.0   \n4            0.0           0.0           0.0             1.0            0.0   \n..           ...           ...           ...             ...            ...   \n85           0.0           1.0           0.0             0.0            1.0   \n86           0.0           0.0           0.0             0.0            1.0   \n87           0.0           0.0           0.0             0.0            1.0   \n88           0.0           1.0           0.0             0.0            1.0   \n89           0.0           0.0           1.0             0.0            1.0   \n\n    Reused_False  Reused_True  Legs_False  Legs_True  \n0            1.0          0.0         1.0        0.0  \n1            1.0          0.0         1.0        0.0  \n2            1.0          0.0         1.0        0.0  \n3            1.0          0.0         1.0        0.0  \n4            1.0          0.0         1.0        0.0  \n..           ...          ...         ...        ...  \n85           0.0          1.0         0.0        1.0  \n86           0.0          1.0         0.0        1.0  \n87           0.0          1.0         0.0        1.0  \n88           0.0          1.0         0.0        1.0  \n89           1.0          0.0         0.0        1.0  \n\n[90 rows x 83 columns]",
      "text/html": "<div>\n<style scoped>\n    .dataframe tbody tr th:only-of-type {\n        vertical-align: middle;\n    }\n\n    .dataframe tbody tr th {\n        vertical-align: top;\n    }\n\n    .dataframe thead th {\n        text-align: right;\n    }\n</style>\n<table border=\"1\" class=\"dataframe\">\n  <thead>\n    <tr style=\"text-align: right;\">\n      <th></th>\n      <th>FlightNumber</th>\n      <th>PayloadMass</th>\n      <th>Flights</th>\n      <th>Block</th>\n      <th>ReusedCount</th>\n      <th>Orbit_ES-L1</th>\n      <th>Orbit_GEO</th>\n      <th>Orbit_GTO</th>\n      <th>Orbit_HEO</th>\n      <th>Orbit_ISS</th>\n      <th>...</th>\n      <th>Serial_B1058</th>\n      <th>Serial_B1059</th>\n      <th>Serial_B1060</th>\n      <th>Serial_B1062</th>\n      <th>GridFins_False</th>\n      <th>GridFins_True</th>\n      <th>Reused_False</th>\n      <th>Reused_True</th>\n      <th>Legs_False</th>\n      <th>Legs_True</th>\n    </tr>\n  </thead>\n  <tbody>\n    <tr>\n      <th>0</th>\n      <td>1.0</td>\n      <td>6104.959412</td>\n      <td>1.0</td>\n      <td>1.0</td>\n      <td>0.0</td>\n      <td>0.0</td>\n      <td>0.0</td>\n      <td>0.0</td>\n      <td>0.0</td>\n      <td>0.0</td>\n      <td>...</td>\n      <td>0.0</td>\n      <td>0.0</td>\n      <td>0.0</td>\n      <td>0.0</td>\n      <td>1.0</td>\n      <td>0.0</td>\n      <td>1.0</td>\n      <td>0.0</td>\n      <td>1.0</td>\n      <td>0.0</td>\n    </tr>\n    <tr>\n      <th>1</th>\n      <td>2.0</td>\n      <td>525.000000</td>\n      <td>1.0</td>\n      <td>1.0</td>\n      <td>0.0</td>\n      <td>0.0</td>\n      <td>0.0</td>\n      <td>0.0</td>\n      <td>0.0</td>\n      <td>0.0</td>\n      <td>...</td>\n      <td>0.0</td>\n      <td>0.0</td>\n      <td>0.0</td>\n      <td>0.0</td>\n      <td>1.0</td>\n      <td>0.0</td>\n      <td>1.0</td>\n      <td>0.0</td>\n      <td>1.0</td>\n      <td>0.0</td>\n    </tr>\n    <tr>\n      <th>2</th>\n      <td>3.0</td>\n      <td>677.000000</td>\n      <td>1.0</td>\n      <td>1.0</td>\n      <td>0.0</td>\n      <td>0.0</td>\n      <td>0.0</td>\n      <td>0.0</td>\n      <td>0.0</td>\n      <td>1.0</td>\n      <td>...</td>\n      <td>0.0</td>\n      <td>0.0</td>\n      <td>0.0</td>\n      <td>0.0</td>\n      <td>1.0</td>\n      <td>0.0</td>\n      <td>1.0</td>\n      <td>0.0</td>\n      <td>1.0</td>\n      <td>0.0</td>\n    </tr>\n    <tr>\n      <th>3</th>\n      <td>4.0</td>\n      <td>500.000000</td>\n      <td>1.0</td>\n      <td>1.0</td>\n      <td>0.0</td>\n      <td>0.0</td>\n      <td>0.0</td>\n      <td>0.0</td>\n      <td>0.0</td>\n      <td>0.0</td>\n      <td>...</td>\n      <td>0.0</td>\n      <td>0.0</td>\n      <td>0.0</td>\n      <td>0.0</td>\n      <td>1.0</td>\n      <td>0.0</td>\n      <td>1.0</td>\n      <td>0.0</td>\n      <td>1.0</td>\n      <td>0.0</td>\n    </tr>\n    <tr>\n      <th>4</th>\n      <td>5.0</td>\n      <td>3170.000000</td>\n      <td>1.0</td>\n      <td>1.0</td>\n      <td>0.0</td>\n      <td>0.0</td>\n      <td>0.0</td>\n      <td>1.0</td>\n      <td>0.0</td>\n      <td>0.0</td>\n      <td>...</td>\n      <td>0.0</td>\n      <td>0.0</td>\n      <td>0.0</td>\n      <td>0.0</td>\n      <td>1.0</td>\n      <td>0.0</td>\n      <td>1.0</td>\n      <td>0.0</td>\n      <td>1.0</td>\n      <td>0.0</td>\n    </tr>\n    <tr>\n      <th>...</th>\n      <td>...</td>\n      <td>...</td>\n      <td>...</td>\n      <td>...</td>\n      <td>...</td>\n      <td>...</td>\n      <td>...</td>\n      <td>...</td>\n      <td>...</td>\n      <td>...</td>\n      <td>...</td>\n      <td>...</td>\n      <td>...</td>\n      <td>...</td>\n      <td>...</td>\n      <td>...</td>\n      <td>...</td>\n      <td>...</td>\n      <td>...</td>\n      <td>...</td>\n      <td>...</td>\n    </tr>\n    <tr>\n      <th>85</th>\n      <td>86.0</td>\n      <td>15400.000000</td>\n      <td>2.0</td>\n      <td>5.0</td>\n      <td>2.0</td>\n      <td>0.0</td>\n      <td>0.0</td>\n      <td>0.0</td>\n      <td>0.0</td>\n      <td>0.0</td>\n      <td>...</td>\n      <td>0.0</td>\n      <td>0.0</td>\n      <td>1.0</td>\n      <td>0.0</td>\n      <td>0.0</td>\n      <td>1.0</td>\n      <td>0.0</td>\n      <td>1.0</td>\n      <td>0.0</td>\n      <td>1.0</td>\n    </tr>\n    <tr>\n      <th>86</th>\n      <td>87.0</td>\n      <td>15400.000000</td>\n      <td>3.0</td>\n      <td>5.0</td>\n      <td>2.0</td>\n      <td>0.0</td>\n      <td>0.0</td>\n      <td>0.0</td>\n      <td>0.0</td>\n      <td>0.0</td>\n      <td>...</td>\n      <td>1.0</td>\n      <td>0.0</td>\n      <td>0.0</td>\n      <td>0.0</td>\n      <td>0.0</td>\n      <td>1.0</td>\n      <td>0.0</td>\n      <td>1.0</td>\n      <td>0.0</td>\n      <td>1.0</td>\n    </tr>\n    <tr>\n      <th>87</th>\n      <td>88.0</td>\n      <td>15400.000000</td>\n      <td>6.0</td>\n      <td>5.0</td>\n      <td>5.0</td>\n      <td>0.0</td>\n      <td>0.0</td>\n      <td>0.0</td>\n      <td>0.0</td>\n      <td>0.0</td>\n      <td>...</td>\n      <td>0.0</td>\n      <td>0.0</td>\n      <td>0.0</td>\n      <td>0.0</td>\n      <td>0.0</td>\n      <td>1.0</td>\n      <td>0.0</td>\n      <td>1.0</td>\n      <td>0.0</td>\n      <td>1.0</td>\n    </tr>\n    <tr>\n      <th>88</th>\n      <td>89.0</td>\n      <td>15400.000000</td>\n      <td>3.0</td>\n      <td>5.0</td>\n      <td>2.0</td>\n      <td>0.0</td>\n      <td>0.0</td>\n      <td>0.0</td>\n      <td>0.0</td>\n      <td>0.0</td>\n      <td>...</td>\n      <td>0.0</td>\n      <td>0.0</td>\n      <td>1.0</td>\n      <td>0.0</td>\n      <td>0.0</td>\n      <td>1.0</td>\n      <td>0.0</td>\n      <td>1.0</td>\n      <td>0.0</td>\n      <td>1.0</td>\n    </tr>\n    <tr>\n      <th>89</th>\n      <td>90.0</td>\n      <td>3681.000000</td>\n      <td>1.0</td>\n      <td>5.0</td>\n      <td>0.0</td>\n      <td>0.0</td>\n      <td>0.0</td>\n      <td>0.0</td>\n      <td>0.0</td>\n      <td>0.0</td>\n      <td>...</td>\n      <td>0.0</td>\n      <td>0.0</td>\n      <td>0.0</td>\n      <td>1.0</td>\n      <td>0.0</td>\n      <td>1.0</td>\n      <td>1.0</td>\n      <td>0.0</td>\n      <td>0.0</td>\n      <td>1.0</td>\n    </tr>\n  </tbody>\n</table>\n<p>90 rows × 83 columns</p>\n</div>"
     },
     "execution_count": 71,
     "metadata": {},
     "output_type": "execute_result"
    }
   ],
   "execution_count": 71
  },
  {
   "cell_type": "markdown",
   "source": [
    "## TASK  1\n"
   ],
   "metadata": {}
  },
  {
   "cell_type": "markdown",
   "source": [
    "Create a NumPy array from the column <code>Class</code> in <code>data</code>, by applying the method <code>to_numpy()</code>  then\n",
    "assign it  to the variable <code>Y</code>,make sure the output is a  Pandas series (only one bracket df\\['name of  column']).\n"
   ],
   "metadata": {}
  },
  {
   "cell_type": "code",
   "source": [
    "Y = data['Class'].to_numpy()"
   ],
   "metadata": {
    "trusted": true,
    "ExecuteTime": {
     "end_time": "2024-02-09T20:01:10.817840600Z",
     "start_time": "2024-02-09T20:01:10.806702600Z"
    }
   },
   "outputs": [],
   "execution_count": 72
  },
  {
   "cell_type": "markdown",
   "source": [
    "## TASK  2\n"
   ],
   "metadata": {}
  },
  {
   "cell_type": "markdown",
   "source": [
    "Standardize the data in <code>X</code> then reassign it to the variable  <code>X</code> using the transform provided below.\n"
   ],
   "metadata": {}
  },
  {
   "cell_type": "code",
   "source": [
    "# students get this \n",
    "# transform = preprocessing.StandardScaler()\n",
    "scaler = preprocessing.StandardScaler().fit(X)\n",
    "X = scaler.transform(X)\n",
    "type(X)"
   ],
   "metadata": {
    "trusted": true,
    "ExecuteTime": {
     "end_time": "2024-02-09T20:01:10.839878900Z",
     "start_time": "2024-02-09T20:01:10.809712Z"
    }
   },
   "outputs": [
    {
     "data": {
      "text/plain": "numpy.ndarray"
     },
     "execution_count": 73,
     "metadata": {},
     "output_type": "execute_result"
    }
   ],
   "execution_count": 73
  },
  {
   "cell_type": "markdown",
   "source": [
    "We split the data into training and testing data using the  function  <code>train_test_split</code>.   The training data is divided into validation data, a second set used for training  data; then the models are trained and hyperparameters are selected using the function <code>GridSearchCV</code>.\n"
   ],
   "metadata": {}
  },
  {
   "cell_type": "markdown",
   "source": [
    "## TASK  3\n"
   ],
   "metadata": {}
  },
  {
   "cell_type": "markdown",
   "source": [
    "Use the function train_test_split to split the data X and Y into training and test data. Set the parameter test_size to  0.2 and random_state to 2. The training data and test data should be assigned to the following labels.\n"
   ],
   "metadata": {}
  },
  {
   "cell_type": "markdown",
   "source": [
    "<code>X_train, X_test, Y_train, Y_test</code>\n"
   ],
   "metadata": {}
  },
  {
   "cell_type": "code",
   "source": [
    "X_train, X_test, Y_train, Y_test = train_test_split(X, Y, test_size=0.2, random_state=2)"
   ],
   "metadata": {
    "trusted": true,
    "ExecuteTime": {
     "end_time": "2024-02-09T20:01:10.841879Z",
     "start_time": "2024-02-09T20:01:10.816840300Z"
    }
   },
   "outputs": [],
   "execution_count": 74
  },
  {
   "cell_type": "markdown",
   "source": [
    "we can see we only have 18 test samples.\n"
   ],
   "metadata": {}
  },
  {
   "cell_type": "code",
   "source": [
    "Y_test.shape"
   ],
   "metadata": {
    "trusted": true,
    "ExecuteTime": {
     "end_time": "2024-02-09T20:01:10.866876500Z",
     "start_time": "2024-02-09T20:01:10.822365200Z"
    }
   },
   "outputs": [
    {
     "data": {
      "text/plain": "(18,)"
     },
     "execution_count": 75,
     "metadata": {},
     "output_type": "execute_result"
    }
   ],
   "execution_count": 75
  },
  {
   "cell_type": "markdown",
   "source": [
    "## TASK  4\n"
   ],
   "metadata": {}
  },
  {
   "cell_type": "markdown",
   "source": [
    "Create a logistic regression object  then create a  GridSearchCV object  <code>logreg_cv</code> with cv = 10.  Fit the object to find the best parameters from the dictionary <code>parameters</code>.\n"
   ],
   "metadata": {}
  },
  {
   "cell_type": "code",
   "source": [
    "parameters ={'C':[0.01,0.1,1],\n",
    "             'penalty':['l2'],\n",
    "             'solver':['lbfgs']}"
   ],
   "metadata": {
    "trusted": true,
    "ExecuteTime": {
     "end_time": "2024-02-09T20:01:10.866876500Z",
     "start_time": "2024-02-09T20:01:10.827574700Z"
    }
   },
   "outputs": [],
   "execution_count": 76
  },
  {
   "cell_type": "code",
   "source": [
    "# parameters ={\"C\":[0.01,0.1,1],'penalty':['l2'], 'solver':['lbfgs']}# l1 lasso l2 ridge\n",
    "lr=LogisticRegression()\n",
    "logreg_cv = GridSearchCV(lr,parameters,cv=10)\n",
    "logreg_cv.fit(X_train, Y_train)"
   ],
   "metadata": {
    "trusted": true,
    "ExecuteTime": {
     "end_time": "2024-02-09T20:01:11.000018400Z",
     "start_time": "2024-02-09T20:01:10.835877800Z"
    }
   },
   "outputs": [
    {
     "data": {
      "text/plain": "GridSearchCV(cv=10, estimator=LogisticRegression(),\n             param_grid={'C': [0.01, 0.1, 1], 'penalty': ['l2'],\n                         'solver': ['lbfgs']})",
      "text/html": "<style>#sk-container-id-7 {color: black;}#sk-container-id-7 pre{padding: 0;}#sk-container-id-7 div.sk-toggleable {background-color: white;}#sk-container-id-7 label.sk-toggleable__label {cursor: pointer;display: block;width: 100%;margin-bottom: 0;padding: 0.3em;box-sizing: border-box;text-align: center;}#sk-container-id-7 label.sk-toggleable__label-arrow:before {content: \"▸\";float: left;margin-right: 0.25em;color: #696969;}#sk-container-id-7 label.sk-toggleable__label-arrow:hover:before {color: black;}#sk-container-id-7 div.sk-estimator:hover label.sk-toggleable__label-arrow:before {color: black;}#sk-container-id-7 div.sk-toggleable__content {max-height: 0;max-width: 0;overflow: hidden;text-align: left;background-color: #f0f8ff;}#sk-container-id-7 div.sk-toggleable__content pre {margin: 0.2em;color: black;border-radius: 0.25em;background-color: #f0f8ff;}#sk-container-id-7 input.sk-toggleable__control:checked~div.sk-toggleable__content {max-height: 200px;max-width: 100%;overflow: auto;}#sk-container-id-7 input.sk-toggleable__control:checked~label.sk-toggleable__label-arrow:before {content: \"▾\";}#sk-container-id-7 div.sk-estimator input.sk-toggleable__control:checked~label.sk-toggleable__label {background-color: #d4ebff;}#sk-container-id-7 div.sk-label input.sk-toggleable__control:checked~label.sk-toggleable__label {background-color: #d4ebff;}#sk-container-id-7 input.sk-hidden--visually {border: 0;clip: rect(1px 1px 1px 1px);clip: rect(1px, 1px, 1px, 1px);height: 1px;margin: -1px;overflow: hidden;padding: 0;position: absolute;width: 1px;}#sk-container-id-7 div.sk-estimator {font-family: monospace;background-color: #f0f8ff;border: 1px dotted black;border-radius: 0.25em;box-sizing: border-box;margin-bottom: 0.5em;}#sk-container-id-7 div.sk-estimator:hover {background-color: #d4ebff;}#sk-container-id-7 div.sk-parallel-item::after {content: \"\";width: 100%;border-bottom: 1px solid gray;flex-grow: 1;}#sk-container-id-7 div.sk-label:hover label.sk-toggleable__label {background-color: #d4ebff;}#sk-container-id-7 div.sk-serial::before {content: \"\";position: absolute;border-left: 1px solid gray;box-sizing: border-box;top: 0;bottom: 0;left: 50%;z-index: 0;}#sk-container-id-7 div.sk-serial {display: flex;flex-direction: column;align-items: center;background-color: white;padding-right: 0.2em;padding-left: 0.2em;position: relative;}#sk-container-id-7 div.sk-item {position: relative;z-index: 1;}#sk-container-id-7 div.sk-parallel {display: flex;align-items: stretch;justify-content: center;background-color: white;position: relative;}#sk-container-id-7 div.sk-item::before, #sk-container-id-7 div.sk-parallel-item::before {content: \"\";position: absolute;border-left: 1px solid gray;box-sizing: border-box;top: 0;bottom: 0;left: 50%;z-index: -1;}#sk-container-id-7 div.sk-parallel-item {display: flex;flex-direction: column;z-index: 1;position: relative;background-color: white;}#sk-container-id-7 div.sk-parallel-item:first-child::after {align-self: flex-end;width: 50%;}#sk-container-id-7 div.sk-parallel-item:last-child::after {align-self: flex-start;width: 50%;}#sk-container-id-7 div.sk-parallel-item:only-child::after {width: 0;}#sk-container-id-7 div.sk-dashed-wrapped {border: 1px dashed gray;margin: 0 0.4em 0.5em 0.4em;box-sizing: border-box;padding-bottom: 0.4em;background-color: white;}#sk-container-id-7 div.sk-label label {font-family: monospace;font-weight: bold;display: inline-block;line-height: 1.2em;}#sk-container-id-7 div.sk-label-container {text-align: center;}#sk-container-id-7 div.sk-container {/* jupyter's `normalize.less` sets `[hidden] { display: none; }` but bootstrap.min.css set `[hidden] { display: none !important; }` so we also need the `!important` here to be able to override the default hidden behavior on the sphinx rendered scikit-learn.org. See: https://github.com/scikit-learn/scikit-learn/issues/21755 */display: inline-block !important;position: relative;}#sk-container-id-7 div.sk-text-repr-fallback {display: none;}</style><div id=\"sk-container-id-7\" class=\"sk-top-container\"><div class=\"sk-text-repr-fallback\"><pre>GridSearchCV(cv=10, estimator=LogisticRegression(),\n             param_grid={&#x27;C&#x27;: [0.01, 0.1, 1], &#x27;penalty&#x27;: [&#x27;l2&#x27;],\n                         &#x27;solver&#x27;: [&#x27;lbfgs&#x27;]})</pre><b>In a Jupyter environment, please rerun this cell to show the HTML representation or trust the notebook. <br />On GitHub, the HTML representation is unable to render, please try loading this page with nbviewer.org.</b></div><div class=\"sk-container\" hidden><div class=\"sk-item sk-dashed-wrapped\"><div class=\"sk-label-container\"><div class=\"sk-label sk-toggleable\"><input class=\"sk-toggleable__control sk-hidden--visually\" id=\"sk-estimator-id-19\" type=\"checkbox\" ><label for=\"sk-estimator-id-19\" class=\"sk-toggleable__label sk-toggleable__label-arrow\">GridSearchCV</label><div class=\"sk-toggleable__content\"><pre>GridSearchCV(cv=10, estimator=LogisticRegression(),\n             param_grid={&#x27;C&#x27;: [0.01, 0.1, 1], &#x27;penalty&#x27;: [&#x27;l2&#x27;],\n                         &#x27;solver&#x27;: [&#x27;lbfgs&#x27;]})</pre></div></div></div><div class=\"sk-parallel\"><div class=\"sk-parallel-item\"><div class=\"sk-item\"><div class=\"sk-label-container\"><div class=\"sk-label sk-toggleable\"><input class=\"sk-toggleable__control sk-hidden--visually\" id=\"sk-estimator-id-20\" type=\"checkbox\" ><label for=\"sk-estimator-id-20\" class=\"sk-toggleable__label sk-toggleable__label-arrow\">estimator: LogisticRegression</label><div class=\"sk-toggleable__content\"><pre>LogisticRegression()</pre></div></div></div><div class=\"sk-serial\"><div class=\"sk-item\"><div class=\"sk-estimator sk-toggleable\"><input class=\"sk-toggleable__control sk-hidden--visually\" id=\"sk-estimator-id-21\" type=\"checkbox\" ><label for=\"sk-estimator-id-21\" class=\"sk-toggleable__label sk-toggleable__label-arrow\">LogisticRegression</label><div class=\"sk-toggleable__content\"><pre>LogisticRegression()</pre></div></div></div></div></div></div></div></div></div></div>"
     },
     "execution_count": 77,
     "metadata": {},
     "output_type": "execute_result"
    }
   ],
   "execution_count": 77
  },
  {
   "cell_type": "markdown",
   "source": [
    "We output the <code>GridSearchCV</code> object for logistic regression. We display the best parameters using the data attribute <code>best_params\\_</code> and the accuracy on the validation data using the data attribute <code>best_score\\_</code>.\n"
   ],
   "metadata": {}
  },
  {
   "cell_type": "code",
   "source": [
    "print(\"tuned hpyerparameters :(best parameters) \",logreg_cv.best_params_)\n",
    "print(\"accuracy :\",logreg_cv.best_score_)"
   ],
   "metadata": {
    "trusted": true,
    "ExecuteTime": {
     "end_time": "2024-02-09T20:01:11.001018500Z",
     "start_time": "2024-02-09T20:01:10.941461700Z"
    }
   },
   "outputs": [
    {
     "name": "stdout",
     "output_type": "stream",
     "text": [
      "tuned hpyerparameters :(best parameters)  {'C': 0.01, 'penalty': 'l2', 'solver': 'lbfgs'}\n",
      "accuracy : 0.8464285714285713\n"
     ]
    }
   ],
   "execution_count": 78
  },
  {
   "cell_type": "markdown",
   "source": [
    "## TASK  5\n"
   ],
   "metadata": {}
  },
  {
   "cell_type": "markdown",
   "source": [
    "Calculate the accuracy on the test data using the method <code>score</code>:\n"
   ],
   "metadata": {}
  },
  {
   "cell_type": "code",
   "source": [
    "print(\"score: \",logreg_cv.score(X_test, Y_test))"
   ],
   "metadata": {
    "trusted": true,
    "ExecuteTime": {
     "end_time": "2024-02-09T20:01:11.001018500Z",
     "start_time": "2024-02-09T20:01:10.945569900Z"
    }
   },
   "outputs": [
    {
     "name": "stdout",
     "output_type": "stream",
     "text": [
      "score:  0.8333333333333334\n"
     ]
    }
   ],
   "execution_count": 79
  },
  {
   "cell_type": "markdown",
   "source": [
    "Lets look at the confusion matrix:\n"
   ],
   "metadata": {}
  },
  {
   "cell_type": "code",
   "source": [
    "yhat=logreg_cv.predict(X_test)\n",
    "plot_confusion_matrix(Y_test,yhat)"
   ],
   "metadata": {
    "trusted": true,
    "ExecuteTime": {
     "end_time": "2024-02-09T20:01:11.106961500Z",
     "start_time": "2024-02-09T20:01:10.951018300Z"
    }
   },
   "outputs": [
    {
     "data": {
      "text/plain": "<Figure size 640x480 with 2 Axes>",
      "image/png": "[encoded data removed]"
     },
     "metadata": {},
     "output_type": "display_data"
    }
   ],
   "execution_count": 80
  },
  {
   "cell_type": "markdown",
   "source": [
    "Examining the confusion matrix, we see that logistic regression can distinguish between the different classes.  We see that the major problem is false positives.\n"
   ],
   "metadata": {}
  },
  {
   "cell_type": "markdown",
   "source": [
    "## TASK  6\n"
   ],
   "metadata": {}
  },
  {
   "cell_type": "markdown",
   "source": [
    "Create a support vector machine object then  create a  <code>GridSearchCV</code> object  <code>svm_cv</code> with cv - 10.  Fit the object to find the best parameters from the dictionary <code>parameters</code>.\n"
   ],
   "metadata": {}
  },
  {
   "cell_type": "code",
   "source": [
    "parameters = {'kernel':('linear', 'rbf','poly','rbf', 'sigmoid'),\n",
    "              'C': np.logspace(-3, 3, 5),\n",
    "              'gamma':np.logspace(-3, 3, 5)}\n",
    "svm = SVC()"
   ],
   "metadata": {
    "trusted": true,
    "ExecuteTime": {
     "end_time": "2024-02-09T20:01:11.116251Z",
     "start_time": "2024-02-09T20:01:11.107963500Z"
    }
   },
   "outputs": [],
   "execution_count": 81
  },
  {
   "cell_type": "code",
   "source": [
    "svm_cv = GridSearchCV(svm, parameters, cv=10, verbose=3)\n",
    "svm_cv.fit(X_train, Y_train)"
   ],
   "metadata": {
    "trusted": true,
    "ExecuteTime": {
     "end_time": "2024-02-09T20:01:13.019264600Z",
     "start_time": "2024-02-09T20:01:11.112251900Z"
    }
   },
   "outputs": [
    {
     "name": "stdout",
     "output_type": "stream",
     "text": [
      "Fitting 10 folds for each of 125 candidates, totalling 1250 fits\n",
      "[CV 1/10] END C=0.001, gamma=0.001, kernel=linear;, score=0.625 total time=   0.0s\n",
      "[CV 2/10] END C=0.001, gamma=0.001, kernel=linear;, score=0.625 total time=   0.0s\n",
      "[CV 3/10] END C=0.001, gamma=0.001, kernel=linear;, score=0.571 total time=   0.0s\n",
      "[CV 4/10] END C=0.001, gamma=0.001, kernel=linear;, score=0.571 total time=   0.0s\n",
      "[CV 5/10] END C=0.001, gamma=0.001, kernel=linear;, score=0.714 total time=   0.0s\n",
      "[CV 6/10] END C=0.001, gamma=0.001, kernel=linear;, score=0.714 total time=   0.0s\n",
      "[CV 7/10] END C=0.001, gamma=0.001, kernel=linear;, score=0.714 total time=   0.0s\n",
      "[CV 8/10] END C=0.001, gamma=0.001, kernel=linear;, score=0.714 total time=   0.0s\n",
      "[CV 9/10] END C=0.001, gamma=0.001, kernel=linear;, score=0.714 total time=   0.0s\n",
      "[CV 10/10] END C=0.001, gamma=0.001, kernel=linear;, score=0.714 total time=   0.0s\n",
      "[CV 1/10] END .C=0.001, gamma=0.001, kernel=rbf;, score=0.625 total time=   0.0s\n",
      "[CV 2/10] END .C=0.001, gamma=0.001, kernel=rbf;, score=0.625 total time=   0.0s\n",
      "[CV 3/10] END .C=0.001, gamma=0.001, kernel=rbf;, score=0.571 total time=   0.0s\n",
      "[CV 4/10] END .C=0.001, gamma=0.001, kernel=rbf;, score=0.571 total time=   0.0s\n",
      "[CV 5/10] END .C=0.001, gamma=0.001, kernel=rbf;, score=0.714 total time=   0.0s\n",
      "[CV 6/10] END .C=0.001, gamma=0.001, kernel=rbf;, score=0.714 total time=   0.0s\n",
      "[CV 7/10] END .C=0.001, gamma=0.001, kernel=rbf;, score=0.714 total time=   0.0s\n",
      "[CV 8/10] END .C=0.001, gamma=0.001, kernel=rbf;, score=0.714 total time=   0.0s\n",
      "[CV 9/10] END .C=0.001, gamma=0.001, kernel=rbf;, score=0.714 total time=   0.0s\n",
      "[CV 10/10] END C=0.001, gamma=0.001, kernel=rbf;, score=0.714 total time=   0.0s\n",
      "[CV 1/10] END C=0.001, gamma=0.001, kernel=poly;, score=0.625 total time=   0.0s\n",
      "[CV 2/10] END C=0.001, gamma=0.001, kernel=poly;, score=0.625 total time=   0.0s\n",
      "[CV 3/10] END C=0.001, gamma=0.001, kernel=poly;, score=0.571 total time=   0.0s\n",
      "[CV 4/10] END C=0.001, gamma=0.001, kernel=poly;, score=0.571 total time=   0.0s\n",
      "[CV 5/10] END C=0.001, gamma=0.001, kernel=poly;, score=0.714 total time=   0.0s\n",
      "[CV 6/10] END C=0.001, gamma=0.001, kernel=poly;, score=0.714 total time=   0.0s\n",
      "[CV 7/10] END C=0.001, gamma=0.001, kernel=poly;, score=0.714 total time=   0.0s\n",
      "[CV 8/10] END C=0.001, gamma=0.001, kernel=poly;, score=0.714 total time=   0.0s\n",
      "[CV 9/10] END C=0.001, gamma=0.001, kernel=poly;, score=0.714 total time=   0.0s\n",
      "[CV 10/10] END C=0.001, gamma=0.001, kernel=poly;, score=0.714 total time=   0.0s\n",
      "[CV 1/10] END .C=0.001, gamma=0.001, kernel=rbf;, score=0.625 total time=   0.0s\n",
      "[CV 2/10] END .C=0.001, gamma=0.001, kernel=rbf;, score=0.625 total time=   0.0s\n",
      "[CV 3/10] END .C=0.001, gamma=0.001, kernel=rbf;, score=0.571 total time=   0.0s\n",
      "[CV 4/10] END .C=0.001, gamma=0.001, kernel=rbf;, score=0.571 total time=   0.0s\n",
      "[CV 5/10] END .C=0.001, gamma=0.001, kernel=rbf;, score=0.714 total time=   0.0s\n",
      "[CV 6/10] END .C=0.001, gamma=0.001, kernel=rbf;, score=0.714 total time=   0.0s\n",
      "[CV 7/10] END .C=0.001, gamma=0.001, kernel=rbf;, score=0.714 total time=   0.0s\n",
      "[CV 8/10] END .C=0.001, gamma=0.001, kernel=rbf;, score=0.714 total time=   0.0s\n",
      "[CV 9/10] END .C=0.001, gamma=0.001, kernel=rbf;, score=0.714 total time=   0.0s\n",
      "[CV 10/10] END C=0.001, gamma=0.001, kernel=rbf;, score=0.714 total time=   0.0s\n",
      "[CV 1/10] END C=0.001, gamma=0.001, kernel=sigmoid;, score=0.625 total time=   0.0s\n",
      "[CV 2/10] END C=0.001, gamma=0.001, kernel=sigmoid;, score=0.625 total time=   0.0s\n",
      "[CV 3/10] END C=0.001, gamma=0.001, kernel=sigmoid;, score=0.571 total time=   0.0s\n",
      "[CV 4/10] END C=0.001, gamma=0.001, kernel=sigmoid;, score=0.571 total time=   0.0s\n",
      "[CV 5/10] END C=0.001, gamma=0.001, kernel=sigmoid;, score=0.714 total time=   0.0s\n",
      "[CV 6/10] END C=0.001, gamma=0.001, kernel=sigmoid;, score=0.714 total time=   0.0s\n",
      "[CV 7/10] END C=0.001, gamma=0.001, kernel=sigmoid;, score=0.714 total time=   0.0s\n",
      "[CV 8/10] END C=0.001, gamma=0.001, kernel=sigmoid;, score=0.714 total time=   0.0s\n",
      "[CV 9/10] END C=0.001, gamma=0.001, kernel=sigmoid;, score=0.714 total time=   0.0s\n",
      "[CV 10/10] END C=0.001, gamma=0.001, kernel=sigmoid;, score=0.714 total time=   0.0s\n",
      "[CV 1/10] END C=0.001, gamma=0.03162277660168379, kernel=linear;, score=0.625 total time=   0.0s\n",
      "[CV 2/10] END C=0.001, gamma=0.03162277660168379, kernel=linear;, score=0.625 total time=   0.0s\n",
      "[CV 3/10] END C=0.001, gamma=0.03162277660168379, kernel=linear;, score=0.571 total time=   0.0s\n",
      "[CV 4/10] END C=0.001, gamma=0.03162277660168379, kernel=linear;, score=0.571 total time=   0.0s\n",
      "[CV 5/10] END C=0.001, gamma=0.03162277660168379, kernel=linear;, score=0.714 total time=   0.0s\n",
      "[CV 6/10] END C=0.001, gamma=0.03162277660168379, kernel=linear;, score=0.714 total time=   0.0s\n",
      "[CV 7/10] END C=0.001, gamma=0.03162277660168379, kernel=linear;, score=0.714 total time=   0.0s\n",
      "[CV 8/10] END C=0.001, gamma=0.03162277660168379, kernel=linear;, score=0.714 total time=   0.0s\n",
      "[CV 9/10] END C=0.001, gamma=0.03162277660168379, kernel=linear;, score=0.714 total time=   0.0s\n",
      "[CV 10/10] END C=0.001, gamma=0.03162277660168379, kernel=linear;, score=0.714 total time=   0.0s\n",
      "[CV 1/10] END C=0.001, gamma=0.03162277660168379, kernel=rbf;, score=0.625 total time=   0.0s\n",
      "[CV 2/10] END C=0.001, gamma=0.03162277660168379, kernel=rbf;, score=0.625 total time=   0.0s\n",
      "[CV 3/10] END C=0.001, gamma=0.03162277660168379, kernel=rbf;, score=0.571 total time=   0.0s\n",
      "[CV 4/10] END C=0.001, gamma=0.03162277660168379, kernel=rbf;, score=0.571 total time=   0.0s\n",
      "[CV 5/10] END C=0.001, gamma=0.03162277660168379, kernel=rbf;, score=0.714 total time=   0.0s\n",
      "[CV 6/10] END C=0.001, gamma=0.03162277660168379, kernel=rbf;, score=0.714 total time=   0.0s\n",
      "[CV 7/10] END C=0.001, gamma=0.03162277660168379, kernel=rbf;, score=0.714 total time=   0.0s\n",
      "[CV 8/10] END C=0.001, gamma=0.03162277660168379, kernel=rbf;, score=0.714 total time=   0.0s\n",
      "[CV 9/10] END C=0.001, gamma=0.03162277660168379, kernel=rbf;, score=0.714 total time=   0.0s\n",
      "[CV 10/10] END C=0.001, gamma=0.03162277660168379, kernel=rbf;, score=0.714 total time=   0.0s\n",
      "[CV 1/10] END C=0.001, gamma=0.03162277660168379, kernel=poly;, score=0.625 total time=   0.0s\n",
      "[CV 2/10] END C=0.001, gamma=0.03162277660168379, kernel=poly;, score=0.625 total time=   0.0s\n",
      "[CV 3/10] END C=0.001, gamma=0.03162277660168379, kernel=poly;, score=0.571 total time=   0.0s\n",
      "[CV 4/10] END C=0.001, gamma=0.03162277660168379, kernel=poly;, score=0.571 total time=   0.0s\n",
      "[CV 5/10] END C=0.001, gamma=0.03162277660168379, kernel=poly;, score=0.714 total time=   0.0s\n",
      "[CV 6/10] END C=0.001, gamma=0.03162277660168379, kernel=poly;, score=0.714 total time=   0.0s\n",
      "[CV 7/10] END C=0.001, gamma=0.03162277660168379, kernel=poly;, score=0.714 total time=   0.0s\n",
      "[CV 8/10] END C=0.001, gamma=0.03162277660168379, kernel=poly;, score=0.714 total time=   0.0s\n",
      "[CV 9/10] END C=0.001, gamma=0.03162277660168379, kernel=poly;, score=0.714 total time=   0.0s\n",
      "[CV 10/10] END C=0.001, gamma=0.03162277660168379, kernel=poly;, score=0.714 total time=   0.0s\n",
      "[CV 1/10] END C=0.001, gamma=0.03162277660168379, kernel=rbf;, score=0.625 total time=   0.0s\n",
      "[CV 2/10] END C=0.001, gamma=0.03162277660168379, kernel=rbf;, score=0.625 total time=   0.0s\n",
      "[CV 3/10] END C=0.001, gamma=0.03162277660168379, kernel=rbf;, score=0.571 total time=   0.0s\n",
      "[CV 4/10] END C=0.001, gamma=0.03162277660168379, kernel=rbf;, score=0.571 total time=   0.0s\n",
      "[CV 5/10] END C=0.001, gamma=0.03162277660168379, kernel=rbf;, score=0.714 total time=   0.0s\n",
      "[CV 6/10] END C=0.001, gamma=0.03162277660168379, kernel=rbf;, score=0.714 total time=   0.0s\n",
      "[CV 7/10] END C=0.001, gamma=0.03162277660168379, kernel=rbf;, score=0.714 total time=   0.0s\n",
      "[CV 8/10] END C=0.001, gamma=0.03162277660168379, kernel=rbf;, score=0.714 total time=   0.0s\n",
      "[CV 9/10] END C=0.001, gamma=0.03162277660168379, kernel=rbf;, score=0.714 total time=   0.0s\n",
      "[CV 10/10] END C=0.001, gamma=0.03162277660168379, kernel=rbf;, score=0.714 total time=   0.0s\n",
      "[CV 1/10] END C=0.001, gamma=0.03162277660168379, kernel=sigmoid;, score=0.625 total time=   0.0s\n",
      "[CV 2/10] END C=0.001, gamma=0.03162277660168379, kernel=sigmoid;, score=0.625 total time=   0.0s\n",
      "[CV 3/10] END C=0.001, gamma=0.03162277660168379, kernel=sigmoid;, score=0.571 total time=   0.0s\n",
      "[CV 4/10] END C=0.001, gamma=0.03162277660168379, kernel=sigmoid;, score=0.571 total time=   0.0s\n",
      "[CV 5/10] END C=0.001, gamma=0.03162277660168379, kernel=sigmoid;, score=0.714 total time=   0.0s\n",
      "[CV 6/10] END C=0.001, gamma=0.03162277660168379, kernel=sigmoid;, score=0.714 total time=   0.0s\n",
      "[CV 7/10] END C=0.001, gamma=0.03162277660168379, kernel=sigmoid;, score=0.714 total time=   0.0s\n",
      "[CV 8/10] END C=0.001, gamma=0.03162277660168379, kernel=sigmoid;, score=0.714 total time=   0.0s\n",
      "[CV 9/10] END C=0.001, gamma=0.03162277660168379, kernel=sigmoid;, score=0.714 total time=   0.0s\n",
      "[CV 10/10] END C=0.001, gamma=0.03162277660168379, kernel=sigmoid;, score=0.714 total time=   0.0s\n",
      "[CV 1/10] END C=0.001, gamma=1.0, kernel=linear;, score=0.625 total time=   0.0s\n",
      "[CV 2/10] END C=0.001, gamma=1.0, kernel=linear;, score=0.625 total time=   0.0s\n",
      "[CV 3/10] END C=0.001, gamma=1.0, kernel=linear;, score=0.571 total time=   0.0s\n",
      "[CV 4/10] END C=0.001, gamma=1.0, kernel=linear;, score=0.571 total time=   0.0s\n",
      "[CV 5/10] END C=0.001, gamma=1.0, kernel=linear;, score=0.714 total time=   0.0s\n",
      "[CV 6/10] END C=0.001, gamma=1.0, kernel=linear;, score=0.714 total time=   0.0s\n",
      "[CV 7/10] END C=0.001, gamma=1.0, kernel=linear;, score=0.714 total time=   0.0s\n",
      "[CV 8/10] END C=0.001, gamma=1.0, kernel=linear;, score=0.714 total time=   0.0s\n",
      "[CV 9/10] END C=0.001, gamma=1.0, kernel=linear;, score=0.714 total time=   0.0s\n",
      "[CV 10/10] END C=0.001, gamma=1.0, kernel=linear;, score=0.714 total time=   0.0s\n",
      "[CV 1/10] END ...C=0.001, gamma=1.0, kernel=rbf;, score=0.625 total time=   0.0s\n",
      "[CV 2/10] END ...C=0.001, gamma=1.0, kernel=rbf;, score=0.625 total time=   0.0s\n",
      "[CV 3/10] END ...C=0.001, gamma=1.0, kernel=rbf;, score=0.571 total time=   0.0s\n",
      "[CV 4/10] END ...C=0.001, gamma=1.0, kernel=rbf;, score=0.571 total time=   0.0s\n",
      "[CV 5/10] END ...C=0.001, gamma=1.0, kernel=rbf;, score=0.714 total time=   0.0s\n",
      "[CV 6/10] END ...C=0.001, gamma=1.0, kernel=rbf;, score=0.714 total time=   0.0s\n",
      "[CV 7/10] END ...C=0.001, gamma=1.0, kernel=rbf;, score=0.714 total time=   0.0s\n",
      "[CV 8/10] END ...C=0.001, gamma=1.0, kernel=rbf;, score=0.714 total time=   0.0s\n",
      "[CV 9/10] END ...C=0.001, gamma=1.0, kernel=rbf;, score=0.714 total time=   0.0s\n",
      "[CV 10/10] END ..C=0.001, gamma=1.0, kernel=rbf;, score=0.714 total time=   0.0s\n",
      "[CV 1/10] END ..C=0.001, gamma=1.0, kernel=poly;, score=0.500 total time=   0.0s\n",
      "[CV 2/10] END ..C=0.001, gamma=1.0, kernel=poly;, score=0.625 total time=   0.0s\n",
      "[CV 3/10] END ..C=0.001, gamma=1.0, kernel=poly;, score=0.429 total time=   0.0s\n",
      "[CV 4/10] END ..C=0.001, gamma=1.0, kernel=poly;, score=0.571 total time=   0.0s\n",
      "[CV 5/10] END ..C=0.001, gamma=1.0, kernel=poly;, score=0.714 total time=   0.0s\n",
      "[CV 6/10] END ..C=0.001, gamma=1.0, kernel=poly;, score=0.714 total time=   0.0s\n",
      "[CV 7/10] END ..C=0.001, gamma=1.0, kernel=poly;, score=0.714 total time=   0.0s\n",
      "[CV 8/10] END ..C=0.001, gamma=1.0, kernel=poly;, score=0.571 total time=   0.0s\n",
      "[CV 9/10] END ..C=0.001, gamma=1.0, kernel=poly;, score=0.714 total time=   0.0s\n",
      "[CV 10/10] END .C=0.001, gamma=1.0, kernel=poly;, score=0.714 total time=   0.0s\n",
      "[CV 1/10] END ...C=0.001, gamma=1.0, kernel=rbf;, score=0.625 total time=   0.0s\n",
      "[CV 2/10] END ...C=0.001, gamma=1.0, kernel=rbf;, score=0.625 total time=   0.0s\n",
      "[CV 3/10] END ...C=0.001, gamma=1.0, kernel=rbf;, score=0.571 total time=   0.0s\n",
      "[CV 4/10] END ...C=0.001, gamma=1.0, kernel=rbf;, score=0.571 total time=   0.0s\n",
      "[CV 5/10] END ...C=0.001, gamma=1.0, kernel=rbf;, score=0.714 total time=   0.0s\n",
      "[CV 6/10] END ...C=0.001, gamma=1.0, kernel=rbf;, score=0.714 total time=   0.0s\n",
      "[CV 7/10] END ...C=0.001, gamma=1.0, kernel=rbf;, score=0.714 total time=   0.0s\n",
      "[CV 8/10] END ...C=0.001, gamma=1.0, kernel=rbf;, score=0.714 total time=   0.0s\n",
      "[CV 9/10] END ...C=0.001, gamma=1.0, kernel=rbf;, score=0.714 total time=   0.0s\n",
      "[CV 10/10] END ..C=0.001, gamma=1.0, kernel=rbf;, score=0.714 total time=   0.0s\n",
      "[CV 1/10] END C=0.001, gamma=1.0, kernel=sigmoid;, score=0.625 total time=   0.0s\n",
      "[CV 2/10] END C=0.001, gamma=1.0, kernel=sigmoid;, score=0.625 total time=   0.0s\n",
      "[CV 3/10] END C=0.001, gamma=1.0, kernel=sigmoid;, score=0.571 total time=   0.0s\n",
      "[CV 4/10] END C=0.001, gamma=1.0, kernel=sigmoid;, score=0.571 total time=   0.0s\n",
      "[CV 5/10] END C=0.001, gamma=1.0, kernel=sigmoid;, score=0.714 total time=   0.0s\n",
      "[CV 6/10] END C=0.001, gamma=1.0, kernel=sigmoid;, score=0.714 total time=   0.0s\n",
      "[CV 7/10] END C=0.001, gamma=1.0, kernel=sigmoid;, score=0.714 total time=   0.0s\n",
      "[CV 8/10] END C=0.001, gamma=1.0, kernel=sigmoid;, score=0.714 total time=   0.0s\n",
      "[CV 9/10] END C=0.001, gamma=1.0, kernel=sigmoid;, score=0.714 total time=   0.0s\n",
      "[CV 10/10] END C=0.001, gamma=1.0, kernel=sigmoid;, score=0.714 total time=   0.0s\n",
      "[CV 1/10] END C=0.001, gamma=31.622776601683793, kernel=linear;, score=0.625 total time=   0.0s\n",
      "[CV 2/10] END C=0.001, gamma=31.622776601683793, kernel=linear;, score=0.625 total time=   0.0s\n",
      "[CV 3/10] END C=0.001, gamma=31.622776601683793, kernel=linear;, score=0.571 total time=   0.0s\n",
      "[CV 4/10] END C=0.001, gamma=31.622776601683793, kernel=linear;, score=0.571 total time=   0.0s\n",
      "[CV 5/10] END C=0.001, gamma=31.622776601683793, kernel=linear;, score=0.714 total time=   0.0s\n",
      "[CV 6/10] END C=0.001, gamma=31.622776601683793, kernel=linear;, score=0.714 total time=   0.0s\n",
      "[CV 7/10] END C=0.001, gamma=31.622776601683793, kernel=linear;, score=0.714 total time=   0.0s\n",
      "[CV 8/10] END C=0.001, gamma=31.622776601683793, kernel=linear;, score=0.714 total time=   0.0s\n",
      "[CV 9/10] END C=0.001, gamma=31.622776601683793, kernel=linear;, score=0.714 total time=   0.0s\n",
      "[CV 10/10] END C=0.001, gamma=31.622776601683793, kernel=linear;, score=0.714 total time=   0.0s\n",
      "[CV 1/10] END C=0.001, gamma=31.622776601683793, kernel=rbf;, score=0.625 total time=   0.0s\n",
      "[CV 2/10] END C=0.001, gamma=31.622776601683793, kernel=rbf;, score=0.625 total time=   0.0s\n",
      "[CV 3/10] END C=0.001, gamma=31.622776601683793, kernel=rbf;, score=0.571 total time=   0.0s\n",
      "[CV 4/10] END C=0.001, gamma=31.622776601683793, kernel=rbf;, score=0.571 total time=   0.0s\n",
      "[CV 5/10] END C=0.001, gamma=31.622776601683793, kernel=rbf;, score=0.714 total time=   0.0s\n",
      "[CV 6/10] END C=0.001, gamma=31.622776601683793, kernel=rbf;, score=0.714 total time=   0.0s\n",
      "[CV 7/10] END C=0.001, gamma=31.622776601683793, kernel=rbf;, score=0.714 total time=   0.0s\n",
      "[CV 8/10] END C=0.001, gamma=31.622776601683793, kernel=rbf;, score=0.714 total time=   0.0s\n",
      "[CV 9/10] END C=0.001, gamma=31.622776601683793, kernel=rbf;, score=0.714 total time=   0.0s\n",
      "[CV 10/10] END C=0.001, gamma=31.622776601683793, kernel=rbf;, score=0.714 total time=   0.0s\n",
      "[CV 1/10] END C=0.001, gamma=31.622776601683793, kernel=poly;, score=0.500 total time=   0.0s\n",
      "[CV 2/10] END C=0.001, gamma=31.622776601683793, kernel=poly;, score=0.625 total time=   0.0s\n",
      "[CV 3/10] END C=0.001, gamma=31.622776601683793, kernel=poly;, score=0.429 total time=   0.0s\n",
      "[CV 4/10] END C=0.001, gamma=31.622776601683793, kernel=poly;, score=0.571 total time=   0.0s\n",
      "[CV 5/10] END C=0.001, gamma=31.622776601683793, kernel=poly;, score=0.714 total time=   0.0s\n",
      "[CV 6/10] END C=0.001, gamma=31.622776601683793, kernel=poly;, score=0.714 total time=   0.0s\n",
      "[CV 7/10] END C=0.001, gamma=31.622776601683793, kernel=poly;, score=0.714 total time=   0.0s\n",
      "[CV 8/10] END C=0.001, gamma=31.622776601683793, kernel=poly;, score=0.571 total time=   0.0s\n",
      "[CV 9/10] END C=0.001, gamma=31.622776601683793, kernel=poly;, score=0.714 total time=   0.0s\n",
      "[CV 10/10] END C=0.001, gamma=31.622776601683793, kernel=poly;, score=0.714 total time=   0.0s\n",
      "[CV 1/10] END C=0.001, gamma=31.622776601683793, kernel=rbf;, score=0.625 total time=   0.0s\n",
      "[CV 2/10] END C=0.001, gamma=31.622776601683793, kernel=rbf;, score=0.625 total time=   0.0s\n",
      "[CV 3/10] END C=0.001, gamma=31.622776601683793, kernel=rbf;, score=0.571 total time=   0.0s\n",
      "[CV 4/10] END C=0.001, gamma=31.622776601683793, kernel=rbf;, score=0.571 total time=   0.0s\n",
      "[CV 5/10] END C=0.001, gamma=31.622776601683793, kernel=rbf;, score=0.714 total time=   0.0s\n",
      "[CV 6/10] END C=0.001, gamma=31.622776601683793, kernel=rbf;, score=0.714 total time=   0.0s\n",
      "[CV 7/10] END C=0.001, gamma=31.622776601683793, kernel=rbf;, score=0.714 total time=   0.0s\n",
      "[CV 8/10] END C=0.001, gamma=31.622776601683793, kernel=rbf;, score=0.714 total time=   0.0s\n",
      "[CV 9/10] END C=0.001, gamma=31.622776601683793, kernel=rbf;, score=0.714 total time=   0.0s\n",
      "[CV 10/10] END C=0.001, gamma=31.622776601683793, kernel=rbf;, score=0.714 total time=   0.0s\n",
      "[CV 1/10] END C=0.001, gamma=31.622776601683793, kernel=sigmoid;, score=0.625 total time=   0.0s\n",
      "[CV 2/10] END C=0.001, gamma=31.622776601683793, kernel=sigmoid;, score=0.625 total time=   0.0s\n",
      "[CV 3/10] END C=0.001, gamma=31.622776601683793, kernel=sigmoid;, score=0.571 total time=   0.0s\n",
      "[CV 4/10] END C=0.001, gamma=31.622776601683793, kernel=sigmoid;, score=0.571 total time=   0.0s\n",
      "[CV 5/10] END C=0.001, gamma=31.622776601683793, kernel=sigmoid;, score=0.714 total time=   0.0s\n",
      "[CV 6/10] END C=0.001, gamma=31.622776601683793, kernel=sigmoid;, score=0.714 total time=   0.0s\n",
      "[CV 7/10] END C=0.001, gamma=31.622776601683793, kernel=sigmoid;, score=0.714 total time=   0.0s\n",
      "[CV 8/10] END C=0.001, gamma=31.622776601683793, kernel=sigmoid;, score=0.714 total time=   0.0s\n",
      "[CV 9/10] END C=0.001, gamma=31.622776601683793, kernel=sigmoid;, score=0.714 total time=   0.0s\n",
      "[CV 10/10] END C=0.001, gamma=31.622776601683793, kernel=sigmoid;, score=0.714 total time=   0.0s\n",
      "[CV 1/10] END C=0.001, gamma=1000.0, kernel=linear;, score=0.625 total time=   0.0s\n",
      "[CV 2/10] END C=0.001, gamma=1000.0, kernel=linear;, score=0.625 total time=   0.0s\n",
      "[CV 3/10] END C=0.001, gamma=1000.0, kernel=linear;, score=0.571 total time=   0.0s\n",
      "[CV 4/10] END C=0.001, gamma=1000.0, kernel=linear;, score=0.571 total time=   0.0s\n",
      "[CV 5/10] END C=0.001, gamma=1000.0, kernel=linear;, score=0.714 total time=   0.0s\n",
      "[CV 6/10] END C=0.001, gamma=1000.0, kernel=linear;, score=0.714 total time=   0.0s\n",
      "[CV 7/10] END C=0.001, gamma=1000.0, kernel=linear;, score=0.714 total time=   0.0s\n",
      "[CV 8/10] END C=0.001, gamma=1000.0, kernel=linear;, score=0.714 total time=   0.0s\n",
      "[CV 9/10] END C=0.001, gamma=1000.0, kernel=linear;, score=0.714 total time=   0.0s\n",
      "[CV 10/10] END C=0.001, gamma=1000.0, kernel=linear;, score=0.714 total time=   0.0s\n",
      "[CV 1/10] END C=0.001, gamma=1000.0, kernel=rbf;, score=0.625 total time=   0.0s\n",
      "[CV 2/10] END C=0.001, gamma=1000.0, kernel=rbf;, score=0.625 total time=   0.0s\n",
      "[CV 3/10] END C=0.001, gamma=1000.0, kernel=rbf;, score=0.571 total time=   0.0s\n",
      "[CV 4/10] END C=0.001, gamma=1000.0, kernel=rbf;, score=0.571 total time=   0.0s\n",
      "[CV 5/10] END C=0.001, gamma=1000.0, kernel=rbf;, score=0.714 total time=   0.0s\n",
      "[CV 6/10] END C=0.001, gamma=1000.0, kernel=rbf;, score=0.714 total time=   0.0s\n",
      "[CV 7/10] END C=0.001, gamma=1000.0, kernel=rbf;, score=0.714 total time=   0.0s\n",
      "[CV 8/10] END C=0.001, gamma=1000.0, kernel=rbf;, score=0.714 total time=   0.0s\n",
      "[CV 9/10] END C=0.001, gamma=1000.0, kernel=rbf;, score=0.714 total time=   0.0s\n",
      "[CV 10/10] END C=0.001, gamma=1000.0, kernel=rbf;, score=0.714 total time=   0.0s\n",
      "[CV 1/10] END C=0.001, gamma=1000.0, kernel=poly;, score=0.500 total time=   0.0s\n",
      "[CV 2/10] END C=0.001, gamma=1000.0, kernel=poly;, score=0.625 total time=   0.0s\n",
      "[CV 3/10] END C=0.001, gamma=1000.0, kernel=poly;, score=0.429 total time=   0.0s\n",
      "[CV 4/10] END C=0.001, gamma=1000.0, kernel=poly;, score=0.571 total time=   0.0s\n",
      "[CV 5/10] END C=0.001, gamma=1000.0, kernel=poly;, score=0.714 total time=   0.0s\n",
      "[CV 6/10] END C=0.001, gamma=1000.0, kernel=poly;, score=0.714 total time=   0.0s\n",
      "[CV 7/10] END C=0.001, gamma=1000.0, kernel=poly;, score=0.714 total time=   0.0s\n",
      "[CV 8/10] END C=0.001, gamma=1000.0, kernel=poly;, score=0.571 total time=   0.0s\n",
      "[CV 9/10] END C=0.001, gamma=1000.0, kernel=poly;, score=0.714 total time=   0.0s\n",
      "[CV 10/10] END C=0.001, gamma=1000.0, kernel=poly;, score=0.714 total time=   0.0s\n",
      "[CV 1/10] END C=0.001, gamma=1000.0, kernel=rbf;, score=0.625 total time=   0.0s\n",
      "[CV 2/10] END C=0.001, gamma=1000.0, kernel=rbf;, score=0.625 total time=   0.0s\n",
      "[CV 3/10] END C=0.001, gamma=1000.0, kernel=rbf;, score=0.571 total time=   0.0s\n",
      "[CV 4/10] END C=0.001, gamma=1000.0, kernel=rbf;, score=0.571 total time=   0.0s\n",
      "[CV 5/10] END C=0.001, gamma=1000.0, kernel=rbf;, score=0.714 total time=   0.0s\n",
      "[CV 6/10] END C=0.001, gamma=1000.0, kernel=rbf;, score=0.714 total time=   0.0s\n",
      "[CV 7/10] END C=0.001, gamma=1000.0, kernel=rbf;, score=0.714 total time=   0.0s\n",
      "[CV 8/10] END C=0.001, gamma=1000.0, kernel=rbf;, score=0.714 total time=   0.0s\n",
      "[CV 9/10] END C=0.001, gamma=1000.0, kernel=rbf;, score=0.714 total time=   0.0s\n",
      "[CV 10/10] END C=0.001, gamma=1000.0, kernel=rbf;, score=0.714 total time=   0.0s\n",
      "[CV 1/10] END C=0.001, gamma=1000.0, kernel=sigmoid;, score=0.625 total time=   0.0s\n",
      "[CV 2/10] END C=0.001, gamma=1000.0, kernel=sigmoid;, score=0.625 total time=   0.0s\n",
      "[CV 3/10] END C=0.001, gamma=1000.0, kernel=sigmoid;, score=0.571 total time=   0.0s\n",
      "[CV 4/10] END C=0.001, gamma=1000.0, kernel=sigmoid;, score=0.571 total time=   0.0s\n",
      "[CV 5/10] END C=0.001, gamma=1000.0, kernel=sigmoid;, score=0.714 total time=   0.0s\n",
      "[CV 6/10] END C=0.001, gamma=1000.0, kernel=sigmoid;, score=0.714 total time=   0.0s\n",
      "[CV 7/10] END C=0.001, gamma=1000.0, kernel=sigmoid;, score=0.714 total time=   0.0s\n",
      "[CV 8/10] END C=0.001, gamma=1000.0, kernel=sigmoid;, score=0.714 total time=   0.0s\n",
      "[CV 9/10] END C=0.001, gamma=1000.0, kernel=sigmoid;, score=0.714 total time=   0.0s\n",
      "[CV 10/10] END C=0.001, gamma=1000.0, kernel=sigmoid;, score=0.714 total time=   0.0s\n",
      "[CV 1/10] END C=0.03162277660168379, gamma=0.001, kernel=linear;, score=0.875 total time=   0.0s\n",
      "[CV 2/10] END C=0.03162277660168379, gamma=0.001, kernel=linear;, score=0.625 total time=   0.0s\n",
      "[CV 3/10] END C=0.03162277660168379, gamma=0.001, kernel=linear;, score=0.857 total time=   0.0s\n",
      "[CV 4/10] END C=0.03162277660168379, gamma=0.001, kernel=linear;, score=0.714 total time=   0.0s\n",
      "[CV 5/10] END C=0.03162277660168379, gamma=0.001, kernel=linear;, score=1.000 total time=   0.0s\n",
      "[CV 6/10] END C=0.03162277660168379, gamma=0.001, kernel=linear;, score=0.857 total time=   0.0s\n",
      "[CV 7/10] END C=0.03162277660168379, gamma=0.001, kernel=linear;, score=0.857 total time=   0.0s\n",
      "[CV 8/10] END C=0.03162277660168379, gamma=0.001, kernel=linear;, score=0.857 total time=   0.0s\n",
      "[CV 9/10] END C=0.03162277660168379, gamma=0.001, kernel=linear;, score=0.714 total time=   0.0s\n",
      "[CV 10/10] END C=0.03162277660168379, gamma=0.001, kernel=linear;, score=0.857 total time=   0.0s\n",
      "[CV 1/10] END C=0.03162277660168379, gamma=0.001, kernel=rbf;, score=0.625 total time=   0.0s\n",
      "[CV 2/10] END C=0.03162277660168379, gamma=0.001, kernel=rbf;, score=0.625 total time=   0.0s\n",
      "[CV 3/10] END C=0.03162277660168379, gamma=0.001, kernel=rbf;, score=0.571 total time=   0.0s\n",
      "[CV 4/10] END C=0.03162277660168379, gamma=0.001, kernel=rbf;, score=0.571 total time=   0.0s\n",
      "[CV 5/10] END C=0.03162277660168379, gamma=0.001, kernel=rbf;, score=0.714 total time=   0.0s\n",
      "[CV 6/10] END C=0.03162277660168379, gamma=0.001, kernel=rbf;, score=0.714 total time=   0.0s\n",
      "[CV 7/10] END C=0.03162277660168379, gamma=0.001, kernel=rbf;, score=0.714 total time=   0.0s\n",
      "[CV 8/10] END C=0.03162277660168379, gamma=0.001, kernel=rbf;, score=0.714 total time=   0.0s\n",
      "[CV 9/10] END C=0.03162277660168379, gamma=0.001, kernel=rbf;, score=0.714 total time=   0.0s\n",
      "[CV 10/10] END C=0.03162277660168379, gamma=0.001, kernel=rbf;, score=0.714 total time=   0.0s\n",
      "[CV 1/10] END C=0.03162277660168379, gamma=0.001, kernel=poly;, score=0.625 total time=   0.0s\n",
      "[CV 2/10] END C=0.03162277660168379, gamma=0.001, kernel=poly;, score=0.625 total time=   0.0s\n",
      "[CV 3/10] END C=0.03162277660168379, gamma=0.001, kernel=poly;, score=0.571 total time=   0.0s\n",
      "[CV 4/10] END C=0.03162277660168379, gamma=0.001, kernel=poly;, score=0.571 total time=   0.0s\n",
      "[CV 5/10] END C=0.03162277660168379, gamma=0.001, kernel=poly;, score=0.714 total time=   0.0s\n",
      "[CV 6/10] END C=0.03162277660168379, gamma=0.001, kernel=poly;, score=0.714 total time=   0.0s\n",
      "[CV 7/10] END C=0.03162277660168379, gamma=0.001, kernel=poly;, score=0.714 total time=   0.0s\n",
      "[CV 8/10] END C=0.03162277660168379, gamma=0.001, kernel=poly;, score=0.714 total time=   0.0s\n",
      "[CV 9/10] END C=0.03162277660168379, gamma=0.001, kernel=poly;, score=0.714 total time=   0.0s\n",
      "[CV 10/10] END C=0.03162277660168379, gamma=0.001, kernel=poly;, score=0.714 total time=   0.0s\n",
      "[CV 1/10] END C=0.03162277660168379, gamma=0.001, kernel=rbf;, score=0.625 total time=   0.0s\n",
      "[CV 2/10] END C=0.03162277660168379, gamma=0.001, kernel=rbf;, score=0.625 total time=   0.0s\n",
      "[CV 3/10] END C=0.03162277660168379, gamma=0.001, kernel=rbf;, score=0.571 total time=   0.0s\n",
      "[CV 4/10] END C=0.03162277660168379, gamma=0.001, kernel=rbf;, score=0.571 total time=   0.0s\n",
      "[CV 5/10] END C=0.03162277660168379, gamma=0.001, kernel=rbf;, score=0.714 total time=   0.0s\n",
      "[CV 6/10] END C=0.03162277660168379, gamma=0.001, kernel=rbf;, score=0.714 total time=   0.0s\n",
      "[CV 7/10] END C=0.03162277660168379, gamma=0.001, kernel=rbf;, score=0.714 total time=   0.0s\n",
      "[CV 8/10] END C=0.03162277660168379, gamma=0.001, kernel=rbf;, score=0.714 total time=   0.0s\n",
      "[CV 9/10] END C=0.03162277660168379, gamma=0.001, kernel=rbf;, score=0.714 total time=   0.0s\n",
      "[CV 10/10] END C=0.03162277660168379, gamma=0.001, kernel=rbf;, score=0.714 total time=   0.0s\n",
      "[CV 1/10] END C=0.03162277660168379, gamma=0.001, kernel=sigmoid;, score=0.625 total time=   0.0s\n",
      "[CV 2/10] END C=0.03162277660168379, gamma=0.001, kernel=sigmoid;, score=0.625 total time=   0.0s\n",
      "[CV 3/10] END C=0.03162277660168379, gamma=0.001, kernel=sigmoid;, score=0.571 total time=   0.0s\n",
      "[CV 4/10] END C=0.03162277660168379, gamma=0.001, kernel=sigmoid;, score=0.571 total time=   0.0s\n",
      "[CV 5/10] END C=0.03162277660168379, gamma=0.001, kernel=sigmoid;, score=0.714 total time=   0.0s\n",
      "[CV 6/10] END C=0.03162277660168379, gamma=0.001, kernel=sigmoid;, score=0.714 total time=   0.0s\n",
      "[CV 7/10] END C=0.03162277660168379, gamma=0.001, kernel=sigmoid;, score=0.714 total time=   0.0s\n",
      "[CV 8/10] END C=0.03162277660168379, gamma=0.001, kernel=sigmoid;, score=0.714 total time=   0.0s\n",
      "[CV 9/10] END C=0.03162277660168379, gamma=0.001, kernel=sigmoid;, score=0.714 total time=   0.0s\n",
      "[CV 10/10] END C=0.03162277660168379, gamma=0.001, kernel=sigmoid;, score=0.714 total time=   0.0s\n",
      "[CV 1/10] END C=0.03162277660168379, gamma=0.03162277660168379, kernel=linear;, score=0.875 total time=   0.0s\n",
      "[CV 2/10] END C=0.03162277660168379, gamma=0.03162277660168379, kernel=linear;, score=0.625 total time=   0.0s\n",
      "[CV 3/10] END C=0.03162277660168379, gamma=0.03162277660168379, kernel=linear;, score=0.857 total time=   0.0s\n",
      "[CV 4/10] END C=0.03162277660168379, gamma=0.03162277660168379, kernel=linear;, score=0.714 total time=   0.0s\n",
      "[CV 5/10] END C=0.03162277660168379, gamma=0.03162277660168379, kernel=linear;, score=1.000 total time=   0.0s\n",
      "[CV 6/10] END C=0.03162277660168379, gamma=0.03162277660168379, kernel=linear;, score=0.857 total time=   0.0s\n",
      "[CV 7/10] END C=0.03162277660168379, gamma=0.03162277660168379, kernel=linear;, score=0.857 total time=   0.0s\n",
      "[CV 8/10] END C=0.03162277660168379, gamma=0.03162277660168379, kernel=linear;, score=0.857 total time=   0.0s\n",
      "[CV 9/10] END C=0.03162277660168379, gamma=0.03162277660168379, kernel=linear;, score=0.714 total time=   0.0s\n",
      "[CV 10/10] END C=0.03162277660168379, gamma=0.03162277660168379, kernel=linear;, score=0.857 total time=   0.0s\n",
      "[CV 1/10] END C=0.03162277660168379, gamma=0.03162277660168379, kernel=rbf;, score=0.625 total time=   0.0s\n",
      "[CV 2/10] END C=0.03162277660168379, gamma=0.03162277660168379, kernel=rbf;, score=0.625 total time=   0.0s\n",
      "[CV 3/10] END C=0.03162277660168379, gamma=0.03162277660168379, kernel=rbf;, score=0.571 total time=   0.0s\n",
      "[CV 4/10] END C=0.03162277660168379, gamma=0.03162277660168379, kernel=rbf;, score=0.571 total time=   0.0s\n",
      "[CV 5/10] END C=0.03162277660168379, gamma=0.03162277660168379, kernel=rbf;, score=0.714 total time=   0.0s\n",
      "[CV 6/10] END C=0.03162277660168379, gamma=0.03162277660168379, kernel=rbf;, score=0.714 total time=   0.0s\n",
      "[CV 7/10] END C=0.03162277660168379, gamma=0.03162277660168379, kernel=rbf;, score=0.714 total time=   0.0s\n",
      "[CV 8/10] END C=0.03162277660168379, gamma=0.03162277660168379, kernel=rbf;, score=0.714 total time=   0.0s\n",
      "[CV 9/10] END C=0.03162277660168379, gamma=0.03162277660168379, kernel=rbf;, score=0.714 total time=   0.0s\n",
      "[CV 10/10] END C=0.03162277660168379, gamma=0.03162277660168379, kernel=rbf;, score=0.714 total time=   0.0s\n",
      "[CV 1/10] END C=0.03162277660168379, gamma=0.03162277660168379, kernel=poly;, score=0.625 total time=   0.0s\n",
      "[CV 2/10] END C=0.03162277660168379, gamma=0.03162277660168379, kernel=poly;, score=0.625 total time=   0.0s\n",
      "[CV 3/10] END C=0.03162277660168379, gamma=0.03162277660168379, kernel=poly;, score=0.571 total time=   0.0s\n",
      "[CV 4/10] END C=0.03162277660168379, gamma=0.03162277660168379, kernel=poly;, score=0.571 total time=   0.0s\n",
      "[CV 5/10] END C=0.03162277660168379, gamma=0.03162277660168379, kernel=poly;, score=0.714 total time=   0.0s\n",
      "[CV 6/10] END C=0.03162277660168379, gamma=0.03162277660168379, kernel=poly;, score=0.714 total time=   0.0s\n",
      "[CV 7/10] END C=0.03162277660168379, gamma=0.03162277660168379, kernel=poly;, score=0.714 total time=   0.0s\n",
      "[CV 8/10] END C=0.03162277660168379, gamma=0.03162277660168379, kernel=poly;, score=0.714 total time=   0.0s\n",
      "[CV 9/10] END C=0.03162277660168379, gamma=0.03162277660168379, kernel=poly;, score=0.714 total time=   0.0s\n",
      "[CV 10/10] END C=0.03162277660168379, gamma=0.03162277660168379, kernel=poly;, score=0.714 total time=   0.0s\n",
      "[CV 1/10] END C=0.03162277660168379, gamma=0.03162277660168379, kernel=rbf;, score=0.625 total time=   0.0s\n",
      "[CV 2/10] END C=0.03162277660168379, gamma=0.03162277660168379, kernel=rbf;, score=0.625 total time=   0.0s\n",
      "[CV 3/10] END C=0.03162277660168379, gamma=0.03162277660168379, kernel=rbf;, score=0.571 total time=   0.0s\n",
      "[CV 4/10] END C=0.03162277660168379, gamma=0.03162277660168379, kernel=rbf;, score=0.571 total time=   0.0s\n",
      "[CV 5/10] END C=0.03162277660168379, gamma=0.03162277660168379, kernel=rbf;, score=0.714 total time=   0.0s\n",
      "[CV 6/10] END C=0.03162277660168379, gamma=0.03162277660168379, kernel=rbf;, score=0.714 total time=   0.0s\n",
      "[CV 7/10] END C=0.03162277660168379, gamma=0.03162277660168379, kernel=rbf;, score=0.714 total time=   0.0s\n",
      "[CV 8/10] END C=0.03162277660168379, gamma=0.03162277660168379, kernel=rbf;, score=0.714 total time=   0.0s\n",
      "[CV 9/10] END C=0.03162277660168379, gamma=0.03162277660168379, kernel=rbf;, score=0.714 total time=   0.0s\n",
      "[CV 10/10] END C=0.03162277660168379, gamma=0.03162277660168379, kernel=rbf;, score=0.714 total time=   0.0s\n",
      "[CV 1/10] END C=0.03162277660168379, gamma=0.03162277660168379, kernel=sigmoid;, score=0.625 total time=   0.0s\n",
      "[CV 2/10] END C=0.03162277660168379, gamma=0.03162277660168379, kernel=sigmoid;, score=0.625 total time=   0.0s\n",
      "[CV 3/10] END C=0.03162277660168379, gamma=0.03162277660168379, kernel=sigmoid;, score=0.571 total time=   0.0s\n",
      "[CV 4/10] END C=0.03162277660168379, gamma=0.03162277660168379, kernel=sigmoid;, score=0.571 total time=   0.0s\n",
      "[CV 5/10] END C=0.03162277660168379, gamma=0.03162277660168379, kernel=sigmoid;, score=0.714 total time=   0.0s\n",
      "[CV 6/10] END C=0.03162277660168379, gamma=0.03162277660168379, kernel=sigmoid;, score=0.714 total time=   0.0s\n",
      "[CV 7/10] END C=0.03162277660168379, gamma=0.03162277660168379, kernel=sigmoid;, score=0.714 total time=   0.0s\n",
      "[CV 8/10] END C=0.03162277660168379, gamma=0.03162277660168379, kernel=sigmoid;, score=0.714 total time=   0.0s\n",
      "[CV 9/10] END C=0.03162277660168379, gamma=0.03162277660168379, kernel=sigmoid;, score=0.714 total time=   0.0s\n",
      "[CV 10/10] END C=0.03162277660168379, gamma=0.03162277660168379, kernel=sigmoid;, score=0.714 total time=   0.0s\n",
      "[CV 1/10] END C=0.03162277660168379, gamma=1.0, kernel=linear;, score=0.875 total time=   0.0s\n",
      "[CV 2/10] END C=0.03162277660168379, gamma=1.0, kernel=linear;, score=0.625 total time=   0.0s\n",
      "[CV 3/10] END C=0.03162277660168379, gamma=1.0, kernel=linear;, score=0.857 total time=   0.0s\n",
      "[CV 4/10] END C=0.03162277660168379, gamma=1.0, kernel=linear;, score=0.714 total time=   0.0s\n",
      "[CV 5/10] END C=0.03162277660168379, gamma=1.0, kernel=linear;, score=1.000 total time=   0.0s\n",
      "[CV 6/10] END C=0.03162277660168379, gamma=1.0, kernel=linear;, score=0.857 total time=   0.0s\n",
      "[CV 7/10] END C=0.03162277660168379, gamma=1.0, kernel=linear;, score=0.857 total time=   0.0s\n",
      "[CV 8/10] END C=0.03162277660168379, gamma=1.0, kernel=linear;, score=0.857 total time=   0.0s\n",
      "[CV 9/10] END C=0.03162277660168379, gamma=1.0, kernel=linear;, score=0.714 total time=   0.0s\n",
      "[CV 10/10] END C=0.03162277660168379, gamma=1.0, kernel=linear;, score=0.857 total time=   0.0s\n",
      "[CV 1/10] END C=0.03162277660168379, gamma=1.0, kernel=rbf;, score=0.625 total time=   0.0s\n",
      "[CV 2/10] END C=0.03162277660168379, gamma=1.0, kernel=rbf;, score=0.625 total time=   0.0s\n",
      "[CV 3/10] END C=0.03162277660168379, gamma=1.0, kernel=rbf;, score=0.571 total time=   0.0s\n",
      "[CV 4/10] END C=0.03162277660168379, gamma=1.0, kernel=rbf;, score=0.571 total time=   0.0s\n",
      "[CV 5/10] END C=0.03162277660168379, gamma=1.0, kernel=rbf;, score=0.714 total time=   0.0s\n",
      "[CV 6/10] END C=0.03162277660168379, gamma=1.0, kernel=rbf;, score=0.714 total time=   0.0s\n",
      "[CV 7/10] END C=0.03162277660168379, gamma=1.0, kernel=rbf;, score=0.714 total time=   0.0s\n",
      "[CV 8/10] END C=0.03162277660168379, gamma=1.0, kernel=rbf;, score=0.714 total time=   0.0s\n",
      "[CV 9/10] END C=0.03162277660168379, gamma=1.0, kernel=rbf;, score=0.714 total time=   0.0s\n",
      "[CV 10/10] END C=0.03162277660168379, gamma=1.0, kernel=rbf;, score=0.714 total time=   0.0s\n",
      "[CV 1/10] END C=0.03162277660168379, gamma=1.0, kernel=poly;, score=0.500 total time=   0.0s\n",
      "[CV 2/10] END C=0.03162277660168379, gamma=1.0, kernel=poly;, score=0.625 total time=   0.0s\n",
      "[CV 3/10] END C=0.03162277660168379, gamma=1.0, kernel=poly;, score=0.429 total time=   0.0s\n",
      "[CV 4/10] END C=0.03162277660168379, gamma=1.0, kernel=poly;, score=0.571 total time=   0.0s\n",
      "[CV 5/10] END C=0.03162277660168379, gamma=1.0, kernel=poly;, score=0.714 total time=   0.0s\n",
      "[CV 6/10] END C=0.03162277660168379, gamma=1.0, kernel=poly;, score=0.714 total time=   0.0s\n",
      "[CV 7/10] END C=0.03162277660168379, gamma=1.0, kernel=poly;, score=0.714 total time=   0.0s\n",
      "[CV 8/10] END C=0.03162277660168379, gamma=1.0, kernel=poly;, score=0.571 total time=   0.0s\n",
      "[CV 9/10] END C=0.03162277660168379, gamma=1.0, kernel=poly;, score=0.714 total time=   0.0s\n",
      "[CV 10/10] END C=0.03162277660168379, gamma=1.0, kernel=poly;, score=0.714 total time=   0.0s\n",
      "[CV 1/10] END C=0.03162277660168379, gamma=1.0, kernel=rbf;, score=0.625 total time=   0.0s\n",
      "[CV 2/10] END C=0.03162277660168379, gamma=1.0, kernel=rbf;, score=0.625 total time=   0.0s\n",
      "[CV 3/10] END C=0.03162277660168379, gamma=1.0, kernel=rbf;, score=0.571 total time=   0.0s\n",
      "[CV 4/10] END C=0.03162277660168379, gamma=1.0, kernel=rbf;, score=0.571 total time=   0.0s\n",
      "[CV 5/10] END C=0.03162277660168379, gamma=1.0, kernel=rbf;, score=0.714 total time=   0.0s\n",
      "[CV 6/10] END C=0.03162277660168379, gamma=1.0, kernel=rbf;, score=0.714 total time=   0.0s\n",
      "[CV 7/10] END C=0.03162277660168379, gamma=1.0, kernel=rbf;, score=0.714 total time=   0.0s\n",
      "[CV 8/10] END C=0.03162277660168379, gamma=1.0, kernel=rbf;, score=0.714 total time=   0.0s\n",
      "[CV 9/10] END C=0.03162277660168379, gamma=1.0, kernel=rbf;, score=0.714 total time=   0.0s\n",
      "[CV 10/10] END C=0.03162277660168379, gamma=1.0, kernel=rbf;, score=0.714 total time=   0.0s\n",
      "[CV 1/10] END C=0.03162277660168379, gamma=1.0, kernel=sigmoid;, score=0.625 total time=   0.0s\n",
      "[CV 2/10] END C=0.03162277660168379, gamma=1.0, kernel=sigmoid;, score=0.625 total time=   0.0s\n",
      "[CV 3/10] END C=0.03162277660168379, gamma=1.0, kernel=sigmoid;, score=0.571 total time=   0.0s\n",
      "[CV 4/10] END C=0.03162277660168379, gamma=1.0, kernel=sigmoid;, score=0.571 total time=   0.0s\n",
      "[CV 5/10] END C=0.03162277660168379, gamma=1.0, kernel=sigmoid;, score=0.714 total time=   0.0s\n",
      "[CV 6/10] END C=0.03162277660168379, gamma=1.0, kernel=sigmoid;, score=0.714 total time=   0.0s\n",
      "[CV 7/10] END C=0.03162277660168379, gamma=1.0, kernel=sigmoid;, score=0.714 total time=   0.0s\n",
      "[CV 8/10] END C=0.03162277660168379, gamma=1.0, kernel=sigmoid;, score=0.857 total time=   0.0s\n",
      "[CV 9/10] END C=0.03162277660168379, gamma=1.0, kernel=sigmoid;, score=0.714 total time=   0.0s\n",
      "[CV 10/10] END C=0.03162277660168379, gamma=1.0, kernel=sigmoid;, score=0.714 total time=   0.0s\n",
      "[CV 1/10] END C=0.03162277660168379, gamma=31.622776601683793, kernel=linear;, score=0.875 total time=   0.0s\n",
      "[CV 2/10] END C=0.03162277660168379, gamma=31.622776601683793, kernel=linear;, score=0.625 total time=   0.0s\n",
      "[CV 3/10] END C=0.03162277660168379, gamma=31.622776601683793, kernel=linear;, score=0.857 total time=   0.0s\n",
      "[CV 4/10] END C=0.03162277660168379, gamma=31.622776601683793, kernel=linear;, score=0.714 total time=   0.0s\n",
      "[CV 5/10] END C=0.03162277660168379, gamma=31.622776601683793, kernel=linear;, score=1.000 total time=   0.0s\n",
      "[CV 6/10] END C=0.03162277660168379, gamma=31.622776601683793, kernel=linear;, score=0.857 total time=   0.0s\n",
      "[CV 7/10] END C=0.03162277660168379, gamma=31.622776601683793, kernel=linear;, score=0.857 total time=   0.0s\n",
      "[CV 8/10] END C=0.03162277660168379, gamma=31.622776601683793, kernel=linear;, score=0.857 total time=   0.0s\n",
      "[CV 9/10] END C=0.03162277660168379, gamma=31.622776601683793, kernel=linear;, score=0.714 total time=   0.0s\n",
      "[CV 10/10] END C=0.03162277660168379, gamma=31.622776601683793, kernel=linear;, score=0.857 total time=   0.0s\n",
      "[CV 1/10] END C=0.03162277660168379, gamma=31.622776601683793, kernel=rbf;, score=0.625 total time=   0.0s\n",
      "[CV 2/10] END C=0.03162277660168379, gamma=31.622776601683793, kernel=rbf;, score=0.625 total time=   0.0s\n",
      "[CV 3/10] END C=0.03162277660168379, gamma=31.622776601683793, kernel=rbf;, score=0.571 total time=   0.0s\n",
      "[CV 4/10] END C=0.03162277660168379, gamma=31.622776601683793, kernel=rbf;, score=0.571 total time=   0.0s\n",
      "[CV 5/10] END C=0.03162277660168379, gamma=31.622776601683793, kernel=rbf;, score=0.714 total time=   0.0s\n",
      "[CV 6/10] END C=0.03162277660168379, gamma=31.622776601683793, kernel=rbf;, score=0.714 total time=   0.0s\n",
      "[CV 7/10] END C=0.03162277660168379, gamma=31.622776601683793, kernel=rbf;, score=0.714 total time=   0.0s\n",
      "[CV 8/10] END C=0.03162277660168379, gamma=31.622776601683793, kernel=rbf;, score=0.714 total time=   0.0s\n",
      "[CV 9/10] END C=0.03162277660168379, gamma=31.622776601683793, kernel=rbf;, score=0.714 total time=   0.0s\n",
      "[CV 10/10] END C=0.03162277660168379, gamma=31.622776601683793, kernel=rbf;, score=0.714 total time=   0.0s\n",
      "[CV 1/10] END C=0.03162277660168379, gamma=31.622776601683793, kernel=poly;, score=0.500 total time=   0.0s\n",
      "[CV 2/10] END C=0.03162277660168379, gamma=31.622776601683793, kernel=poly;, score=0.625 total time=   0.0s\n",
      "[CV 3/10] END C=0.03162277660168379, gamma=31.622776601683793, kernel=poly;, score=0.429 total time=   0.0s\n",
      "[CV 4/10] END C=0.03162277660168379, gamma=31.622776601683793, kernel=poly;, score=0.571 total time=   0.0s\n",
      "[CV 5/10] END C=0.03162277660168379, gamma=31.622776601683793, kernel=poly;, score=0.714 total time=   0.0s\n",
      "[CV 6/10] END C=0.03162277660168379, gamma=31.622776601683793, kernel=poly;, score=0.714 total time=   0.0s\n",
      "[CV 7/10] END C=0.03162277660168379, gamma=31.622776601683793, kernel=poly;, score=0.714 total time=   0.0s\n",
      "[CV 8/10] END C=0.03162277660168379, gamma=31.622776601683793, kernel=poly;, score=0.571 total time=   0.0s\n",
      "[CV 9/10] END C=0.03162277660168379, gamma=31.622776601683793, kernel=poly;, score=0.714 total time=   0.0s\n",
      "[CV 10/10] END C=0.03162277660168379, gamma=31.622776601683793, kernel=poly;, score=0.714 total time=   0.0s\n",
      "[CV 1/10] END C=0.03162277660168379, gamma=31.622776601683793, kernel=rbf;, score=0.625 total time=   0.0s\n",
      "[CV 2/10] END C=0.03162277660168379, gamma=31.622776601683793, kernel=rbf;, score=0.625 total time=   0.0s\n",
      "[CV 3/10] END C=0.03162277660168379, gamma=31.622776601683793, kernel=rbf;, score=0.571 total time=   0.0s\n",
      "[CV 4/10] END C=0.03162277660168379, gamma=31.622776601683793, kernel=rbf;, score=0.571 total time=   0.0s\n",
      "[CV 5/10] END C=0.03162277660168379, gamma=31.622776601683793, kernel=rbf;, score=0.714 total time=   0.0s\n",
      "[CV 6/10] END C=0.03162277660168379, gamma=31.622776601683793, kernel=rbf;, score=0.714 total time=   0.0s\n",
      "[CV 7/10] END C=0.03162277660168379, gamma=31.622776601683793, kernel=rbf;, score=0.714 total time=   0.0s\n",
      "[CV 8/10] END C=0.03162277660168379, gamma=31.622776601683793, kernel=rbf;, score=0.714 total time=   0.0s\n",
      "[CV 9/10] END C=0.03162277660168379, gamma=31.622776601683793, kernel=rbf;, score=0.714 total time=   0.0s\n",
      "[CV 10/10] END C=0.03162277660168379, gamma=31.622776601683793, kernel=rbf;, score=0.714 total time=   0.0s\n",
      "[CV 1/10] END C=0.03162277660168379, gamma=31.622776601683793, kernel=sigmoid;, score=0.625 total time=   0.0s\n",
      "[CV 2/10] END C=0.03162277660168379, gamma=31.622776601683793, kernel=sigmoid;, score=0.625 total time=   0.0s\n",
      "[CV 3/10] END C=0.03162277660168379, gamma=31.622776601683793, kernel=sigmoid;, score=0.571 total time=   0.0s\n",
      "[CV 4/10] END C=0.03162277660168379, gamma=31.622776601683793, kernel=sigmoid;, score=0.571 total time=   0.0s\n",
      "[CV 5/10] END C=0.03162277660168379, gamma=31.622776601683793, kernel=sigmoid;, score=0.714 total time=   0.0s\n",
      "[CV 6/10] END C=0.03162277660168379, gamma=31.622776601683793, kernel=sigmoid;, score=0.714 total time=   0.0s\n",
      "[CV 7/10] END C=0.03162277660168379, gamma=31.622776601683793, kernel=sigmoid;, score=0.714 total time=   0.0s\n",
      "[CV 8/10] END C=0.03162277660168379, gamma=31.622776601683793, kernel=sigmoid;, score=0.714 total time=   0.0s\n",
      "[CV 9/10] END C=0.03162277660168379, gamma=31.622776601683793, kernel=sigmoid;, score=0.714 total time=   0.0s\n",
      "[CV 10/10] END C=0.03162277660168379, gamma=31.622776601683793, kernel=sigmoid;, score=0.714 total time=   0.0s\n",
      "[CV 1/10] END C=0.03162277660168379, gamma=1000.0, kernel=linear;, score=0.875 total time=   0.0s\n",
      "[CV 2/10] END C=0.03162277660168379, gamma=1000.0, kernel=linear;, score=0.625 total time=   0.0s\n",
      "[CV 3/10] END C=0.03162277660168379, gamma=1000.0, kernel=linear;, score=0.857 total time=   0.0s\n",
      "[CV 4/10] END C=0.03162277660168379, gamma=1000.0, kernel=linear;, score=0.714 total time=   0.0s\n",
      "[CV 5/10] END C=0.03162277660168379, gamma=1000.0, kernel=linear;, score=1.000 total time=   0.0s\n",
      "[CV 6/10] END C=0.03162277660168379, gamma=1000.0, kernel=linear;, score=0.857 total time=   0.0s\n",
      "[CV 7/10] END C=0.03162277660168379, gamma=1000.0, kernel=linear;, score=0.857 total time=   0.0s\n",
      "[CV 8/10] END C=0.03162277660168379, gamma=1000.0, kernel=linear;, score=0.857 total time=   0.0s\n",
      "[CV 9/10] END C=0.03162277660168379, gamma=1000.0, kernel=linear;, score=0.714 total time=   0.0s\n",
      "[CV 10/10] END C=0.03162277660168379, gamma=1000.0, kernel=linear;, score=0.857 total time=   0.0s\n",
      "[CV 1/10] END C=0.03162277660168379, gamma=1000.0, kernel=rbf;, score=0.625 total time=   0.0s\n",
      "[CV 2/10] END C=0.03162277660168379, gamma=1000.0, kernel=rbf;, score=0.625 total time=   0.0s\n",
      "[CV 3/10] END C=0.03162277660168379, gamma=1000.0, kernel=rbf;, score=0.571 total time=   0.0s\n",
      "[CV 4/10] END C=0.03162277660168379, gamma=1000.0, kernel=rbf;, score=0.571 total time=   0.0s\n",
      "[CV 5/10] END C=0.03162277660168379, gamma=1000.0, kernel=rbf;, score=0.714 total time=   0.0s\n",
      "[CV 6/10] END C=0.03162277660168379, gamma=1000.0, kernel=rbf;, score=0.714 total time=   0.0s\n",
      "[CV 7/10] END C=0.03162277660168379, gamma=1000.0, kernel=rbf;, score=0.714 total time=   0.0s\n",
      "[CV 8/10] END C=0.03162277660168379, gamma=1000.0, kernel=rbf;, score=0.714 total time=   0.0s\n",
      "[CV 9/10] END C=0.03162277660168379, gamma=1000.0, kernel=rbf;, score=0.714 total time=   0.0s\n",
      "[CV 10/10] END C=0.03162277660168379, gamma=1000.0, kernel=rbf;, score=0.714 total time=   0.0s\n",
      "[CV 1/10] END C=0.03162277660168379, gamma=1000.0, kernel=poly;, score=0.500 total time=   0.0s\n",
      "[CV 2/10] END C=0.03162277660168379, gamma=1000.0, kernel=poly;, score=0.625 total time=   0.0s\n",
      "[CV 3/10] END C=0.03162277660168379, gamma=1000.0, kernel=poly;, score=0.429 total time=   0.0s\n",
      "[CV 4/10] END C=0.03162277660168379, gamma=1000.0, kernel=poly;, score=0.571 total time=   0.0s\n",
      "[CV 5/10] END C=0.03162277660168379, gamma=1000.0, kernel=poly;, score=0.714 total time=   0.0s\n",
      "[CV 6/10] END C=0.03162277660168379, gamma=1000.0, kernel=poly;, score=0.714 total time=   0.0s\n",
      "[CV 7/10] END C=0.03162277660168379, gamma=1000.0, kernel=poly;, score=0.714 total time=   0.0s\n",
      "[CV 8/10] END C=0.03162277660168379, gamma=1000.0, kernel=poly;, score=0.571 total time=   0.0s\n",
      "[CV 9/10] END C=0.03162277660168379, gamma=1000.0, kernel=poly;, score=0.714 total time=   0.0s\n",
      "[CV 10/10] END C=0.03162277660168379, gamma=1000.0, kernel=poly;, score=0.714 total time=   0.0s\n",
      "[CV 1/10] END C=0.03162277660168379, gamma=1000.0, kernel=rbf;, score=0.625 total time=   0.0s\n",
      "[CV 2/10] END C=0.03162277660168379, gamma=1000.0, kernel=rbf;, score=0.625 total time=   0.0s\n",
      "[CV 3/10] END C=0.03162277660168379, gamma=1000.0, kernel=rbf;, score=0.571 total time=   0.0s\n",
      "[CV 4/10] END C=0.03162277660168379, gamma=1000.0, kernel=rbf;, score=0.571 total time=   0.0s\n",
      "[CV 5/10] END C=0.03162277660168379, gamma=1000.0, kernel=rbf;, score=0.714 total time=   0.0s\n",
      "[CV 6/10] END C=0.03162277660168379, gamma=1000.0, kernel=rbf;, score=0.714 total time=   0.0s\n",
      "[CV 7/10] END C=0.03162277660168379, gamma=1000.0, kernel=rbf;, score=0.714 total time=   0.0s\n",
      "[CV 8/10] END C=0.03162277660168379, gamma=1000.0, kernel=rbf;, score=0.714 total time=   0.0s\n",
      "[CV 9/10] END C=0.03162277660168379, gamma=1000.0, kernel=rbf;, score=0.714 total time=   0.0s\n",
      "[CV 10/10] END C=0.03162277660168379, gamma=1000.0, kernel=rbf;, score=0.714 total time=   0.0s\n",
      "[CV 1/10] END C=0.03162277660168379, gamma=1000.0, kernel=sigmoid;, score=0.625 total time=   0.0s\n",
      "[CV 2/10] END C=0.03162277660168379, gamma=1000.0, kernel=sigmoid;, score=0.625 total time=   0.0s\n",
      "[CV 3/10] END C=0.03162277660168379, gamma=1000.0, kernel=sigmoid;, score=0.571 total time=   0.0s\n",
      "[CV 4/10] END C=0.03162277660168379, gamma=1000.0, kernel=sigmoid;, score=0.571 total time=   0.0s\n",
      "[CV 5/10] END C=0.03162277660168379, gamma=1000.0, kernel=sigmoid;, score=0.714 total time=   0.0s\n",
      "[CV 6/10] END C=0.03162277660168379, gamma=1000.0, kernel=sigmoid;, score=0.714 total time=   0.0s\n",
      "[CV 7/10] END C=0.03162277660168379, gamma=1000.0, kernel=sigmoid;, score=0.714 total time=   0.0s\n",
      "[CV 8/10] END C=0.03162277660168379, gamma=1000.0, kernel=sigmoid;, score=0.714 total time=   0.0s\n",
      "[CV 9/10] END C=0.03162277660168379, gamma=1000.0, kernel=sigmoid;, score=0.714 total time=   0.0s\n",
      "[CV 10/10] END C=0.03162277660168379, gamma=1000.0, kernel=sigmoid;, score=0.714 total time=   0.0s\n",
      "[CV 1/10] END C=1.0, gamma=0.001, kernel=linear;, score=0.625 total time=   0.0s\n",
      "[CV 2/10] END C=1.0, gamma=0.001, kernel=linear;, score=0.625 total time=   0.0s\n",
      "[CV 3/10] END C=1.0, gamma=0.001, kernel=linear;, score=0.714 total time=   0.0s\n",
      "[CV 4/10] END C=1.0, gamma=0.001, kernel=linear;, score=0.571 total time=   0.0s\n",
      "[CV 5/10] END C=1.0, gamma=0.001, kernel=linear;, score=1.000 total time=   0.0s\n",
      "[CV 6/10] END C=1.0, gamma=0.001, kernel=linear;, score=0.857 total time=   0.0s\n",
      "[CV 7/10] END C=1.0, gamma=0.001, kernel=linear;, score=0.714 total time=   0.0s\n",
      "[CV 8/10] END C=1.0, gamma=0.001, kernel=linear;, score=0.571 total time=   0.0s\n",
      "[CV 9/10] END C=1.0, gamma=0.001, kernel=linear;, score=0.857 total time=   0.0s\n",
      "[CV 10/10] END C=1.0, gamma=0.001, kernel=linear;, score=0.857 total time=   0.0s\n",
      "[CV 1/10] END ...C=1.0, gamma=0.001, kernel=rbf;, score=0.625 total time=   0.0s\n",
      "[CV 2/10] END ...C=1.0, gamma=0.001, kernel=rbf;, score=0.625 total time=   0.0s\n",
      "[CV 3/10] END ...C=1.0, gamma=0.001, kernel=rbf;, score=0.571 total time=   0.0s\n",
      "[CV 4/10] END ...C=1.0, gamma=0.001, kernel=rbf;, score=0.571 total time=   0.0s\n",
      "[CV 5/10] END ...C=1.0, gamma=0.001, kernel=rbf;, score=0.714 total time=   0.0s\n",
      "[CV 6/10] END ...C=1.0, gamma=0.001, kernel=rbf;, score=0.714 total time=   0.0s\n",
      "[CV 7/10] END ...C=1.0, gamma=0.001, kernel=rbf;, score=0.714 total time=   0.0s\n",
      "[CV 8/10] END ...C=1.0, gamma=0.001, kernel=rbf;, score=0.714 total time=   0.0s\n",
      "[CV 9/10] END ...C=1.0, gamma=0.001, kernel=rbf;, score=0.714 total time=   0.0s\n",
      "[CV 10/10] END ..C=1.0, gamma=0.001, kernel=rbf;, score=0.714 total time=   0.0s\n",
      "[CV 1/10] END ..C=1.0, gamma=0.001, kernel=poly;, score=0.625 total time=   0.0s\n",
      "[CV 2/10] END ..C=1.0, gamma=0.001, kernel=poly;, score=0.625 total time=   0.0s\n",
      "[CV 3/10] END ..C=1.0, gamma=0.001, kernel=poly;, score=0.571 total time=   0.0s\n",
      "[CV 4/10] END ..C=1.0, gamma=0.001, kernel=poly;, score=0.571 total time=   0.0s\n",
      "[CV 5/10] END ..C=1.0, gamma=0.001, kernel=poly;, score=0.714 total time=   0.0s\n",
      "[CV 6/10] END ..C=1.0, gamma=0.001, kernel=poly;, score=0.714 total time=   0.0s\n",
      "[CV 7/10] END ..C=1.0, gamma=0.001, kernel=poly;, score=0.714 total time=   0.0s\n",
      "[CV 8/10] END ..C=1.0, gamma=0.001, kernel=poly;, score=0.714 total time=   0.0s\n",
      "[CV 9/10] END ..C=1.0, gamma=0.001, kernel=poly;, score=0.714 total time=   0.0s\n",
      "[CV 10/10] END .C=1.0, gamma=0.001, kernel=poly;, score=0.714 total time=   0.0s\n",
      "[CV 1/10] END ...C=1.0, gamma=0.001, kernel=rbf;, score=0.625 total time=   0.0s\n",
      "[CV 2/10] END ...C=1.0, gamma=0.001, kernel=rbf;, score=0.625 total time=   0.0s\n",
      "[CV 3/10] END ...C=1.0, gamma=0.001, kernel=rbf;, score=0.571 total time=   0.0s\n",
      "[CV 4/10] END ...C=1.0, gamma=0.001, kernel=rbf;, score=0.571 total time=   0.0s\n",
      "[CV 5/10] END ...C=1.0, gamma=0.001, kernel=rbf;, score=0.714 total time=   0.0s\n",
      "[CV 6/10] END ...C=1.0, gamma=0.001, kernel=rbf;, score=0.714 total time=   0.0s\n",
      "[CV 7/10] END ...C=1.0, gamma=0.001, kernel=rbf;, score=0.714 total time=   0.0s\n",
      "[CV 8/10] END ...C=1.0, gamma=0.001, kernel=rbf;, score=0.714 total time=   0.0s\n",
      "[CV 9/10] END ...C=1.0, gamma=0.001, kernel=rbf;, score=0.714 total time=   0.0s\n",
      "[CV 10/10] END ..C=1.0, gamma=0.001, kernel=rbf;, score=0.714 total time=   0.0s\n",
      "[CV 1/10] END C=1.0, gamma=0.001, kernel=sigmoid;, score=0.625 total time=   0.0s\n",
      "[CV 2/10] END C=1.0, gamma=0.001, kernel=sigmoid;, score=0.625 total time=   0.0s\n",
      "[CV 3/10] END C=1.0, gamma=0.001, kernel=sigmoid;, score=0.571 total time=   0.0s\n",
      "[CV 4/10] END C=1.0, gamma=0.001, kernel=sigmoid;, score=0.571 total time=   0.0s\n",
      "[CV 5/10] END C=1.0, gamma=0.001, kernel=sigmoid;, score=0.714 total time=   0.0s\n",
      "[CV 6/10] END C=1.0, gamma=0.001, kernel=sigmoid;, score=0.714 total time=   0.0s\n",
      "[CV 7/10] END C=1.0, gamma=0.001, kernel=sigmoid;, score=0.714 total time=   0.0s\n",
      "[CV 8/10] END C=1.0, gamma=0.001, kernel=sigmoid;, score=0.714 total time=   0.0s\n",
      "[CV 9/10] END C=1.0, gamma=0.001, kernel=sigmoid;, score=0.714 total time=   0.0s\n",
      "[CV 10/10] END C=1.0, gamma=0.001, kernel=sigmoid;, score=0.714 total time=   0.0s\n",
      "[CV 1/10] END C=1.0, gamma=0.03162277660168379, kernel=linear;, score=0.625 total time=   0.0s\n",
      "[CV 2/10] END C=1.0, gamma=0.03162277660168379, kernel=linear;, score=0.625 total time=   0.0s\n",
      "[CV 3/10] END C=1.0, gamma=0.03162277660168379, kernel=linear;, score=0.714 total time=   0.0s\n",
      "[CV 4/10] END C=1.0, gamma=0.03162277660168379, kernel=linear;, score=0.571 total time=   0.0s\n",
      "[CV 5/10] END C=1.0, gamma=0.03162277660168379, kernel=linear;, score=1.000 total time=   0.0s\n",
      "[CV 6/10] END C=1.0, gamma=0.03162277660168379, kernel=linear;, score=0.857 total time=   0.0s\n",
      "[CV 7/10] END C=1.0, gamma=0.03162277660168379, kernel=linear;, score=0.714 total time=   0.0s\n",
      "[CV 8/10] END C=1.0, gamma=0.03162277660168379, kernel=linear;, score=0.571 total time=   0.0s\n",
      "[CV 9/10] END C=1.0, gamma=0.03162277660168379, kernel=linear;, score=0.857 total time=   0.0s\n",
      "[CV 10/10] END C=1.0, gamma=0.03162277660168379, kernel=linear;, score=0.857 total time=   0.0s\n",
      "[CV 1/10] END C=1.0, gamma=0.03162277660168379, kernel=rbf;, score=0.625 total time=   0.0s\n",
      "[CV 2/10] END C=1.0, gamma=0.03162277660168379, kernel=rbf;, score=0.625 total time=   0.0s\n",
      "[CV 3/10] END C=1.0, gamma=0.03162277660168379, kernel=rbf;, score=0.571 total time=   0.0s\n",
      "[CV 4/10] END C=1.0, gamma=0.03162277660168379, kernel=rbf;, score=0.571 total time=   0.0s\n",
      "[CV 5/10] END C=1.0, gamma=0.03162277660168379, kernel=rbf;, score=0.714 total time=   0.0s\n",
      "[CV 6/10] END C=1.0, gamma=0.03162277660168379, kernel=rbf;, score=0.714 total time=   0.0s\n",
      "[CV 7/10] END C=1.0, gamma=0.03162277660168379, kernel=rbf;, score=0.714 total time=   0.0s\n",
      "[CV 8/10] END C=1.0, gamma=0.03162277660168379, kernel=rbf;, score=0.571 total time=   0.0s\n",
      "[CV 9/10] END C=1.0, gamma=0.03162277660168379, kernel=rbf;, score=0.714 total time=   0.0s\n",
      "[CV 10/10] END C=1.0, gamma=0.03162277660168379, kernel=rbf;, score=0.714 total time=   0.0s\n",
      "[CV 1/10] END C=1.0, gamma=0.03162277660168379, kernel=poly;, score=0.500 total time=   0.0s\n",
      "[CV 2/10] END C=1.0, gamma=0.03162277660168379, kernel=poly;, score=0.625 total time=   0.0s\n",
      "[CV 3/10] END C=1.0, gamma=0.03162277660168379, kernel=poly;, score=0.429 total time=   0.0s\n",
      "[CV 4/10] END C=1.0, gamma=0.03162277660168379, kernel=poly;, score=0.571 total time=   0.0s\n",
      "[CV 5/10] END C=1.0, gamma=0.03162277660168379, kernel=poly;, score=0.714 total time=   0.0s\n",
      "[CV 6/10] END C=1.0, gamma=0.03162277660168379, kernel=poly;, score=0.714 total time=   0.0s\n",
      "[CV 7/10] END C=1.0, gamma=0.03162277660168379, kernel=poly;, score=0.714 total time=   0.0s\n",
      "[CV 8/10] END C=1.0, gamma=0.03162277660168379, kernel=poly;, score=0.571 total time=   0.0s\n",
      "[CV 9/10] END C=1.0, gamma=0.03162277660168379, kernel=poly;, score=0.714 total time=   0.0s\n",
      "[CV 10/10] END C=1.0, gamma=0.03162277660168379, kernel=poly;, score=0.714 total time=   0.0s\n",
      "[CV 1/10] END C=1.0, gamma=0.03162277660168379, kernel=rbf;, score=0.625 total time=   0.0s\n",
      "[CV 2/10] END C=1.0, gamma=0.03162277660168379, kernel=rbf;, score=0.625 total time=   0.0s\n",
      "[CV 3/10] END C=1.0, gamma=0.03162277660168379, kernel=rbf;, score=0.571 total time=   0.0s\n",
      "[CV 4/10] END C=1.0, gamma=0.03162277660168379, kernel=rbf;, score=0.571 total time=   0.0s\n",
      "[CV 5/10] END C=1.0, gamma=0.03162277660168379, kernel=rbf;, score=0.714 total time=   0.0s\n",
      "[CV 6/10] END C=1.0, gamma=0.03162277660168379, kernel=rbf;, score=0.714 total time=   0.0s\n",
      "[CV 7/10] END C=1.0, gamma=0.03162277660168379, kernel=rbf;, score=0.714 total time=   0.0s\n",
      "[CV 8/10] END C=1.0, gamma=0.03162277660168379, kernel=rbf;, score=0.571 total time=   0.0s\n",
      "[CV 9/10] END C=1.0, gamma=0.03162277660168379, kernel=rbf;, score=0.714 total time=   0.0s\n",
      "[CV 10/10] END C=1.0, gamma=0.03162277660168379, kernel=rbf;, score=0.714 total time=   0.0s\n",
      "[CV 1/10] END C=1.0, gamma=0.03162277660168379, kernel=sigmoid;, score=1.000 total time=   0.0s\n",
      "[CV 2/10] END C=1.0, gamma=0.03162277660168379, kernel=sigmoid;, score=0.625 total time=   0.0s\n",
      "[CV 3/10] END C=1.0, gamma=0.03162277660168379, kernel=sigmoid;, score=0.857 total time=   0.0s\n",
      "[CV 4/10] END C=1.0, gamma=0.03162277660168379, kernel=sigmoid;, score=0.714 total time=   0.0s\n",
      "[CV 5/10] END C=1.0, gamma=0.03162277660168379, kernel=sigmoid;, score=1.000 total time=   0.0s\n",
      "[CV 6/10] END C=1.0, gamma=0.03162277660168379, kernel=sigmoid;, score=0.857 total time=   0.0s\n",
      "[CV 7/10] END C=1.0, gamma=0.03162277660168379, kernel=sigmoid;, score=0.857 total time=   0.0s\n",
      "[CV 8/10] END C=1.0, gamma=0.03162277660168379, kernel=sigmoid;, score=0.857 total time=   0.0s\n",
      "[CV 9/10] END C=1.0, gamma=0.03162277660168379, kernel=sigmoid;, score=0.857 total time=   0.0s\n",
      "[CV 10/10] END C=1.0, gamma=0.03162277660168379, kernel=sigmoid;, score=0.857 total time=   0.0s\n",
      "[CV 1/10] END ..C=1.0, gamma=1.0, kernel=linear;, score=0.625 total time=   0.0s\n",
      "[CV 2/10] END ..C=1.0, gamma=1.0, kernel=linear;, score=0.625 total time=   0.0s\n",
      "[CV 3/10] END ..C=1.0, gamma=1.0, kernel=linear;, score=0.714 total time=   0.0s\n",
      "[CV 4/10] END ..C=1.0, gamma=1.0, kernel=linear;, score=0.571 total time=   0.0s\n",
      "[CV 5/10] END ..C=1.0, gamma=1.0, kernel=linear;, score=1.000 total time=   0.0s\n",
      "[CV 6/10] END ..C=1.0, gamma=1.0, kernel=linear;, score=0.857 total time=   0.0s\n",
      "[CV 7/10] END ..C=1.0, gamma=1.0, kernel=linear;, score=0.714 total time=   0.0s\n",
      "[CV 8/10] END ..C=1.0, gamma=1.0, kernel=linear;, score=0.571 total time=   0.0s\n",
      "[CV 9/10] END ..C=1.0, gamma=1.0, kernel=linear;, score=0.857 total time=   0.0s\n",
      "[CV 10/10] END .C=1.0, gamma=1.0, kernel=linear;, score=0.857 total time=   0.0s\n",
      "[CV 1/10] END .....C=1.0, gamma=1.0, kernel=rbf;, score=0.625 total time=   0.0s\n",
      "[CV 2/10] END .....C=1.0, gamma=1.0, kernel=rbf;, score=0.625 total time=   0.0s\n",
      "[CV 3/10] END .....C=1.0, gamma=1.0, kernel=rbf;, score=0.571 total time=   0.0s\n",
      "[CV 4/10] END .....C=1.0, gamma=1.0, kernel=rbf;, score=0.571 total time=   0.0s\n",
      "[CV 5/10] END .....C=1.0, gamma=1.0, kernel=rbf;, score=0.714 total time=   0.0s\n",
      "[CV 6/10] END .....C=1.0, gamma=1.0, kernel=rbf;, score=0.714 total time=   0.0s\n",
      "[CV 7/10] END .....C=1.0, gamma=1.0, kernel=rbf;, score=0.714 total time=   0.0s\n",
      "[CV 8/10] END .....C=1.0, gamma=1.0, kernel=rbf;, score=0.714 total time=   0.0s\n",
      "[CV 9/10] END .....C=1.0, gamma=1.0, kernel=rbf;, score=0.714 total time=   0.0s\n",
      "[CV 10/10] END ....C=1.0, gamma=1.0, kernel=rbf;, score=0.714 total time=   0.0s\n",
      "[CV 1/10] END ....C=1.0, gamma=1.0, kernel=poly;, score=0.500 total time=   0.0s\n",
      "[CV 2/10] END ....C=1.0, gamma=1.0, kernel=poly;, score=0.625 total time=   0.0s\n",
      "[CV 3/10] END ....C=1.0, gamma=1.0, kernel=poly;, score=0.429 total time=   0.0s\n",
      "[CV 4/10] END ....C=1.0, gamma=1.0, kernel=poly;, score=0.571 total time=   0.0s\n",
      "[CV 5/10] END ....C=1.0, gamma=1.0, kernel=poly;, score=0.714 total time=   0.0s\n",
      "[CV 6/10] END ....C=1.0, gamma=1.0, kernel=poly;, score=0.714 total time=   0.0s\n",
      "[CV 7/10] END ....C=1.0, gamma=1.0, kernel=poly;, score=0.714 total time=   0.0s\n",
      "[CV 8/10] END ....C=1.0, gamma=1.0, kernel=poly;, score=0.571 total time=   0.0s\n",
      "[CV 9/10] END ....C=1.0, gamma=1.0, kernel=poly;, score=0.714 total time=   0.0s\n",
      "[CV 10/10] END ...C=1.0, gamma=1.0, kernel=poly;, score=0.714 total time=   0.0s\n",
      "[CV 1/10] END .....C=1.0, gamma=1.0, kernel=rbf;, score=0.625 total time=   0.0s\n",
      "[CV 2/10] END .....C=1.0, gamma=1.0, kernel=rbf;, score=0.625 total time=   0.0s\n",
      "[CV 3/10] END .....C=1.0, gamma=1.0, kernel=rbf;, score=0.571 total time=   0.0s\n",
      "[CV 4/10] END .....C=1.0, gamma=1.0, kernel=rbf;, score=0.571 total time=   0.0s\n",
      "[CV 5/10] END .....C=1.0, gamma=1.0, kernel=rbf;, score=0.714 total time=   0.0s\n",
      "[CV 6/10] END .....C=1.0, gamma=1.0, kernel=rbf;, score=0.714 total time=   0.0s\n",
      "[CV 7/10] END .....C=1.0, gamma=1.0, kernel=rbf;, score=0.714 total time=   0.0s\n",
      "[CV 8/10] END .....C=1.0, gamma=1.0, kernel=rbf;, score=0.714 total time=   0.0s\n",
      "[CV 9/10] END .....C=1.0, gamma=1.0, kernel=rbf;, score=0.714 total time=   0.0s\n",
      "[CV 10/10] END ....C=1.0, gamma=1.0, kernel=rbf;, score=0.714 total time=   0.0s\n",
      "[CV 1/10] END .C=1.0, gamma=1.0, kernel=sigmoid;, score=0.750 total time=   0.0s\n",
      "[CV 2/10] END .C=1.0, gamma=1.0, kernel=sigmoid;, score=0.625 total time=   0.0s\n",
      "[CV 3/10] END .C=1.0, gamma=1.0, kernel=sigmoid;, score=0.714 total time=   0.0s\n",
      "[CV 4/10] END .C=1.0, gamma=1.0, kernel=sigmoid;, score=0.714 total time=   0.0s\n",
      "[CV 5/10] END .C=1.0, gamma=1.0, kernel=sigmoid;, score=0.857 total time=   0.0s\n",
      "[CV 6/10] END .C=1.0, gamma=1.0, kernel=sigmoid;, score=0.714 total time=   0.0s\n",
      "[CV 7/10] END .C=1.0, gamma=1.0, kernel=sigmoid;, score=0.714 total time=   0.0s\n",
      "[CV 8/10] END .C=1.0, gamma=1.0, kernel=sigmoid;, score=0.714 total time=   0.0s\n",
      "[CV 9/10] END .C=1.0, gamma=1.0, kernel=sigmoid;, score=0.714 total time=   0.0s\n",
      "[CV 10/10] END C=1.0, gamma=1.0, kernel=sigmoid;, score=0.714 total time=   0.0s\n",
      "[CV 1/10] END C=1.0, gamma=31.622776601683793, kernel=linear;, score=0.625 total time=   0.0s\n",
      "[CV 2/10] END C=1.0, gamma=31.622776601683793, kernel=linear;, score=0.625 total time=   0.0s\n",
      "[CV 3/10] END C=1.0, gamma=31.622776601683793, kernel=linear;, score=0.714 total time=   0.0s\n",
      "[CV 4/10] END C=1.0, gamma=31.622776601683793, kernel=linear;, score=0.571 total time=   0.0s\n",
      "[CV 5/10] END C=1.0, gamma=31.622776601683793, kernel=linear;, score=1.000 total time=   0.0s\n",
      "[CV 6/10] END C=1.0, gamma=31.622776601683793, kernel=linear;, score=0.857 total time=   0.0s\n",
      "[CV 7/10] END C=1.0, gamma=31.622776601683793, kernel=linear;, score=0.714 total time=   0.0s\n",
      "[CV 8/10] END C=1.0, gamma=31.622776601683793, kernel=linear;, score=0.571 total time=   0.0s\n",
      "[CV 9/10] END C=1.0, gamma=31.622776601683793, kernel=linear;, score=0.857 total time=   0.0s\n",
      "[CV 10/10] END C=1.0, gamma=31.622776601683793, kernel=linear;, score=0.857 total time=   0.0s\n",
      "[CV 1/10] END C=1.0, gamma=31.622776601683793, kernel=rbf;, score=0.625 total time=   0.0s\n",
      "[CV 2/10] END C=1.0, gamma=31.622776601683793, kernel=rbf;, score=0.625 total time=   0.0s\n",
      "[CV 3/10] END C=1.0, gamma=31.622776601683793, kernel=rbf;, score=0.571 total time=   0.0s\n",
      "[CV 4/10] END C=1.0, gamma=31.622776601683793, kernel=rbf;, score=0.571 total time=   0.0s\n",
      "[CV 5/10] END C=1.0, gamma=31.622776601683793, kernel=rbf;, score=0.714 total time=   0.0s\n",
      "[CV 6/10] END C=1.0, gamma=31.622776601683793, kernel=rbf;, score=0.714 total time=   0.0s\n",
      "[CV 7/10] END C=1.0, gamma=31.622776601683793, kernel=rbf;, score=0.714 total time=   0.0s\n",
      "[CV 8/10] END C=1.0, gamma=31.622776601683793, kernel=rbf;, score=0.714 total time=   0.0s\n",
      "[CV 9/10] END C=1.0, gamma=31.622776601683793, kernel=rbf;, score=0.714 total time=   0.0s\n",
      "[CV 10/10] END C=1.0, gamma=31.622776601683793, kernel=rbf;, score=0.714 total time=   0.0s\n",
      "[CV 1/10] END C=1.0, gamma=31.622776601683793, kernel=poly;, score=0.500 total time=   0.0s\n",
      "[CV 2/10] END C=1.0, gamma=31.622776601683793, kernel=poly;, score=0.625 total time=   0.0s\n",
      "[CV 3/10] END C=1.0, gamma=31.622776601683793, kernel=poly;, score=0.429 total time=   0.0s\n",
      "[CV 4/10] END C=1.0, gamma=31.622776601683793, kernel=poly;, score=0.571 total time=   0.0s\n",
      "[CV 5/10] END C=1.0, gamma=31.622776601683793, kernel=poly;, score=0.714 total time=   0.0s\n",
      "[CV 6/10] END C=1.0, gamma=31.622776601683793, kernel=poly;, score=0.714 total time=   0.0s\n",
      "[CV 7/10] END C=1.0, gamma=31.622776601683793, kernel=poly;, score=0.714 total time=   0.0s\n",
      "[CV 8/10] END C=1.0, gamma=31.622776601683793, kernel=poly;, score=0.571 total time=   0.0s\n",
      "[CV 9/10] END C=1.0, gamma=31.622776601683793, kernel=poly;, score=0.714 total time=   0.0s\n",
      "[CV 10/10] END C=1.0, gamma=31.622776601683793, kernel=poly;, score=0.714 total time=   0.0s\n",
      "[CV 1/10] END C=1.0, gamma=31.622776601683793, kernel=rbf;, score=0.625 total time=   0.0s\n",
      "[CV 2/10] END C=1.0, gamma=31.622776601683793, kernel=rbf;, score=0.625 total time=   0.0s\n",
      "[CV 3/10] END C=1.0, gamma=31.622776601683793, kernel=rbf;, score=0.571 total time=   0.0s\n",
      "[CV 4/10] END C=1.0, gamma=31.622776601683793, kernel=rbf;, score=0.571 total time=   0.0s\n",
      "[CV 5/10] END C=1.0, gamma=31.622776601683793, kernel=rbf;, score=0.714 total time=   0.0s\n",
      "[CV 6/10] END C=1.0, gamma=31.622776601683793, kernel=rbf;, score=0.714 total time=   0.0s\n",
      "[CV 7/10] END C=1.0, gamma=31.622776601683793, kernel=rbf;, score=0.714 total time=   0.0s\n",
      "[CV 8/10] END C=1.0, gamma=31.622776601683793, kernel=rbf;, score=0.714 total time=   0.0s\n",
      "[CV 9/10] END C=1.0, gamma=31.622776601683793, kernel=rbf;, score=0.714 total time=   0.0s\n",
      "[CV 10/10] END C=1.0, gamma=31.622776601683793, kernel=rbf;, score=0.714 total time=   0.0s\n",
      "[CV 1/10] END C=1.0, gamma=31.622776601683793, kernel=sigmoid;, score=0.500 total time=   0.0s\n",
      "[CV 2/10] END C=1.0, gamma=31.622776601683793, kernel=sigmoid;, score=0.625 total time=   0.0s\n",
      "[CV 3/10] END C=1.0, gamma=31.622776601683793, kernel=sigmoid;, score=0.571 total time=   0.0s\n",
      "[CV 4/10] END C=1.0, gamma=31.622776601683793, kernel=sigmoid;, score=0.714 total time=   0.0s\n",
      "[CV 5/10] END C=1.0, gamma=31.622776601683793, kernel=sigmoid;, score=0.714 total time=   0.0s\n",
      "[CV 6/10] END C=1.0, gamma=31.622776601683793, kernel=sigmoid;, score=0.714 total time=   0.0s\n",
      "[CV 7/10] END C=1.0, gamma=31.622776601683793, kernel=sigmoid;, score=0.714 total time=   0.0s\n",
      "[CV 8/10] END C=1.0, gamma=31.622776601683793, kernel=sigmoid;, score=0.714 total time=   0.0s\n",
      "[CV 9/10] END C=1.0, gamma=31.622776601683793, kernel=sigmoid;, score=0.429 total time=   0.0s\n",
      "[CV 10/10] END C=1.0, gamma=31.622776601683793, kernel=sigmoid;, score=0.714 total time=   0.0s\n",
      "[CV 1/10] END C=1.0, gamma=1000.0, kernel=linear;, score=0.625 total time=   0.0s\n",
      "[CV 2/10] END C=1.0, gamma=1000.0, kernel=linear;, score=0.625 total time=   0.0s\n",
      "[CV 3/10] END C=1.0, gamma=1000.0, kernel=linear;, score=0.714 total time=   0.0s\n",
      "[CV 4/10] END C=1.0, gamma=1000.0, kernel=linear;, score=0.571 total time=   0.0s\n",
      "[CV 5/10] END C=1.0, gamma=1000.0, kernel=linear;, score=1.000 total time=   0.0s\n",
      "[CV 6/10] END C=1.0, gamma=1000.0, kernel=linear;, score=0.857 total time=   0.0s\n",
      "[CV 7/10] END C=1.0, gamma=1000.0, kernel=linear;, score=0.714 total time=   0.0s\n",
      "[CV 8/10] END C=1.0, gamma=1000.0, kernel=linear;, score=0.571 total time=   0.0s\n",
      "[CV 9/10] END C=1.0, gamma=1000.0, kernel=linear;, score=0.857 total time=   0.0s\n",
      "[CV 10/10] END C=1.0, gamma=1000.0, kernel=linear;, score=0.857 total time=   0.0s\n",
      "[CV 1/10] END ..C=1.0, gamma=1000.0, kernel=rbf;, score=0.625 total time=   0.0s\n",
      "[CV 2/10] END ..C=1.0, gamma=1000.0, kernel=rbf;, score=0.625 total time=   0.0s\n",
      "[CV 3/10] END ..C=1.0, gamma=1000.0, kernel=rbf;, score=0.571 total time=   0.0s\n",
      "[CV 4/10] END ..C=1.0, gamma=1000.0, kernel=rbf;, score=0.571 total time=   0.0s\n",
      "[CV 5/10] END ..C=1.0, gamma=1000.0, kernel=rbf;, score=0.714 total time=   0.0s\n",
      "[CV 6/10] END ..C=1.0, gamma=1000.0, kernel=rbf;, score=0.714 total time=   0.0s\n",
      "[CV 7/10] END ..C=1.0, gamma=1000.0, kernel=rbf;, score=0.714 total time=   0.0s\n",
      "[CV 8/10] END ..C=1.0, gamma=1000.0, kernel=rbf;, score=0.714 total time=   0.0s\n",
      "[CV 9/10] END ..C=1.0, gamma=1000.0, kernel=rbf;, score=0.714 total time=   0.0s\n",
      "[CV 10/10] END .C=1.0, gamma=1000.0, kernel=rbf;, score=0.714 total time=   0.0s\n",
      "[CV 1/10] END .C=1.0, gamma=1000.0, kernel=poly;, score=0.500 total time=   0.0s\n",
      "[CV 2/10] END .C=1.0, gamma=1000.0, kernel=poly;, score=0.625 total time=   0.0s\n",
      "[CV 3/10] END .C=1.0, gamma=1000.0, kernel=poly;, score=0.429 total time=   0.0s\n",
      "[CV 4/10] END .C=1.0, gamma=1000.0, kernel=poly;, score=0.571 total time=   0.0s\n",
      "[CV 5/10] END .C=1.0, gamma=1000.0, kernel=poly;, score=0.714 total time=   0.0s\n",
      "[CV 6/10] END .C=1.0, gamma=1000.0, kernel=poly;, score=0.714 total time=   0.0s\n",
      "[CV 7/10] END .C=1.0, gamma=1000.0, kernel=poly;, score=0.714 total time=   0.0s\n",
      "[CV 8/10] END .C=1.0, gamma=1000.0, kernel=poly;, score=0.571 total time=   0.0s\n",
      "[CV 9/10] END .C=1.0, gamma=1000.0, kernel=poly;, score=0.714 total time=   0.0s\n",
      "[CV 10/10] END C=1.0, gamma=1000.0, kernel=poly;, score=0.714 total time=   0.0s\n",
      "[CV 1/10] END ..C=1.0, gamma=1000.0, kernel=rbf;, score=0.625 total time=   0.0s\n",
      "[CV 2/10] END ..C=1.0, gamma=1000.0, kernel=rbf;, score=0.625 total time=   0.0s\n",
      "[CV 3/10] END ..C=1.0, gamma=1000.0, kernel=rbf;, score=0.571 total time=   0.0s\n",
      "[CV 4/10] END ..C=1.0, gamma=1000.0, kernel=rbf;, score=0.571 total time=   0.0s\n",
      "[CV 5/10] END ..C=1.0, gamma=1000.0, kernel=rbf;, score=0.714 total time=   0.0s\n",
      "[CV 6/10] END ..C=1.0, gamma=1000.0, kernel=rbf;, score=0.714 total time=   0.0s\n",
      "[CV 7/10] END ..C=1.0, gamma=1000.0, kernel=rbf;, score=0.714 total time=   0.0s\n",
      "[CV 8/10] END ..C=1.0, gamma=1000.0, kernel=rbf;, score=0.714 total time=   0.0s\n",
      "[CV 9/10] END ..C=1.0, gamma=1000.0, kernel=rbf;, score=0.714 total time=   0.0s\n",
      "[CV 10/10] END .C=1.0, gamma=1000.0, kernel=rbf;, score=0.714 total time=   0.0s\n",
      "[CV 1/10] END C=1.0, gamma=1000.0, kernel=sigmoid;, score=0.500 total time=   0.0s\n",
      "[CV 2/10] END C=1.0, gamma=1000.0, kernel=sigmoid;, score=0.625 total time=   0.0s\n",
      "[CV 3/10] END C=1.0, gamma=1000.0, kernel=sigmoid;, score=0.714 total time=   0.0s\n",
      "[CV 4/10] END C=1.0, gamma=1000.0, kernel=sigmoid;, score=0.714 total time=   0.0s\n",
      "[CV 5/10] END C=1.0, gamma=1000.0, kernel=sigmoid;, score=0.857 total time=   0.0s\n",
      "[CV 6/10] END C=1.0, gamma=1000.0, kernel=sigmoid;, score=0.714 total time=   0.0s\n",
      "[CV 7/10] END C=1.0, gamma=1000.0, kernel=sigmoid;, score=0.571 total time=   0.0s\n",
      "[CV 8/10] END C=1.0, gamma=1000.0, kernel=sigmoid;, score=0.714 total time=   0.0s\n",
      "[CV 9/10] END C=1.0, gamma=1000.0, kernel=sigmoid;, score=0.429 total time=   0.0s\n",
      "[CV 10/10] END C=1.0, gamma=1000.0, kernel=sigmoid;, score=0.571 total time=   0.0s\n",
      "[CV 1/10] END C=31.622776601683793, gamma=0.001, kernel=linear;, score=0.625 total time=   0.0s\n",
      "[CV 2/10] END C=31.622776601683793, gamma=0.001, kernel=linear;, score=0.625 total time=   0.0s\n",
      "[CV 3/10] END C=31.622776601683793, gamma=0.001, kernel=linear;, score=0.714 total time=   0.0s\n",
      "[CV 4/10] END C=31.622776601683793, gamma=0.001, kernel=linear;, score=0.571 total time=   0.0s\n",
      "[CV 5/10] END C=31.622776601683793, gamma=0.001, kernel=linear;, score=1.000 total time=   0.0s\n",
      "[CV 6/10] END C=31.622776601683793, gamma=0.001, kernel=linear;, score=0.857 total time=   0.0s\n",
      "[CV 7/10] END C=31.622776601683793, gamma=0.001, kernel=linear;, score=0.714 total time=   0.0s\n",
      "[CV 8/10] END C=31.622776601683793, gamma=0.001, kernel=linear;, score=0.571 total time=   0.0s\n",
      "[CV 9/10] END C=31.622776601683793, gamma=0.001, kernel=linear;, score=0.857 total time=   0.0s\n",
      "[CV 10/10] END C=31.622776601683793, gamma=0.001, kernel=linear;, score=0.857 total time=   0.0s\n",
      "[CV 1/10] END C=31.622776601683793, gamma=0.001, kernel=rbf;, score=0.875 total time=   0.0s\n",
      "[CV 2/10] END C=31.622776601683793, gamma=0.001, kernel=rbf;, score=0.625 total time=   0.0s\n",
      "[CV 3/10] END C=31.622776601683793, gamma=0.001, kernel=rbf;, score=0.714 total time=   0.0s\n",
      "[CV 4/10] END C=31.622776601683793, gamma=0.001, kernel=rbf;, score=0.714 total time=   0.0s\n",
      "[CV 5/10] END C=31.622776601683793, gamma=0.001, kernel=rbf;, score=1.000 total time=   0.0s\n",
      "[CV 6/10] END C=31.622776601683793, gamma=0.001, kernel=rbf;, score=0.857 total time=   0.0s\n",
      "[CV 7/10] END C=31.622776601683793, gamma=0.001, kernel=rbf;, score=0.857 total time=   0.0s\n",
      "[CV 8/10] END C=31.622776601683793, gamma=0.001, kernel=rbf;, score=0.857 total time=   0.0s\n",
      "[CV 9/10] END C=31.622776601683793, gamma=0.001, kernel=rbf;, score=0.714 total time=   0.0s\n",
      "[CV 10/10] END C=31.622776601683793, gamma=0.001, kernel=rbf;, score=0.857 total time=   0.0s\n",
      "[CV 1/10] END C=31.622776601683793, gamma=0.001, kernel=poly;, score=0.625 total time=   0.0s\n",
      "[CV 2/10] END C=31.622776601683793, gamma=0.001, kernel=poly;, score=0.625 total time=   0.0s\n",
      "[CV 3/10] END C=31.622776601683793, gamma=0.001, kernel=poly;, score=0.571 total time=   0.0s\n",
      "[CV 4/10] END C=31.622776601683793, gamma=0.001, kernel=poly;, score=0.571 total time=   0.0s\n",
      "[CV 5/10] END C=31.622776601683793, gamma=0.001, kernel=poly;, score=0.714 total time=   0.0s\n",
      "[CV 6/10] END C=31.622776601683793, gamma=0.001, kernel=poly;, score=0.714 total time=   0.0s\n",
      "[CV 7/10] END C=31.622776601683793, gamma=0.001, kernel=poly;, score=0.714 total time=   0.0s\n",
      "[CV 8/10] END C=31.622776601683793, gamma=0.001, kernel=poly;, score=0.714 total time=   0.0s\n",
      "[CV 9/10] END C=31.622776601683793, gamma=0.001, kernel=poly;, score=0.714 total time=   0.0s\n",
      "[CV 10/10] END C=31.622776601683793, gamma=0.001, kernel=poly;, score=0.714 total time=   0.0s\n",
      "[CV 1/10] END C=31.622776601683793, gamma=0.001, kernel=rbf;, score=0.875 total time=   0.0s\n",
      "[CV 2/10] END C=31.622776601683793, gamma=0.001, kernel=rbf;, score=0.625 total time=   0.0s\n",
      "[CV 3/10] END C=31.622776601683793, gamma=0.001, kernel=rbf;, score=0.714 total time=   0.0s\n",
      "[CV 4/10] END C=31.622776601683793, gamma=0.001, kernel=rbf;, score=0.714 total time=   0.0s\n",
      "[CV 5/10] END C=31.622776601683793, gamma=0.001, kernel=rbf;, score=1.000 total time=   0.0s\n",
      "[CV 6/10] END C=31.622776601683793, gamma=0.001, kernel=rbf;, score=0.857 total time=   0.0s\n",
      "[CV 7/10] END C=31.622776601683793, gamma=0.001, kernel=rbf;, score=0.857 total time=   0.0s\n",
      "[CV 8/10] END C=31.622776601683793, gamma=0.001, kernel=rbf;, score=0.857 total time=   0.0s\n",
      "[CV 9/10] END C=31.622776601683793, gamma=0.001, kernel=rbf;, score=0.714 total time=   0.0s\n",
      "[CV 10/10] END C=31.622776601683793, gamma=0.001, kernel=rbf;, score=0.857 total time=   0.0s\n",
      "[CV 1/10] END C=31.622776601683793, gamma=0.001, kernel=sigmoid;, score=0.875 total time=   0.0s\n",
      "[CV 2/10] END C=31.622776601683793, gamma=0.001, kernel=sigmoid;, score=0.625 total time=   0.0s\n",
      "[CV 3/10] END C=31.622776601683793, gamma=0.001, kernel=sigmoid;, score=0.857 total time=   0.0s\n",
      "[CV 4/10] END C=31.622776601683793, gamma=0.001, kernel=sigmoid;, score=0.714 total time=   0.0s\n",
      "[CV 5/10] END C=31.622776601683793, gamma=0.001, kernel=sigmoid;, score=1.000 total time=   0.0s\n",
      "[CV 6/10] END C=31.622776601683793, gamma=0.001, kernel=sigmoid;, score=0.857 total time=   0.0s\n",
      "[CV 7/10] END C=31.622776601683793, gamma=0.001, kernel=sigmoid;, score=0.857 total time=   0.0s\n",
      "[CV 8/10] END C=31.622776601683793, gamma=0.001, kernel=sigmoid;, score=0.857 total time=   0.0s\n",
      "[CV 9/10] END C=31.622776601683793, gamma=0.001, kernel=sigmoid;, score=0.714 total time=   0.0s\n",
      "[CV 10/10] END C=31.622776601683793, gamma=0.001, kernel=sigmoid;, score=0.857 total time=   0.0s\n",
      "[CV 1/10] END C=31.622776601683793, gamma=0.03162277660168379, kernel=linear;, score=0.625 total time=   0.0s\n",
      "[CV 2/10] END C=31.622776601683793, gamma=0.03162277660168379, kernel=linear;, score=0.625 total time=   0.0s\n",
      "[CV 3/10] END C=31.622776601683793, gamma=0.03162277660168379, kernel=linear;, score=0.714 total time=   0.0s\n",
      "[CV 4/10] END C=31.622776601683793, gamma=0.03162277660168379, kernel=linear;, score=0.571 total time=   0.0s\n",
      "[CV 5/10] END C=31.622776601683793, gamma=0.03162277660168379, kernel=linear;, score=1.000 total time=   0.0s\n",
      "[CV 6/10] END C=31.622776601683793, gamma=0.03162277660168379, kernel=linear;, score=0.857 total time=   0.0s\n",
      "[CV 7/10] END C=31.622776601683793, gamma=0.03162277660168379, kernel=linear;, score=0.714 total time=   0.0s\n",
      "[CV 8/10] END C=31.622776601683793, gamma=0.03162277660168379, kernel=linear;, score=0.571 total time=   0.0s\n",
      "[CV 9/10] END C=31.622776601683793, gamma=0.03162277660168379, kernel=linear;, score=0.857 total time=   0.0s\n",
      "[CV 10/10] END C=31.622776601683793, gamma=0.03162277660168379, kernel=linear;, score=0.857 total time=   0.0s\n",
      "[CV 1/10] END C=31.622776601683793, gamma=0.03162277660168379, kernel=rbf;, score=0.500 total time=   0.0s\n",
      "[CV 2/10] END C=31.622776601683793, gamma=0.03162277660168379, kernel=rbf;, score=0.625 total time=   0.0s\n",
      "[CV 3/10] END C=31.622776601683793, gamma=0.03162277660168379, kernel=rbf;, score=0.429 total time=   0.0s\n",
      "[CV 4/10] END C=31.622776601683793, gamma=0.03162277660168379, kernel=rbf;, score=0.571 total time=   0.0s\n",
      "[CV 5/10] END C=31.622776601683793, gamma=0.03162277660168379, kernel=rbf;, score=0.714 total time=   0.0s\n",
      "[CV 6/10] END C=31.622776601683793, gamma=0.03162277660168379, kernel=rbf;, score=0.714 total time=   0.0s\n",
      "[CV 7/10] END C=31.622776601683793, gamma=0.03162277660168379, kernel=rbf;, score=0.714 total time=   0.0s\n",
      "[CV 8/10] END C=31.622776601683793, gamma=0.03162277660168379, kernel=rbf;, score=0.571 total time=   0.0s\n",
      "[CV 9/10] END C=31.622776601683793, gamma=0.03162277660168379, kernel=rbf;, score=0.714 total time=   0.0s\n",
      "[CV 10/10] END C=31.622776601683793, gamma=0.03162277660168379, kernel=rbf;, score=0.714 total time=   0.0s\n",
      "[CV 1/10] END C=31.622776601683793, gamma=0.03162277660168379, kernel=poly;, score=0.500 total time=   0.0s\n",
      "[CV 2/10] END C=31.622776601683793, gamma=0.03162277660168379, kernel=poly;, score=0.625 total time=   0.0s\n",
      "[CV 3/10] END C=31.622776601683793, gamma=0.03162277660168379, kernel=poly;, score=0.429 total time=   0.0s\n",
      "[CV 4/10] END C=31.622776601683793, gamma=0.03162277660168379, kernel=poly;, score=0.571 total time=   0.0s\n",
      "[CV 5/10] END C=31.622776601683793, gamma=0.03162277660168379, kernel=poly;, score=0.714 total time=   0.0s\n",
      "[CV 6/10] END C=31.622776601683793, gamma=0.03162277660168379, kernel=poly;, score=0.714 total time=   0.0s\n",
      "[CV 7/10] END C=31.622776601683793, gamma=0.03162277660168379, kernel=poly;, score=0.714 total time=   0.0s\n",
      "[CV 8/10] END C=31.622776601683793, gamma=0.03162277660168379, kernel=poly;, score=0.571 total time=   0.0s\n",
      "[CV 9/10] END C=31.622776601683793, gamma=0.03162277660168379, kernel=poly;, score=0.714 total time=   0.0s\n",
      "[CV 10/10] END C=31.622776601683793, gamma=0.03162277660168379, kernel=poly;, score=0.714 total time=   0.0s\n",
      "[CV 1/10] END C=31.622776601683793, gamma=0.03162277660168379, kernel=rbf;, score=0.500 total time=   0.0s\n",
      "[CV 2/10] END C=31.622776601683793, gamma=0.03162277660168379, kernel=rbf;, score=0.625 total time=   0.0s\n",
      "[CV 3/10] END C=31.622776601683793, gamma=0.03162277660168379, kernel=rbf;, score=0.429 total time=   0.0s\n",
      "[CV 4/10] END C=31.622776601683793, gamma=0.03162277660168379, kernel=rbf;, score=0.571 total time=   0.0s\n",
      "[CV 5/10] END C=31.622776601683793, gamma=0.03162277660168379, kernel=rbf;, score=0.714 total time=   0.0s\n",
      "[CV 6/10] END C=31.622776601683793, gamma=0.03162277660168379, kernel=rbf;, score=0.714 total time=   0.0s\n",
      "[CV 7/10] END C=31.622776601683793, gamma=0.03162277660168379, kernel=rbf;, score=0.714 total time=   0.0s\n",
      "[CV 8/10] END C=31.622776601683793, gamma=0.03162277660168379, kernel=rbf;, score=0.571 total time=   0.0s\n",
      "[CV 9/10] END C=31.622776601683793, gamma=0.03162277660168379, kernel=rbf;, score=0.714 total time=   0.0s\n",
      "[CV 10/10] END C=31.622776601683793, gamma=0.03162277660168379, kernel=rbf;, score=0.714 total time=   0.0s\n",
      "[CV 1/10] END C=31.622776601683793, gamma=0.03162277660168379, kernel=sigmoid;, score=0.625 total time=   0.0s\n",
      "[CV 2/10] END C=31.622776601683793, gamma=0.03162277660168379, kernel=sigmoid;, score=0.625 total time=   0.0s\n",
      "[CV 3/10] END C=31.622776601683793, gamma=0.03162277660168379, kernel=sigmoid;, score=0.714 total time=   0.0s\n",
      "[CV 4/10] END C=31.622776601683793, gamma=0.03162277660168379, kernel=sigmoid;, score=0.714 total time=   0.0s\n",
      "[CV 5/10] END C=31.622776601683793, gamma=0.03162277660168379, kernel=sigmoid;, score=1.000 total time=   0.0s\n",
      "[CV 6/10] END C=31.622776601683793, gamma=0.03162277660168379, kernel=sigmoid;, score=0.714 total time=   0.0s\n",
      "[CV 7/10] END C=31.622776601683793, gamma=0.03162277660168379, kernel=sigmoid;, score=0.857 total time=   0.0s\n",
      "[CV 8/10] END C=31.622776601683793, gamma=0.03162277660168379, kernel=sigmoid;, score=0.714 total time=   0.0s\n",
      "[CV 9/10] END C=31.622776601683793, gamma=0.03162277660168379, kernel=sigmoid;, score=1.000 total time=   0.0s\n",
      "[CV 10/10] END C=31.622776601683793, gamma=0.03162277660168379, kernel=sigmoid;, score=0.857 total time=   0.0s\n",
      "[CV 1/10] END C=31.622776601683793, gamma=1.0, kernel=linear;, score=0.625 total time=   0.0s\n",
      "[CV 2/10] END C=31.622776601683793, gamma=1.0, kernel=linear;, score=0.625 total time=   0.0s\n",
      "[CV 3/10] END C=31.622776601683793, gamma=1.0, kernel=linear;, score=0.714 total time=   0.0s\n",
      "[CV 4/10] END C=31.622776601683793, gamma=1.0, kernel=linear;, score=0.571 total time=   0.0s\n",
      "[CV 5/10] END C=31.622776601683793, gamma=1.0, kernel=linear;, score=1.000 total time=   0.0s\n",
      "[CV 6/10] END C=31.622776601683793, gamma=1.0, kernel=linear;, score=0.857 total time=   0.0s\n",
      "[CV 7/10] END C=31.622776601683793, gamma=1.0, kernel=linear;, score=0.714 total time=   0.0s\n",
      "[CV 8/10] END C=31.622776601683793, gamma=1.0, kernel=linear;, score=0.571 total time=   0.0s\n",
      "[CV 9/10] END C=31.622776601683793, gamma=1.0, kernel=linear;, score=0.857 total time=   0.0s\n",
      "[CV 10/10] END C=31.622776601683793, gamma=1.0, kernel=linear;, score=0.857 total time=   0.0s\n",
      "[CV 1/10] END C=31.622776601683793, gamma=1.0, kernel=rbf;, score=0.625 total time=   0.0s\n",
      "[CV 2/10] END C=31.622776601683793, gamma=1.0, kernel=rbf;, score=0.625 total time=   0.0s\n",
      "[CV 3/10] END C=31.622776601683793, gamma=1.0, kernel=rbf;, score=0.571 total time=   0.0s\n",
      "[CV 4/10] END C=31.622776601683793, gamma=1.0, kernel=rbf;, score=0.571 total time=   0.0s\n",
      "[CV 5/10] END C=31.622776601683793, gamma=1.0, kernel=rbf;, score=0.714 total time=   0.0s\n",
      "[CV 6/10] END C=31.622776601683793, gamma=1.0, kernel=rbf;, score=0.714 total time=   0.0s\n",
      "[CV 7/10] END C=31.622776601683793, gamma=1.0, kernel=rbf;, score=0.714 total time=   0.0s\n",
      "[CV 8/10] END C=31.622776601683793, gamma=1.0, kernel=rbf;, score=0.714 total time=   0.0s\n",
      "[CV 9/10] END C=31.622776601683793, gamma=1.0, kernel=rbf;, score=0.714 total time=   0.0s\n",
      "[CV 10/10] END C=31.622776601683793, gamma=1.0, kernel=rbf;, score=0.714 total time=   0.0s\n",
      "[CV 1/10] END C=31.622776601683793, gamma=1.0, kernel=poly;, score=0.500 total time=   0.0s\n",
      "[CV 2/10] END C=31.622776601683793, gamma=1.0, kernel=poly;, score=0.625 total time=   0.0s\n",
      "[CV 3/10] END C=31.622776601683793, gamma=1.0, kernel=poly;, score=0.429 total time=   0.0s\n",
      "[CV 4/10] END C=31.622776601683793, gamma=1.0, kernel=poly;, score=0.571 total time=   0.0s\n",
      "[CV 5/10] END C=31.622776601683793, gamma=1.0, kernel=poly;, score=0.714 total time=   0.0s\n",
      "[CV 6/10] END C=31.622776601683793, gamma=1.0, kernel=poly;, score=0.714 total time=   0.0s\n",
      "[CV 7/10] END C=31.622776601683793, gamma=1.0, kernel=poly;, score=0.714 total time=   0.0s\n",
      "[CV 8/10] END C=31.622776601683793, gamma=1.0, kernel=poly;, score=0.571 total time=   0.0s\n",
      "[CV 9/10] END C=31.622776601683793, gamma=1.0, kernel=poly;, score=0.714 total time=   0.0s\n",
      "[CV 10/10] END C=31.622776601683793, gamma=1.0, kernel=poly;, score=0.714 total time=   0.0s\n",
      "[CV 1/10] END C=31.622776601683793, gamma=1.0, kernel=rbf;, score=0.625 total time=   0.0s\n",
      "[CV 2/10] END C=31.622776601683793, gamma=1.0, kernel=rbf;, score=0.625 total time=   0.0s\n",
      "[CV 3/10] END C=31.622776601683793, gamma=1.0, kernel=rbf;, score=0.571 total time=   0.0s\n",
      "[CV 4/10] END C=31.622776601683793, gamma=1.0, kernel=rbf;, score=0.571 total time=   0.0s\n",
      "[CV 5/10] END C=31.622776601683793, gamma=1.0, kernel=rbf;, score=0.714 total time=   0.0s\n",
      "[CV 6/10] END C=31.622776601683793, gamma=1.0, kernel=rbf;, score=0.714 total time=   0.0s\n",
      "[CV 7/10] END C=31.622776601683793, gamma=1.0, kernel=rbf;, score=0.714 total time=   0.0s\n",
      "[CV 8/10] END C=31.622776601683793, gamma=1.0, kernel=rbf;, score=0.714 total time=   0.0s\n",
      "[CV 9/10] END C=31.622776601683793, gamma=1.0, kernel=rbf;, score=0.714 total time=   0.0s\n",
      "[CV 10/10] END C=31.622776601683793, gamma=1.0, kernel=rbf;, score=0.714 total time=   0.0s\n",
      "[CV 1/10] END C=31.622776601683793, gamma=1.0, kernel=sigmoid;, score=0.750 total time=   0.0s\n",
      "[CV 2/10] END C=31.622776601683793, gamma=1.0, kernel=sigmoid;, score=0.625 total time=   0.0s\n",
      "[CV 3/10] END C=31.622776601683793, gamma=1.0, kernel=sigmoid;, score=0.571 total time=   0.0s\n",
      "[CV 4/10] END C=31.622776601683793, gamma=1.0, kernel=sigmoid;, score=0.714 total time=   0.0s\n",
      "[CV 5/10] END C=31.622776601683793, gamma=1.0, kernel=sigmoid;, score=0.571 total time=   0.0s\n",
      "[CV 6/10] END C=31.622776601683793, gamma=1.0, kernel=sigmoid;, score=0.714 total time=   0.0s\n",
      "[CV 7/10] END C=31.622776601683793, gamma=1.0, kernel=sigmoid;, score=0.714 total time=   0.0s\n",
      "[CV 8/10] END C=31.622776601683793, gamma=1.0, kernel=sigmoid;, score=0.714 total time=   0.0s\n",
      "[CV 9/10] END C=31.622776601683793, gamma=1.0, kernel=sigmoid;, score=0.429 total time=   0.0s\n",
      "[CV 10/10] END C=31.622776601683793, gamma=1.0, kernel=sigmoid;, score=0.857 total time=   0.0s\n",
      "[CV 1/10] END C=31.622776601683793, gamma=31.622776601683793, kernel=linear;, score=0.625 total time=   0.0s\n",
      "[CV 2/10] END C=31.622776601683793, gamma=31.622776601683793, kernel=linear;, score=0.625 total time=   0.0s\n",
      "[CV 3/10] END C=31.622776601683793, gamma=31.622776601683793, kernel=linear;, score=0.714 total time=   0.0s\n",
      "[CV 4/10] END C=31.622776601683793, gamma=31.622776601683793, kernel=linear;, score=0.571 total time=   0.0s\n",
      "[CV 5/10] END C=31.622776601683793, gamma=31.622776601683793, kernel=linear;, score=1.000 total time=   0.0s\n",
      "[CV 6/10] END C=31.622776601683793, gamma=31.622776601683793, kernel=linear;, score=0.857 total time=   0.0s\n",
      "[CV 7/10] END C=31.622776601683793, gamma=31.622776601683793, kernel=linear;, score=0.714 total time=   0.0s\n",
      "[CV 8/10] END C=31.622776601683793, gamma=31.622776601683793, kernel=linear;, score=0.571 total time=   0.0s\n",
      "[CV 9/10] END C=31.622776601683793, gamma=31.622776601683793, kernel=linear;, score=0.857 total time=   0.0s\n",
      "[CV 10/10] END C=31.622776601683793, gamma=31.622776601683793, kernel=linear;, score=0.857 total time=   0.0s\n",
      "[CV 1/10] END C=31.622776601683793, gamma=31.622776601683793, kernel=rbf;, score=0.625 total time=   0.0s\n",
      "[CV 2/10] END C=31.622776601683793, gamma=31.622776601683793, kernel=rbf;, score=0.625 total time=   0.0s\n",
      "[CV 3/10] END C=31.622776601683793, gamma=31.622776601683793, kernel=rbf;, score=0.571 total time=   0.0s\n",
      "[CV 4/10] END C=31.622776601683793, gamma=31.622776601683793, kernel=rbf;, score=0.571 total time=   0.0s\n",
      "[CV 5/10] END C=31.622776601683793, gamma=31.622776601683793, kernel=rbf;, score=0.714 total time=   0.0s\n",
      "[CV 6/10] END C=31.622776601683793, gamma=31.622776601683793, kernel=rbf;, score=0.714 total time=   0.0s\n",
      "[CV 7/10] END C=31.622776601683793, gamma=31.622776601683793, kernel=rbf;, score=0.714 total time=   0.0s\n",
      "[CV 8/10] END C=31.622776601683793, gamma=31.622776601683793, kernel=rbf;, score=0.714 total time=   0.0s\n",
      "[CV 9/10] END C=31.622776601683793, gamma=31.622776601683793, kernel=rbf;, score=0.714 total time=   0.0s\n",
      "[CV 10/10] END C=31.622776601683793, gamma=31.622776601683793, kernel=rbf;, score=0.714 total time=   0.0s\n",
      "[CV 1/10] END C=31.622776601683793, gamma=31.622776601683793, kernel=poly;, score=0.500 total time=   0.0s\n",
      "[CV 2/10] END C=31.622776601683793, gamma=31.622776601683793, kernel=poly;, score=0.625 total time=   0.0s\n",
      "[CV 3/10] END C=31.622776601683793, gamma=31.622776601683793, kernel=poly;, score=0.429 total time=   0.0s\n",
      "[CV 4/10] END C=31.622776601683793, gamma=31.622776601683793, kernel=poly;, score=0.571 total time=   0.0s\n",
      "[CV 5/10] END C=31.622776601683793, gamma=31.622776601683793, kernel=poly;, score=0.714 total time=   0.0s\n",
      "[CV 6/10] END C=31.622776601683793, gamma=31.622776601683793, kernel=poly;, score=0.714 total time=   0.0s\n",
      "[CV 7/10] END C=31.622776601683793, gamma=31.622776601683793, kernel=poly;, score=0.714 total time=   0.0s\n",
      "[CV 8/10] END C=31.622776601683793, gamma=31.622776601683793, kernel=poly;, score=0.571 total time=   0.0s\n",
      "[CV 9/10] END C=31.622776601683793, gamma=31.622776601683793, kernel=poly;, score=0.714 total time=   0.0s\n",
      "[CV 10/10] END C=31.622776601683793, gamma=31.622776601683793, kernel=poly;, score=0.714 total time=   0.0s\n",
      "[CV 1/10] END C=31.622776601683793, gamma=31.622776601683793, kernel=rbf;, score=0.625 total time=   0.0s\n",
      "[CV 2/10] END C=31.622776601683793, gamma=31.622776601683793, kernel=rbf;, score=0.625 total time=   0.0s\n",
      "[CV 3/10] END C=31.622776601683793, gamma=31.622776601683793, kernel=rbf;, score=0.571 total time=   0.0s\n",
      "[CV 4/10] END C=31.622776601683793, gamma=31.622776601683793, kernel=rbf;, score=0.571 total time=   0.0s\n",
      "[CV 5/10] END C=31.622776601683793, gamma=31.622776601683793, kernel=rbf;, score=0.714 total time=   0.0s\n",
      "[CV 6/10] END C=31.622776601683793, gamma=31.622776601683793, kernel=rbf;, score=0.714 total time=   0.0s\n",
      "[CV 7/10] END C=31.622776601683793, gamma=31.622776601683793, kernel=rbf;, score=0.714 total time=   0.0s\n",
      "[CV 8/10] END C=31.622776601683793, gamma=31.622776601683793, kernel=rbf;, score=0.714 total time=   0.0s\n",
      "[CV 9/10] END C=31.622776601683793, gamma=31.622776601683793, kernel=rbf;, score=0.714 total time=   0.0s\n",
      "[CV 10/10] END C=31.622776601683793, gamma=31.622776601683793, kernel=rbf;, score=0.714 total time=   0.0s\n",
      "[CV 1/10] END C=31.622776601683793, gamma=31.622776601683793, kernel=sigmoid;, score=0.500 total time=   0.0s\n",
      "[CV 2/10] END C=31.622776601683793, gamma=31.622776601683793, kernel=sigmoid;, score=0.625 total time=   0.0s\n",
      "[CV 3/10] END C=31.622776601683793, gamma=31.622776601683793, kernel=sigmoid;, score=0.571 total time=   0.0s\n",
      "[CV 4/10] END C=31.622776601683793, gamma=31.622776601683793, kernel=sigmoid;, score=0.714 total time=   0.0s\n",
      "[CV 5/10] END C=31.622776601683793, gamma=31.622776601683793, kernel=sigmoid;, score=0.714 total time=   0.0s\n",
      "[CV 6/10] END C=31.622776601683793, gamma=31.622776601683793, kernel=sigmoid;, score=0.714 total time=   0.0s\n",
      "[CV 7/10] END C=31.622776601683793, gamma=31.622776601683793, kernel=sigmoid;, score=0.714 total time=   0.0s\n",
      "[CV 8/10] END C=31.622776601683793, gamma=31.622776601683793, kernel=sigmoid;, score=0.714 total time=   0.0s\n",
      "[CV 9/10] END C=31.622776601683793, gamma=31.622776601683793, kernel=sigmoid;, score=0.429 total time=   0.0s\n",
      "[CV 10/10] END C=31.622776601683793, gamma=31.622776601683793, kernel=sigmoid;, score=0.857 total time=   0.0s\n",
      "[CV 1/10] END C=31.622776601683793, gamma=1000.0, kernel=linear;, score=0.625 total time=   0.0s\n",
      "[CV 2/10] END C=31.622776601683793, gamma=1000.0, kernel=linear;, score=0.625 total time=   0.0s\n",
      "[CV 3/10] END C=31.622776601683793, gamma=1000.0, kernel=linear;, score=0.714 total time=   0.0s\n",
      "[CV 4/10] END C=31.622776601683793, gamma=1000.0, kernel=linear;, score=0.571 total time=   0.0s\n",
      "[CV 5/10] END C=31.622776601683793, gamma=1000.0, kernel=linear;, score=1.000 total time=   0.0s\n",
      "[CV 6/10] END C=31.622776601683793, gamma=1000.0, kernel=linear;, score=0.857 total time=   0.0s\n",
      "[CV 7/10] END C=31.622776601683793, gamma=1000.0, kernel=linear;, score=0.714 total time=   0.0s\n",
      "[CV 8/10] END C=31.622776601683793, gamma=1000.0, kernel=linear;, score=0.571 total time=   0.0s\n",
      "[CV 9/10] END C=31.622776601683793, gamma=1000.0, kernel=linear;, score=0.857 total time=   0.0s\n",
      "[CV 10/10] END C=31.622776601683793, gamma=1000.0, kernel=linear;, score=0.857 total time=   0.0s\n",
      "[CV 1/10] END C=31.622776601683793, gamma=1000.0, kernel=rbf;, score=0.625 total time=   0.0s\n",
      "[CV 2/10] END C=31.622776601683793, gamma=1000.0, kernel=rbf;, score=0.625 total time=   0.0s\n",
      "[CV 3/10] END C=31.622776601683793, gamma=1000.0, kernel=rbf;, score=0.571 total time=   0.0s\n",
      "[CV 4/10] END C=31.622776601683793, gamma=1000.0, kernel=rbf;, score=0.571 total time=   0.0s\n",
      "[CV 5/10] END C=31.622776601683793, gamma=1000.0, kernel=rbf;, score=0.714 total time=   0.0s\n",
      "[CV 6/10] END C=31.622776601683793, gamma=1000.0, kernel=rbf;, score=0.714 total time=   0.0s\n",
      "[CV 7/10] END C=31.622776601683793, gamma=1000.0, kernel=rbf;, score=0.714 total time=   0.0s\n",
      "[CV 8/10] END C=31.622776601683793, gamma=1000.0, kernel=rbf;, score=0.714 total time=   0.0s\n",
      "[CV 9/10] END C=31.622776601683793, gamma=1000.0, kernel=rbf;, score=0.714 total time=   0.0s\n",
      "[CV 10/10] END C=31.622776601683793, gamma=1000.0, kernel=rbf;, score=0.714 total time=   0.0s\n",
      "[CV 1/10] END C=31.622776601683793, gamma=1000.0, kernel=poly;, score=0.500 total time=   0.0s\n",
      "[CV 2/10] END C=31.622776601683793, gamma=1000.0, kernel=poly;, score=0.625 total time=   0.0s\n",
      "[CV 3/10] END C=31.622776601683793, gamma=1000.0, kernel=poly;, score=0.429 total time=   0.0s\n",
      "[CV 4/10] END C=31.622776601683793, gamma=1000.0, kernel=poly;, score=0.571 total time=   0.0s\n",
      "[CV 5/10] END C=31.622776601683793, gamma=1000.0, kernel=poly;, score=0.714 total time=   0.0s\n",
      "[CV 6/10] END C=31.622776601683793, gamma=1000.0, kernel=poly;, score=0.714 total time=   0.0s\n",
      "[CV 7/10] END C=31.622776601683793, gamma=1000.0, kernel=poly;, score=0.714 total time=   0.0s\n",
      "[CV 8/10] END C=31.622776601683793, gamma=1000.0, kernel=poly;, score=0.571 total time=   0.0s\n",
      "[CV 9/10] END C=31.622776601683793, gamma=1000.0, kernel=poly;, score=0.714 total time=   0.0s\n",
      "[CV 10/10] END C=31.622776601683793, gamma=1000.0, kernel=poly;, score=0.714 total time=   0.0s\n",
      "[CV 1/10] END C=31.622776601683793, gamma=1000.0, kernel=rbf;, score=0.625 total time=   0.0s\n",
      "[CV 2/10] END C=31.622776601683793, gamma=1000.0, kernel=rbf;, score=0.625 total time=   0.0s\n",
      "[CV 3/10] END C=31.622776601683793, gamma=1000.0, kernel=rbf;, score=0.571 total time=   0.0s\n",
      "[CV 4/10] END C=31.622776601683793, gamma=1000.0, kernel=rbf;, score=0.571 total time=   0.0s\n",
      "[CV 5/10] END C=31.622776601683793, gamma=1000.0, kernel=rbf;, score=0.714 total time=   0.0s\n",
      "[CV 6/10] END C=31.622776601683793, gamma=1000.0, kernel=rbf;, score=0.714 total time=   0.0s\n",
      "[CV 7/10] END C=31.622776601683793, gamma=1000.0, kernel=rbf;, score=0.714 total time=   0.0s\n",
      "[CV 8/10] END C=31.622776601683793, gamma=1000.0, kernel=rbf;, score=0.714 total time=   0.0s\n",
      "[CV 9/10] END C=31.622776601683793, gamma=1000.0, kernel=rbf;, score=0.714 total time=   0.0s\n",
      "[CV 10/10] END C=31.622776601683793, gamma=1000.0, kernel=rbf;, score=0.714 total time=   0.0s\n",
      "[CV 1/10] END C=31.622776601683793, gamma=1000.0, kernel=sigmoid;, score=0.500 total time=   0.0s\n",
      "[CV 2/10] END C=31.622776601683793, gamma=1000.0, kernel=sigmoid;, score=0.625 total time=   0.0s\n",
      "[CV 3/10] END C=31.622776601683793, gamma=1000.0, kernel=sigmoid;, score=0.571 total time=   0.0s\n",
      "[CV 4/10] END C=31.622776601683793, gamma=1000.0, kernel=sigmoid;, score=0.714 total time=   0.0s\n",
      "[CV 5/10] END C=31.622776601683793, gamma=1000.0, kernel=sigmoid;, score=0.857 total time=   0.0s\n",
      "[CV 6/10] END C=31.622776601683793, gamma=1000.0, kernel=sigmoid;, score=0.714 total time=   0.0s\n",
      "[CV 7/10] END C=31.622776601683793, gamma=1000.0, kernel=sigmoid;, score=0.714 total time=   0.0s\n",
      "[CV 8/10] END C=31.622776601683793, gamma=1000.0, kernel=sigmoid;, score=0.714 total time=   0.0s\n",
      "[CV 9/10] END C=31.622776601683793, gamma=1000.0, kernel=sigmoid;, score=0.429 total time=   0.0s\n",
      "[CV 10/10] END C=31.622776601683793, gamma=1000.0, kernel=sigmoid;, score=0.571 total time=   0.0s\n",
      "[CV 1/10] END C=1000.0, gamma=0.001, kernel=linear;, score=0.625 total time=   0.0s\n",
      "[CV 2/10] END C=1000.0, gamma=0.001, kernel=linear;, score=0.625 total time=   0.0s\n",
      "[CV 3/10] END C=1000.0, gamma=0.001, kernel=linear;, score=0.714 total time=   0.0s\n",
      "[CV 4/10] END C=1000.0, gamma=0.001, kernel=linear;, score=0.571 total time=   0.0s\n",
      "[CV 5/10] END C=1000.0, gamma=0.001, kernel=linear;, score=1.000 total time=   0.0s\n",
      "[CV 6/10] END C=1000.0, gamma=0.001, kernel=linear;, score=0.857 total time=   0.0s\n",
      "[CV 7/10] END C=1000.0, gamma=0.001, kernel=linear;, score=0.714 total time=   0.0s\n",
      "[CV 8/10] END C=1000.0, gamma=0.001, kernel=linear;, score=0.571 total time=   0.0s\n",
      "[CV 9/10] END C=1000.0, gamma=0.001, kernel=linear;, score=0.857 total time=   0.0s\n",
      "[CV 10/10] END C=1000.0, gamma=0.001, kernel=linear;, score=0.857 total time=   0.0s\n",
      "[CV 1/10] END C=1000.0, gamma=0.001, kernel=rbf;, score=0.625 total time=   0.0s\n",
      "[CV 2/10] END C=1000.0, gamma=0.001, kernel=rbf;, score=0.625 total time=   0.0s\n",
      "[CV 3/10] END C=1000.0, gamma=0.001, kernel=rbf;, score=0.714 total time=   0.0s\n",
      "[CV 4/10] END C=1000.0, gamma=0.001, kernel=rbf;, score=0.571 total time=   0.0s\n",
      "[CV 5/10] END C=1000.0, gamma=0.001, kernel=rbf;, score=1.000 total time=   0.0s\n",
      "[CV 6/10] END C=1000.0, gamma=0.001, kernel=rbf;, score=0.857 total time=   0.0s\n",
      "[CV 7/10] END C=1000.0, gamma=0.001, kernel=rbf;, score=0.857 total time=   0.0s\n",
      "[CV 8/10] END C=1000.0, gamma=0.001, kernel=rbf;, score=0.571 total time=   0.0s\n",
      "[CV 9/10] END C=1000.0, gamma=0.001, kernel=rbf;, score=0.857 total time=   0.0s\n",
      "[CV 10/10] END C=1000.0, gamma=0.001, kernel=rbf;, score=0.857 total time=   0.0s\n",
      "[CV 1/10] END C=1000.0, gamma=0.001, kernel=poly;, score=0.625 total time=   0.0s\n",
      "[CV 2/10] END C=1000.0, gamma=0.001, kernel=poly;, score=0.625 total time=   0.0s\n",
      "[CV 3/10] END C=1000.0, gamma=0.001, kernel=poly;, score=0.571 total time=   0.0s\n",
      "[CV 4/10] END C=1000.0, gamma=0.001, kernel=poly;, score=0.571 total time=   0.0s\n",
      "[CV 5/10] END C=1000.0, gamma=0.001, kernel=poly;, score=0.714 total time=   0.0s\n",
      "[CV 6/10] END C=1000.0, gamma=0.001, kernel=poly;, score=0.714 total time=   0.0s\n",
      "[CV 7/10] END C=1000.0, gamma=0.001, kernel=poly;, score=0.714 total time=   0.0s\n",
      "[CV 8/10] END C=1000.0, gamma=0.001, kernel=poly;, score=0.714 total time=   0.0s\n",
      "[CV 9/10] END C=1000.0, gamma=0.001, kernel=poly;, score=0.714 total time=   0.0s\n",
      "[CV 10/10] END C=1000.0, gamma=0.001, kernel=poly;, score=0.714 total time=   0.0s\n",
      "[CV 1/10] END C=1000.0, gamma=0.001, kernel=rbf;, score=0.625 total time=   0.0s\n",
      "[CV 2/10] END C=1000.0, gamma=0.001, kernel=rbf;, score=0.625 total time=   0.0s\n",
      "[CV 3/10] END C=1000.0, gamma=0.001, kernel=rbf;, score=0.714 total time=   0.0s\n",
      "[CV 4/10] END C=1000.0, gamma=0.001, kernel=rbf;, score=0.571 total time=   0.0s\n",
      "[CV 5/10] END C=1000.0, gamma=0.001, kernel=rbf;, score=1.000 total time=   0.0s\n",
      "[CV 6/10] END C=1000.0, gamma=0.001, kernel=rbf;, score=0.857 total time=   0.0s\n",
      "[CV 7/10] END C=1000.0, gamma=0.001, kernel=rbf;, score=0.857 total time=   0.0s\n",
      "[CV 8/10] END C=1000.0, gamma=0.001, kernel=rbf;, score=0.571 total time=   0.0s\n",
      "[CV 9/10] END C=1000.0, gamma=0.001, kernel=rbf;, score=0.857 total time=   0.0s\n",
      "[CV 10/10] END C=1000.0, gamma=0.001, kernel=rbf;, score=0.857 total time=   0.0s\n",
      "[CV 1/10] END C=1000.0, gamma=0.001, kernel=sigmoid;, score=0.625 total time=   0.0s\n",
      "[CV 2/10] END C=1000.0, gamma=0.001, kernel=sigmoid;, score=0.625 total time=   0.0s\n",
      "[CV 3/10] END C=1000.0, gamma=0.001, kernel=sigmoid;, score=0.714 total time=   0.0s\n",
      "[CV 4/10] END C=1000.0, gamma=0.001, kernel=sigmoid;, score=0.571 total time=   0.0s\n",
      "[CV 5/10] END C=1000.0, gamma=0.001, kernel=sigmoid;, score=1.000 total time=   0.0s\n",
      "[CV 6/10] END C=1000.0, gamma=0.001, kernel=sigmoid;, score=0.857 total time=   0.0s\n",
      "[CV 7/10] END C=1000.0, gamma=0.001, kernel=sigmoid;, score=0.714 total time=   0.0s\n",
      "[CV 8/10] END C=1000.0, gamma=0.001, kernel=sigmoid;, score=0.571 total time=   0.0s\n",
      "[CV 9/10] END C=1000.0, gamma=0.001, kernel=sigmoid;, score=0.857 total time=   0.0s\n",
      "[CV 10/10] END C=1000.0, gamma=0.001, kernel=sigmoid;, score=0.857 total time=   0.0s\n",
      "[CV 1/10] END C=1000.0, gamma=0.03162277660168379, kernel=linear;, score=0.625 total time=   0.0s\n",
      "[CV 2/10] END C=1000.0, gamma=0.03162277660168379, kernel=linear;, score=0.625 total time=   0.0s\n",
      "[CV 3/10] END C=1000.0, gamma=0.03162277660168379, kernel=linear;, score=0.714 total time=   0.0s\n",
      "[CV 4/10] END C=1000.0, gamma=0.03162277660168379, kernel=linear;, score=0.571 total time=   0.0s\n",
      "[CV 5/10] END C=1000.0, gamma=0.03162277660168379, kernel=linear;, score=1.000 total time=   0.0s\n",
      "[CV 6/10] END C=1000.0, gamma=0.03162277660168379, kernel=linear;, score=0.857 total time=   0.0s\n",
      "[CV 7/10] END C=1000.0, gamma=0.03162277660168379, kernel=linear;, score=0.714 total time=   0.0s\n",
      "[CV 8/10] END C=1000.0, gamma=0.03162277660168379, kernel=linear;, score=0.571 total time=   0.0s\n",
      "[CV 9/10] END C=1000.0, gamma=0.03162277660168379, kernel=linear;, score=0.857 total time=   0.0s\n",
      "[CV 10/10] END C=1000.0, gamma=0.03162277660168379, kernel=linear;, score=0.857 total time=   0.0s\n",
      "[CV 1/10] END C=1000.0, gamma=0.03162277660168379, kernel=rbf;, score=0.500 total time=   0.0s\n",
      "[CV 2/10] END C=1000.0, gamma=0.03162277660168379, kernel=rbf;, score=0.625 total time=   0.0s\n",
      "[CV 3/10] END C=1000.0, gamma=0.03162277660168379, kernel=rbf;, score=0.429 total time=   0.0s\n",
      "[CV 4/10] END C=1000.0, gamma=0.03162277660168379, kernel=rbf;, score=0.571 total time=   0.0s\n",
      "[CV 5/10] END C=1000.0, gamma=0.03162277660168379, kernel=rbf;, score=0.714 total time=   0.0s\n",
      "[CV 6/10] END C=1000.0, gamma=0.03162277660168379, kernel=rbf;, score=0.714 total time=   0.0s\n",
      "[CV 7/10] END C=1000.0, gamma=0.03162277660168379, kernel=rbf;, score=0.714 total time=   0.0s\n",
      "[CV 8/10] END C=1000.0, gamma=0.03162277660168379, kernel=rbf;, score=0.571 total time=   0.0s\n",
      "[CV 9/10] END C=1000.0, gamma=0.03162277660168379, kernel=rbf;, score=0.714 total time=   0.0s\n",
      "[CV 10/10] END C=1000.0, gamma=0.03162277660168379, kernel=rbf;, score=0.714 total time=   0.0s\n",
      "[CV 1/10] END C=1000.0, gamma=0.03162277660168379, kernel=poly;, score=0.500 total time=   0.0s\n",
      "[CV 2/10] END C=1000.0, gamma=0.03162277660168379, kernel=poly;, score=0.625 total time=   0.0s\n",
      "[CV 3/10] END C=1000.0, gamma=0.03162277660168379, kernel=poly;, score=0.429 total time=   0.0s\n",
      "[CV 4/10] END C=1000.0, gamma=0.03162277660168379, kernel=poly;, score=0.571 total time=   0.0s\n",
      "[CV 5/10] END C=1000.0, gamma=0.03162277660168379, kernel=poly;, score=0.714 total time=   0.0s\n",
      "[CV 6/10] END C=1000.0, gamma=0.03162277660168379, kernel=poly;, score=0.714 total time=   0.0s\n",
      "[CV 7/10] END C=1000.0, gamma=0.03162277660168379, kernel=poly;, score=0.714 total time=   0.0s\n",
      "[CV 8/10] END C=1000.0, gamma=0.03162277660168379, kernel=poly;, score=0.571 total time=   0.0s\n",
      "[CV 9/10] END C=1000.0, gamma=0.03162277660168379, kernel=poly;, score=0.714 total time=   0.0s\n",
      "[CV 10/10] END C=1000.0, gamma=0.03162277660168379, kernel=poly;, score=0.714 total time=   0.0s\n",
      "[CV 1/10] END C=1000.0, gamma=0.03162277660168379, kernel=rbf;, score=0.500 total time=   0.0s\n",
      "[CV 2/10] END C=1000.0, gamma=0.03162277660168379, kernel=rbf;, score=0.625 total time=   0.0s\n",
      "[CV 3/10] END C=1000.0, gamma=0.03162277660168379, kernel=rbf;, score=0.429 total time=   0.0s\n",
      "[CV 4/10] END C=1000.0, gamma=0.03162277660168379, kernel=rbf;, score=0.571 total time=   0.0s\n",
      "[CV 5/10] END C=1000.0, gamma=0.03162277660168379, kernel=rbf;, score=0.714 total time=   0.0s\n",
      "[CV 6/10] END C=1000.0, gamma=0.03162277660168379, kernel=rbf;, score=0.714 total time=   0.0s\n",
      "[CV 7/10] END C=1000.0, gamma=0.03162277660168379, kernel=rbf;, score=0.714 total time=   0.0s\n",
      "[CV 8/10] END C=1000.0, gamma=0.03162277660168379, kernel=rbf;, score=0.571 total time=   0.0s\n",
      "[CV 9/10] END C=1000.0, gamma=0.03162277660168379, kernel=rbf;, score=0.714 total time=   0.0s\n",
      "[CV 10/10] END C=1000.0, gamma=0.03162277660168379, kernel=rbf;, score=0.714 total time=   0.0s\n",
      "[CV 1/10] END C=1000.0, gamma=0.03162277660168379, kernel=sigmoid;, score=0.625 total time=   0.0s\n",
      "[CV 2/10] END C=1000.0, gamma=0.03162277660168379, kernel=sigmoid;, score=0.500 total time=   0.0s\n",
      "[CV 3/10] END C=1000.0, gamma=0.03162277660168379, kernel=sigmoid;, score=0.857 total time=   0.0s\n",
      "[CV 4/10] END C=1000.0, gamma=0.03162277660168379, kernel=sigmoid;, score=0.714 total time=   0.0s\n",
      "[CV 5/10] END C=1000.0, gamma=0.03162277660168379, kernel=sigmoid;, score=1.000 total time=   0.0s\n",
      "[CV 6/10] END C=1000.0, gamma=0.03162277660168379, kernel=sigmoid;, score=0.857 total time=   0.0s\n",
      "[CV 7/10] END C=1000.0, gamma=0.03162277660168379, kernel=sigmoid;, score=0.857 total time=   0.0s\n",
      "[CV 8/10] END C=1000.0, gamma=0.03162277660168379, kernel=sigmoid;, score=0.714 total time=   0.0s\n",
      "[CV 9/10] END C=1000.0, gamma=0.03162277660168379, kernel=sigmoid;, score=0.571 total time=   0.0s\n",
      "[CV 10/10] END C=1000.0, gamma=0.03162277660168379, kernel=sigmoid;, score=0.714 total time=   0.0s\n",
      "[CV 1/10] END C=1000.0, gamma=1.0, kernel=linear;, score=0.625 total time=   0.0s\n",
      "[CV 2/10] END C=1000.0, gamma=1.0, kernel=linear;, score=0.625 total time=   0.0s\n",
      "[CV 3/10] END C=1000.0, gamma=1.0, kernel=linear;, score=0.714 total time=   0.0s\n",
      "[CV 4/10] END C=1000.0, gamma=1.0, kernel=linear;, score=0.571 total time=   0.0s\n",
      "[CV 5/10] END C=1000.0, gamma=1.0, kernel=linear;, score=1.000 total time=   0.0s\n",
      "[CV 6/10] END C=1000.0, gamma=1.0, kernel=linear;, score=0.857 total time=   0.0s\n",
      "[CV 7/10] END C=1000.0, gamma=1.0, kernel=linear;, score=0.714 total time=   0.0s\n",
      "[CV 8/10] END C=1000.0, gamma=1.0, kernel=linear;, score=0.571 total time=   0.0s\n",
      "[CV 9/10] END C=1000.0, gamma=1.0, kernel=linear;, score=0.857 total time=   0.0s\n",
      "[CV 10/10] END C=1000.0, gamma=1.0, kernel=linear;, score=0.857 total time=   0.0s\n",
      "[CV 1/10] END ..C=1000.0, gamma=1.0, kernel=rbf;, score=0.625 total time=   0.0s\n",
      "[CV 2/10] END ..C=1000.0, gamma=1.0, kernel=rbf;, score=0.625 total time=   0.0s\n",
      "[CV 3/10] END ..C=1000.0, gamma=1.0, kernel=rbf;, score=0.571 total time=   0.0s\n",
      "[CV 4/10] END ..C=1000.0, gamma=1.0, kernel=rbf;, score=0.571 total time=   0.0s\n",
      "[CV 5/10] END ..C=1000.0, gamma=1.0, kernel=rbf;, score=0.714 total time=   0.0s\n",
      "[CV 6/10] END ..C=1000.0, gamma=1.0, kernel=rbf;, score=0.714 total time=   0.0s\n",
      "[CV 7/10] END ..C=1000.0, gamma=1.0, kernel=rbf;, score=0.714 total time=   0.0s\n",
      "[CV 8/10] END ..C=1000.0, gamma=1.0, kernel=rbf;, score=0.714 total time=   0.0s\n",
      "[CV 9/10] END ..C=1000.0, gamma=1.0, kernel=rbf;, score=0.714 total time=   0.0s\n",
      "[CV 10/10] END .C=1000.0, gamma=1.0, kernel=rbf;, score=0.714 total time=   0.0s\n",
      "[CV 1/10] END .C=1000.0, gamma=1.0, kernel=poly;, score=0.500 total time=   0.0s\n",
      "[CV 2/10] END .C=1000.0, gamma=1.0, kernel=poly;, score=0.625 total time=   0.0s\n",
      "[CV 3/10] END .C=1000.0, gamma=1.0, kernel=poly;, score=0.429 total time=   0.0s\n",
      "[CV 4/10] END .C=1000.0, gamma=1.0, kernel=poly;, score=0.571 total time=   0.0s\n",
      "[CV 5/10] END .C=1000.0, gamma=1.0, kernel=poly;, score=0.714 total time=   0.0s\n",
      "[CV 6/10] END .C=1000.0, gamma=1.0, kernel=poly;, score=0.714 total time=   0.0s\n",
      "[CV 7/10] END .C=1000.0, gamma=1.0, kernel=poly;, score=0.714 total time=   0.0s\n",
      "[CV 8/10] END .C=1000.0, gamma=1.0, kernel=poly;, score=0.571 total time=   0.0s\n",
      "[CV 9/10] END .C=1000.0, gamma=1.0, kernel=poly;, score=0.714 total time=   0.0s\n",
      "[CV 10/10] END C=1000.0, gamma=1.0, kernel=poly;, score=0.714 total time=   0.0s\n",
      "[CV 1/10] END ..C=1000.0, gamma=1.0, kernel=rbf;, score=0.625 total time=   0.0s\n",
      "[CV 2/10] END ..C=1000.0, gamma=1.0, kernel=rbf;, score=0.625 total time=   0.0s\n",
      "[CV 3/10] END ..C=1000.0, gamma=1.0, kernel=rbf;, score=0.571 total time=   0.0s\n",
      "[CV 4/10] END ..C=1000.0, gamma=1.0, kernel=rbf;, score=0.571 total time=   0.0s\n",
      "[CV 5/10] END ..C=1000.0, gamma=1.0, kernel=rbf;, score=0.714 total time=   0.0s\n",
      "[CV 6/10] END ..C=1000.0, gamma=1.0, kernel=rbf;, score=0.714 total time=   0.0s\n",
      "[CV 7/10] END ..C=1000.0, gamma=1.0, kernel=rbf;, score=0.714 total time=   0.0s\n",
      "[CV 8/10] END ..C=1000.0, gamma=1.0, kernel=rbf;, score=0.714 total time=   0.0s\n",
      "[CV 9/10] END ..C=1000.0, gamma=1.0, kernel=rbf;, score=0.714 total time=   0.0s\n",
      "[CV 10/10] END .C=1000.0, gamma=1.0, kernel=rbf;, score=0.714 total time=   0.0s\n",
      "[CV 1/10] END C=1000.0, gamma=1.0, kernel=sigmoid;, score=0.500 total time=   0.0s\n",
      "[CV 2/10] END C=1000.0, gamma=1.0, kernel=sigmoid;, score=0.625 total time=   0.0s\n",
      "[CV 3/10] END C=1000.0, gamma=1.0, kernel=sigmoid;, score=0.571 total time=   0.0s\n",
      "[CV 4/10] END C=1000.0, gamma=1.0, kernel=sigmoid;, score=0.714 total time=   0.0s\n",
      "[CV 5/10] END C=1000.0, gamma=1.0, kernel=sigmoid;, score=0.857 total time=   0.0s\n",
      "[CV 6/10] END C=1000.0, gamma=1.0, kernel=sigmoid;, score=0.857 total time=   0.0s\n",
      "[CV 7/10] END C=1000.0, gamma=1.0, kernel=sigmoid;, score=0.714 total time=   0.0s\n",
      "[CV 8/10] END C=1000.0, gamma=1.0, kernel=sigmoid;, score=0.714 total time=   0.0s\n",
      "[CV 9/10] END C=1000.0, gamma=1.0, kernel=sigmoid;, score=0.714 total time=   0.0s\n",
      "[CV 10/10] END C=1000.0, gamma=1.0, kernel=sigmoid;, score=0.857 total time=   0.0s\n",
      "[CV 1/10] END C=1000.0, gamma=31.622776601683793, kernel=linear;, score=0.625 total time=   0.0s\n",
      "[CV 2/10] END C=1000.0, gamma=31.622776601683793, kernel=linear;, score=0.625 total time=   0.0s\n",
      "[CV 3/10] END C=1000.0, gamma=31.622776601683793, kernel=linear;, score=0.714 total time=   0.0s\n",
      "[CV 4/10] END C=1000.0, gamma=31.622776601683793, kernel=linear;, score=0.571 total time=   0.0s\n",
      "[CV 5/10] END C=1000.0, gamma=31.622776601683793, kernel=linear;, score=1.000 total time=   0.0s\n",
      "[CV 6/10] END C=1000.0, gamma=31.622776601683793, kernel=linear;, score=0.857 total time=   0.0s\n",
      "[CV 7/10] END C=1000.0, gamma=31.622776601683793, kernel=linear;, score=0.714 total time=   0.0s\n",
      "[CV 8/10] END C=1000.0, gamma=31.622776601683793, kernel=linear;, score=0.571 total time=   0.0s\n",
      "[CV 9/10] END C=1000.0, gamma=31.622776601683793, kernel=linear;, score=0.857 total time=   0.0s\n",
      "[CV 10/10] END C=1000.0, gamma=31.622776601683793, kernel=linear;, score=0.857 total time=   0.0s\n",
      "[CV 1/10] END C=1000.0, gamma=31.622776601683793, kernel=rbf;, score=0.625 total time=   0.0s\n",
      "[CV 2/10] END C=1000.0, gamma=31.622776601683793, kernel=rbf;, score=0.625 total time=   0.0s\n",
      "[CV 3/10] END C=1000.0, gamma=31.622776601683793, kernel=rbf;, score=0.571 total time=   0.0s\n",
      "[CV 4/10] END C=1000.0, gamma=31.622776601683793, kernel=rbf;, score=0.571 total time=   0.0s\n",
      "[CV 5/10] END C=1000.0, gamma=31.622776601683793, kernel=rbf;, score=0.714 total time=   0.0s\n",
      "[CV 6/10] END C=1000.0, gamma=31.622776601683793, kernel=rbf;, score=0.714 total time=   0.0s\n",
      "[CV 7/10] END C=1000.0, gamma=31.622776601683793, kernel=rbf;, score=0.714 total time=   0.0s\n",
      "[CV 8/10] END C=1000.0, gamma=31.622776601683793, kernel=rbf;, score=0.714 total time=   0.0s\n",
      "[CV 9/10] END C=1000.0, gamma=31.622776601683793, kernel=rbf;, score=0.714 total time=   0.0s\n",
      "[CV 10/10] END C=1000.0, gamma=31.622776601683793, kernel=rbf;, score=0.714 total time=   0.0s\n",
      "[CV 1/10] END C=1000.0, gamma=31.622776601683793, kernel=poly;, score=0.500 total time=   0.0s\n",
      "[CV 2/10] END C=1000.0, gamma=31.622776601683793, kernel=poly;, score=0.625 total time=   0.0s\n",
      "[CV 3/10] END C=1000.0, gamma=31.622776601683793, kernel=poly;, score=0.429 total time=   0.0s\n",
      "[CV 4/10] END C=1000.0, gamma=31.622776601683793, kernel=poly;, score=0.571 total time=   0.0s\n",
      "[CV 5/10] END C=1000.0, gamma=31.622776601683793, kernel=poly;, score=0.714 total time=   0.0s\n",
      "[CV 6/10] END C=1000.0, gamma=31.622776601683793, kernel=poly;, score=0.714 total time=   0.0s\n",
      "[CV 7/10] END C=1000.0, gamma=31.622776601683793, kernel=poly;, score=0.714 total time=   0.0s\n",
      "[CV 8/10] END C=1000.0, gamma=31.622776601683793, kernel=poly;, score=0.571 total time=   0.0s\n",
      "[CV 9/10] END C=1000.0, gamma=31.622776601683793, kernel=poly;, score=0.714 total time=   0.0s\n",
      "[CV 10/10] END C=1000.0, gamma=31.622776601683793, kernel=poly;, score=0.714 total time=   0.0s\n",
      "[CV 1/10] END C=1000.0, gamma=31.622776601683793, kernel=rbf;, score=0.625 total time=   0.0s\n",
      "[CV 2/10] END C=1000.0, gamma=31.622776601683793, kernel=rbf;, score=0.625 total time=   0.0s\n",
      "[CV 3/10] END C=1000.0, gamma=31.622776601683793, kernel=rbf;, score=0.571 total time=   0.0s\n",
      "[CV 4/10] END C=1000.0, gamma=31.622776601683793, kernel=rbf;, score=0.571 total time=   0.0s\n",
      "[CV 5/10] END C=1000.0, gamma=31.622776601683793, kernel=rbf;, score=0.714 total time=   0.0s\n",
      "[CV 6/10] END C=1000.0, gamma=31.622776601683793, kernel=rbf;, score=0.714 total time=   0.0s\n",
      "[CV 7/10] END C=1000.0, gamma=31.622776601683793, kernel=rbf;, score=0.714 total time=   0.0s\n",
      "[CV 8/10] END C=1000.0, gamma=31.622776601683793, kernel=rbf;, score=0.714 total time=   0.0s\n",
      "[CV 9/10] END C=1000.0, gamma=31.622776601683793, kernel=rbf;, score=0.714 total time=   0.0s\n",
      "[CV 10/10] END C=1000.0, gamma=31.622776601683793, kernel=rbf;, score=0.714 total time=   0.0s\n",
      "[CV 1/10] END C=1000.0, gamma=31.622776601683793, kernel=sigmoid;, score=0.500 total time=   0.0s\n",
      "[CV 2/10] END C=1000.0, gamma=31.622776601683793, kernel=sigmoid;, score=0.625 total time=   0.0s\n",
      "[CV 3/10] END C=1000.0, gamma=31.622776601683793, kernel=sigmoid;, score=0.571 total time=   0.0s\n",
      "[CV 4/10] END C=1000.0, gamma=31.622776601683793, kernel=sigmoid;, score=0.714 total time=   0.0s\n",
      "[CV 5/10] END C=1000.0, gamma=31.622776601683793, kernel=sigmoid;, score=0.714 total time=   0.0s\n",
      "[CV 6/10] END C=1000.0, gamma=31.622776601683793, kernel=sigmoid;, score=0.714 total time=   0.0s\n",
      "[CV 7/10] END C=1000.0, gamma=31.622776601683793, kernel=sigmoid;, score=0.714 total time=   0.0s\n",
      "[CV 8/10] END C=1000.0, gamma=31.622776601683793, kernel=sigmoid;, score=0.714 total time=   0.0s\n",
      "[CV 9/10] END C=1000.0, gamma=31.622776601683793, kernel=sigmoid;, score=0.429 total time=   0.0s\n",
      "[CV 10/10] END C=1000.0, gamma=31.622776601683793, kernel=sigmoid;, score=0.714 total time=   0.0s\n",
      "[CV 1/10] END C=1000.0, gamma=1000.0, kernel=linear;, score=0.625 total time=   0.0s\n",
      "[CV 2/10] END C=1000.0, gamma=1000.0, kernel=linear;, score=0.625 total time=   0.0s\n",
      "[CV 3/10] END C=1000.0, gamma=1000.0, kernel=linear;, score=0.714 total time=   0.0s\n",
      "[CV 4/10] END C=1000.0, gamma=1000.0, kernel=linear;, score=0.571 total time=   0.0s\n",
      "[CV 5/10] END C=1000.0, gamma=1000.0, kernel=linear;, score=1.000 total time=   0.0s\n",
      "[CV 6/10] END C=1000.0, gamma=1000.0, kernel=linear;, score=0.857 total time=   0.0s\n",
      "[CV 7/10] END C=1000.0, gamma=1000.0, kernel=linear;, score=0.714 total time=   0.0s\n",
      "[CV 8/10] END C=1000.0, gamma=1000.0, kernel=linear;, score=0.571 total time=   0.0s\n",
      "[CV 9/10] END C=1000.0, gamma=1000.0, kernel=linear;, score=0.857 total time=   0.0s\n",
      "[CV 10/10] END C=1000.0, gamma=1000.0, kernel=linear;, score=0.857 total time=   0.0s\n",
      "[CV 1/10] END C=1000.0, gamma=1000.0, kernel=rbf;, score=0.625 total time=   0.0s\n",
      "[CV 2/10] END C=1000.0, gamma=1000.0, kernel=rbf;, score=0.625 total time=   0.0s\n",
      "[CV 3/10] END C=1000.0, gamma=1000.0, kernel=rbf;, score=0.571 total time=   0.0s\n",
      "[CV 4/10] END C=1000.0, gamma=1000.0, kernel=rbf;, score=0.571 total time=   0.0s\n",
      "[CV 5/10] END C=1000.0, gamma=1000.0, kernel=rbf;, score=0.714 total time=   0.0s\n",
      "[CV 6/10] END C=1000.0, gamma=1000.0, kernel=rbf;, score=0.714 total time=   0.0s\n",
      "[CV 7/10] END C=1000.0, gamma=1000.0, kernel=rbf;, score=0.714 total time=   0.0s\n",
      "[CV 8/10] END C=1000.0, gamma=1000.0, kernel=rbf;, score=0.714 total time=   0.0s\n",
      "[CV 9/10] END C=1000.0, gamma=1000.0, kernel=rbf;, score=0.714 total time=   0.0s\n",
      "[CV 10/10] END C=1000.0, gamma=1000.0, kernel=rbf;, score=0.714 total time=   0.0s\n",
      "[CV 1/10] END C=1000.0, gamma=1000.0, kernel=poly;, score=0.500 total time=   0.0s\n",
      "[CV 2/10] END C=1000.0, gamma=1000.0, kernel=poly;, score=0.625 total time=   0.0s\n",
      "[CV 3/10] END C=1000.0, gamma=1000.0, kernel=poly;, score=0.429 total time=   0.0s\n",
      "[CV 4/10] END C=1000.0, gamma=1000.0, kernel=poly;, score=0.571 total time=   0.0s\n",
      "[CV 5/10] END C=1000.0, gamma=1000.0, kernel=poly;, score=0.714 total time=   0.0s\n",
      "[CV 6/10] END C=1000.0, gamma=1000.0, kernel=poly;, score=0.714 total time=   0.0s\n",
      "[CV 7/10] END C=1000.0, gamma=1000.0, kernel=poly;, score=0.714 total time=   0.0s\n",
      "[CV 8/10] END C=1000.0, gamma=1000.0, kernel=poly;, score=0.571 total time=   0.0s\n",
      "[CV 9/10] END C=1000.0, gamma=1000.0, kernel=poly;, score=0.714 total time=   0.0s\n",
      "[CV 10/10] END C=1000.0, gamma=1000.0, kernel=poly;, score=0.714 total time=   0.0s\n",
      "[CV 1/10] END C=1000.0, gamma=1000.0, kernel=rbf;, score=0.625 total time=   0.0s\n",
      "[CV 2/10] END C=1000.0, gamma=1000.0, kernel=rbf;, score=0.625 total time=   0.0s\n",
      "[CV 3/10] END C=1000.0, gamma=1000.0, kernel=rbf;, score=0.571 total time=   0.0s\n",
      "[CV 4/10] END C=1000.0, gamma=1000.0, kernel=rbf;, score=0.571 total time=   0.0s\n",
      "[CV 5/10] END C=1000.0, gamma=1000.0, kernel=rbf;, score=0.714 total time=   0.0s\n",
      "[CV 6/10] END C=1000.0, gamma=1000.0, kernel=rbf;, score=0.714 total time=   0.0s\n",
      "[CV 7/10] END C=1000.0, gamma=1000.0, kernel=rbf;, score=0.714 total time=   0.0s\n",
      "[CV 8/10] END C=1000.0, gamma=1000.0, kernel=rbf;, score=0.714 total time=   0.0s\n",
      "[CV 9/10] END C=1000.0, gamma=1000.0, kernel=rbf;, score=0.714 total time=   0.0s\n",
      "[CV 10/10] END C=1000.0, gamma=1000.0, kernel=rbf;, score=0.714 total time=   0.0s\n",
      "[CV 1/10] END C=1000.0, gamma=1000.0, kernel=sigmoid;, score=0.500 total time=   0.0s\n",
      "[CV 2/10] END C=1000.0, gamma=1000.0, kernel=sigmoid;, score=0.625 total time=   0.0s\n",
      "[CV 3/10] END C=1000.0, gamma=1000.0, kernel=sigmoid;, score=0.571 total time=   0.0s\n",
      "[CV 4/10] END C=1000.0, gamma=1000.0, kernel=sigmoid;, score=0.714 total time=   0.0s\n",
      "[CV 5/10] END C=1000.0, gamma=1000.0, kernel=sigmoid;, score=0.857 total time=   0.0s\n",
      "[CV 6/10] END C=1000.0, gamma=1000.0, kernel=sigmoid;, score=0.714 total time=   0.0s\n",
      "[CV 7/10] END C=1000.0, gamma=1000.0, kernel=sigmoid;, score=0.571 total time=   0.0s\n",
      "[CV 8/10] END C=1000.0, gamma=1000.0, kernel=sigmoid;, score=0.714 total time=   0.0s\n",
      "[CV 9/10] END C=1000.0, gamma=1000.0, kernel=sigmoid;, score=0.429 total time=   0.0s\n",
      "[CV 10/10] END C=1000.0, gamma=1000.0, kernel=sigmoid;, score=0.571 total time=   0.0s\n"
     ]
    },
    {
     "data": {
      "text/plain": "GridSearchCV(cv=10, estimator=SVC(),\n             param_grid={'C': array([1.00000000e-03, 3.16227766e-02, 1.00000000e+00, 3.16227766e+01,\n       1.00000000e+03]),\n                         'gamma': array([1.00000000e-03, 3.16227766e-02, 1.00000000e+00, 3.16227766e+01,\n       1.00000000e+03]),\n                         'kernel': ('linear', 'rbf', 'poly', 'rbf', 'sigmoid')},\n             verbose=3)",
      "text/html": "<style>#sk-container-id-8 {color: black;}#sk-container-id-8 pre{padding: 0;}#sk-container-id-8 div.sk-toggleable {background-color: white;}#sk-container-id-8 label.sk-toggleable__label {cursor: pointer;display: block;width: 100%;margin-bottom: 0;padding: 0.3em;box-sizing: border-box;text-align: center;}#sk-container-id-8 label.sk-toggleable__label-arrow:before {content: \"▸\";float: left;margin-right: 0.25em;color: #696969;}#sk-container-id-8 label.sk-toggleable__label-arrow:hover:before {color: black;}#sk-container-id-8 div.sk-estimator:hover label.sk-toggleable__label-arrow:before {color: black;}#sk-container-id-8 div.sk-toggleable__content {max-height: 0;max-width: 0;overflow: hidden;text-align: left;background-color: #f0f8ff;}#sk-container-id-8 div.sk-toggleable__content pre {margin: 0.2em;color: black;border-radius: 0.25em;background-color: #f0f8ff;}#sk-container-id-8 input.sk-toggleable__control:checked~div.sk-toggleable__content {max-height: 200px;max-width: 100%;overflow: auto;}#sk-container-id-8 input.sk-toggleable__control:checked~label.sk-toggleable__label-arrow:before {content: \"▾\";}#sk-container-id-8 div.sk-estimator input.sk-toggleable__control:checked~label.sk-toggleable__label {background-color: #d4ebff;}#sk-container-id-8 div.sk-label input.sk-toggleable__control:checked~label.sk-toggleable__label {background-color: #d4ebff;}#sk-container-id-8 input.sk-hidden--visually {border: 0;clip: rect(1px 1px 1px 1px);clip: rect(1px, 1px, 1px, 1px);height: 1px;margin: -1px;overflow: hidden;padding: 0;position: absolute;width: 1px;}#sk-container-id-8 div.sk-estimator {font-family: monospace;background-color: #f0f8ff;border: 1px dotted black;border-radius: 0.25em;box-sizing: border-box;margin-bottom: 0.5em;}#sk-container-id-8 div.sk-estimator:hover {background-color: #d4ebff;}#sk-container-id-8 div.sk-parallel-item::after {content: \"\";width: 100%;border-bottom: 1px solid gray;flex-grow: 1;}#sk-container-id-8 div.sk-label:hover label.sk-toggleable__label {background-color: #d4ebff;}#sk-container-id-8 div.sk-serial::before {content: \"\";position: absolute;border-left: 1px solid gray;box-sizing: border-box;top: 0;bottom: 0;left: 50%;z-index: 0;}#sk-container-id-8 div.sk-serial {display: flex;flex-direction: column;align-items: center;background-color: white;padding-right: 0.2em;padding-left: 0.2em;position: relative;}#sk-container-id-8 div.sk-item {position: relative;z-index: 1;}#sk-container-id-8 div.sk-parallel {display: flex;align-items: stretch;justify-content: center;background-color: white;position: relative;}#sk-container-id-8 div.sk-item::before, #sk-container-id-8 div.sk-parallel-item::before {content: \"\";position: absolute;border-left: 1px solid gray;box-sizing: border-box;top: 0;bottom: 0;left: 50%;z-index: -1;}#sk-container-id-8 div.sk-parallel-item {display: flex;flex-direction: column;z-index: 1;position: relative;background-color: white;}#sk-container-id-8 div.sk-parallel-item:first-child::after {align-self: flex-end;width: 50%;}#sk-container-id-8 div.sk-parallel-item:last-child::after {align-self: flex-start;width: 50%;}#sk-container-id-8 div.sk-parallel-item:only-child::after {width: 0;}#sk-container-id-8 div.sk-dashed-wrapped {border: 1px dashed gray;margin: 0 0.4em 0.5em 0.4em;box-sizing: border-box;padding-bottom: 0.4em;background-color: white;}#sk-container-id-8 div.sk-label label {font-family: monospace;font-weight: bold;display: inline-block;line-height: 1.2em;}#sk-container-id-8 div.sk-label-container {text-align: center;}#sk-container-id-8 div.sk-container {/* jupyter's `normalize.less` sets `[hidden] { display: none; }` but bootstrap.min.css set `[hidden] { display: none !important; }` so we also need the `!important` here to be able to override the default hidden behavior on the sphinx rendered scikit-learn.org. See: https://github.com/scikit-learn/scikit-learn/issues/21755 */display: inline-block !important;position: relative;}#sk-container-id-8 div.sk-text-repr-fallback {display: none;}</style><div id=\"sk-container-id-8\" class=\"sk-top-container\"><div class=\"sk-text-repr-fallback\"><pre>GridSearchCV(cv=10, estimator=SVC(),\n             param_grid={&#x27;C&#x27;: array([1.00000000e-03, 3.16227766e-02, 1.00000000e+00, 3.16227766e+01,\n       1.00000000e+03]),\n                         &#x27;gamma&#x27;: array([1.00000000e-03, 3.16227766e-02, 1.00000000e+00, 3.16227766e+01,\n       1.00000000e+03]),\n                         &#x27;kernel&#x27;: (&#x27;linear&#x27;, &#x27;rbf&#x27;, &#x27;poly&#x27;, &#x27;rbf&#x27;, &#x27;sigmoid&#x27;)},\n             verbose=3)</pre><b>In a Jupyter environment, please rerun this cell to show the HTML representation or trust the notebook. <br />On GitHub, the HTML representation is unable to render, please try loading this page with nbviewer.org.</b></div><div class=\"sk-container\" hidden><div class=\"sk-item sk-dashed-wrapped\"><div class=\"sk-label-container\"><div class=\"sk-label sk-toggleable\"><input class=\"sk-toggleable__control sk-hidden--visually\" id=\"sk-estimator-id-22\" type=\"checkbox\" ><label for=\"sk-estimator-id-22\" class=\"sk-toggleable__label sk-toggleable__label-arrow\">GridSearchCV</label><div class=\"sk-toggleable__content\"><pre>GridSearchCV(cv=10, estimator=SVC(),\n             param_grid={&#x27;C&#x27;: array([1.00000000e-03, 3.16227766e-02, 1.00000000e+00, 3.16227766e+01,\n       1.00000000e+03]),\n                         &#x27;gamma&#x27;: array([1.00000000e-03, 3.16227766e-02, 1.00000000e+00, 3.16227766e+01,\n       1.00000000e+03]),\n                         &#x27;kernel&#x27;: (&#x27;linear&#x27;, &#x27;rbf&#x27;, &#x27;poly&#x27;, &#x27;rbf&#x27;, &#x27;sigmoid&#x27;)},\n             verbose=3)</pre></div></div></div><div class=\"sk-parallel\"><div class=\"sk-parallel-item\"><div class=\"sk-item\"><div class=\"sk-label-container\"><div class=\"sk-label sk-toggleable\"><input class=\"sk-toggleable__control sk-hidden--visually\" id=\"sk-estimator-id-23\" type=\"checkbox\" ><label for=\"sk-estimator-id-23\" class=\"sk-toggleable__label sk-toggleable__label-arrow\">estimator: SVC</label><div class=\"sk-toggleable__content\"><pre>SVC()</pre></div></div></div><div class=\"sk-serial\"><div class=\"sk-item\"><div class=\"sk-estimator sk-toggleable\"><input class=\"sk-toggleable__control sk-hidden--visually\" id=\"sk-estimator-id-24\" type=\"checkbox\" ><label for=\"sk-estimator-id-24\" class=\"sk-toggleable__label sk-toggleable__label-arrow\">SVC</label><div class=\"sk-toggleable__content\"><pre>SVC()</pre></div></div></div></div></div></div></div></div></div></div>"
     },
     "execution_count": 82,
     "metadata": {},
     "output_type": "execute_result"
    }
   ],
   "execution_count": 82
  },
  {
   "cell_type": "code",
   "source": [
    "print(\"tuned hpyerparameters :(best parameters) \",svm_cv.best_params_)\n",
    "print(\"accuracy :\",svm_cv.best_score_)"
   ],
   "metadata": {
    "trusted": true,
    "ExecuteTime": {
     "end_time": "2024-02-09T20:01:13.022701900Z",
     "start_time": "2024-02-09T20:01:13.020181800Z"
    }
   },
   "outputs": [
    {
     "name": "stdout",
     "output_type": "stream",
     "text": [
      "tuned hpyerparameters :(best parameters)  {'C': 1.0, 'gamma': 0.03162277660168379, 'kernel': 'sigmoid'}\n",
      "accuracy : 0.8482142857142856\n"
     ]
    }
   ],
   "execution_count": 83
  },
  {
   "cell_type": "markdown",
   "source": [
    "## TASK  7\n"
   ],
   "metadata": {}
  },
  {
   "cell_type": "markdown",
   "source": [
    "Calculate the accuracy on the test data using the method <code>score</code>:\n"
   ],
   "metadata": {}
  },
  {
   "cell_type": "code",
   "source": [
    "print(\"score: \",svm_cv.score(X_test, Y_test))"
   ],
   "metadata": {
    "ExecuteTime": {
     "end_time": "2024-02-09T20:01:13.035979500Z",
     "start_time": "2024-02-09T20:01:13.023702600Z"
    }
   },
   "outputs": [
    {
     "name": "stdout",
     "output_type": "stream",
     "text": [
      "score:  0.8333333333333334\n"
     ]
    }
   ],
   "execution_count": 84
  },
  {
   "cell_type": "markdown",
   "source": [
    "We can plot the confusion matrix\n"
   ],
   "metadata": {}
  },
  {
   "cell_type": "code",
   "source": [
    "yhat=svm_cv.predict(X_test)\n",
    "plot_confusion_matrix(Y_test,yhat)"
   ],
   "metadata": {
    "ExecuteTime": {
     "end_time": "2024-02-09T20:01:13.184216400Z",
     "start_time": "2024-02-09T20:01:13.027978600Z"
    }
   },
   "outputs": [
    {
     "data": {
      "text/plain": "<Figure size 640x480 with 2 Axes>",
      "image/png": "[encoded data removed]"
     },
     "metadata": {},
     "output_type": "display_data"
    }
   ],
   "execution_count": 85
  },
  {
   "cell_type": "markdown",
   "source": [
    "## TASK  8\n"
   ],
   "metadata": {}
  },
  {
   "cell_type": "markdown",
   "source": [
    "Create a decision tree classifier object then  create a  <code>GridSearchCV</code> object  <code>tree_cv</code> with cv = 10.  Fit the object to find the best parameters from the dictionary <code>parameters</code>.\n"
   ],
   "metadata": {}
  },
  {
   "cell_type": "code",
   "source": [
    "parameters = {'criterion': ['gini', 'entropy'],\n",
    "     'splitter': ['best', 'random'],\n",
    "     'max_depth': [2*n for n in range(1,10)],\n",
    "     'max_features': ['auto', 'sqrt'],\n",
    "     'min_samples_leaf': [1, 2, 4],\n",
    "     'min_samples_split': [2, 5, 10]}\n",
    "\n",
    "tree = DecisionTreeClassifier()"
   ],
   "metadata": {
    "ExecuteTime": {
     "end_time": "2024-02-09T20:01:13.193866800Z",
     "start_time": "2024-02-09T20:01:13.186869300Z"
    }
   },
   "outputs": [],
   "execution_count": 86
  },
  {
   "cell_type": "code",
   "source": [
    "tree_cv = GridSearchCV(tree, parameters, cv=10)\n",
    "tree_cv.fit(X_train, Y_train)"
   ],
   "metadata": {
    "ExecuteTime": {
     "end_time": "2024-02-09T20:01:18.874622200Z",
     "start_time": "2024-02-09T20:01:13.189868300Z"
    }
   },
   "outputs": [
    {
     "name": "stderr",
     "output_type": "stream",
     "text": [
      "C:\\Users\\blaze\\anaconda3\\Lib\\site-packages\\sklearn\\model_selection\\_validation.py:425: FitFailedWarning: \n",
      "3240 fits failed out of a total of 6480.\n",
      "The score on these train-test partitions for these parameters will be set to nan.\n",
      "If these failures are not expected, you can try to debug them by setting error_score='raise'.\n",
      "\n",
      "Below are more details about the failures:\n",
      "--------------------------------------------------------------------------------\n",
      "3240 fits failed with the following error:\n",
      "Traceback (most recent call last):\n",
      "  File \"C:\\Users\\blaze\\anaconda3\\Lib\\site-packages\\sklearn\\model_selection\\_validation.py\", line 732, in _fit_and_score\n",
      "    estimator.fit(X_train, y_train, **fit_params)\n",
      "  File \"C:\\Users\\blaze\\anaconda3\\Lib\\site-packages\\sklearn\\base.py\", line 1144, in wrapper\n",
      "    estimator._validate_params()\n",
      "  File \"C:\\Users\\blaze\\anaconda3\\Lib\\site-packages\\sklearn\\base.py\", line 637, in _validate_params\n",
      "    validate_parameter_constraints(\n",
      "  File \"C:\\Users\\blaze\\anaconda3\\Lib\\site-packages\\sklearn\\utils\\_param_validation.py\", line 95, in validate_parameter_constraints\n",
      "    raise InvalidParameterError(\n",
      "sklearn.utils._param_validation.InvalidParameterError: The 'max_features' parameter of DecisionTreeClassifier must be an int in the range [1, inf), a float in the range (0.0, 1.0], a str among {'sqrt', 'log2'} or None. Got 'auto' instead.\n",
      "\n",
      "  warnings.warn(some_fits_failed_message, FitFailedWarning)\n",
      "C:\\Users\\blaze\\anaconda3\\Lib\\site-packages\\sklearn\\model_selection\\_search.py:976: UserWarning: One or more of the test scores are non-finite: [       nan        nan        nan        nan        nan        nan\n",
      "        nan        nan        nan        nan        nan        nan\n",
      "        nan        nan        nan        nan        nan        nan\n",
      " 0.77678571 0.70535714 0.72142857 0.80357143 0.84642857 0.76607143\n",
      " 0.775      0.77678571 0.76607143 0.69642857 0.83214286 0.84821429\n",
      " 0.7375     0.80535714 0.80535714 0.86071429 0.80357143 0.7625\n",
      "        nan        nan        nan        nan        nan        nan\n",
      "        nan        nan        nan        nan        nan        nan\n",
      "        nan        nan        nan        nan        nan        nan\n",
      " 0.85714286 0.70535714 0.80357143 0.84642857 0.76607143 0.76607143\n",
      " 0.775      0.79464286 0.80178571 0.78928571 0.80535714 0.84821429\n",
      " 0.7375     0.80178571 0.69464286 0.73392857 0.81607143 0.65\n",
      "        nan        nan        nan        nan        nan        nan\n",
      "        nan        nan        nan        nan        nan        nan\n",
      "        nan        nan        nan        nan        nan        nan\n",
      " 0.775      0.73571429 0.81964286 0.79107143 0.77678571 0.82142857\n",
      " 0.79107143 0.80714286 0.73571429 0.81785714 0.79107143 0.80357143\n",
      " 0.70357143 0.78928571 0.75       0.78928571 0.71964286 0.76071429\n",
      "        nan        nan        nan        nan        nan        nan\n",
      "        nan        nan        nan        nan        nan        nan\n",
      "        nan        nan        nan        nan        nan        nan\n",
      " 0.76428571 0.77857143 0.77857143 0.79464286 0.76071429 0.83392857\n",
      " 0.775      0.83214286 0.79107143 0.80535714 0.74642857 0.73571429\n",
      " 0.78928571 0.83392857 0.83214286 0.78928571 0.70357143 0.77678571\n",
      "        nan        nan        nan        nan        nan        nan\n",
      "        nan        nan        nan        nan        nan        nan\n",
      "        nan        nan        nan        nan        nan        nan\n",
      " 0.81785714 0.83214286 0.72142857 0.73392857 0.71964286 0.76607143\n",
      " 0.77678571 0.74642857 0.84464286 0.76428571 0.79285714 0.71964286\n",
      " 0.79107143 0.83214286 0.72142857 0.79107143 0.72142857 0.81964286\n",
      "        nan        nan        nan        nan        nan        nan\n",
      "        nan        nan        nan        nan        nan        nan\n",
      "        nan        nan        nan        nan        nan        nan\n",
      " 0.74821429 0.75178571 0.71964286 0.79464286 0.81785714 0.79285714\n",
      " 0.80357143 0.75178571 0.67678571 0.79285714 0.7625     0.79107143\n",
      " 0.78928571 0.73214286 0.74821429 0.75       0.81785714 0.79107143\n",
      "        nan        nan        nan        nan        nan        nan\n",
      "        nan        nan        nan        nan        nan        nan\n",
      "        nan        nan        nan        nan        nan        nan\n",
      " 0.76428571 0.77857143 0.75       0.8375     0.80357143 0.76428571\n",
      " 0.73214286 0.77678571 0.79107143 0.80535714 0.775      0.80357143\n",
      " 0.78928571 0.78928571 0.77857143 0.81964286 0.77678571 0.725\n",
      "        nan        nan        nan        nan        nan        nan\n",
      "        nan        nan        nan        nan        nan        nan\n",
      "        nan        nan        nan        nan        nan        nan\n",
      " 0.80892857 0.78035714 0.76428571 0.80714286 0.77678571 0.83214286\n",
      " 0.77857143 0.76428571 0.80714286 0.72321429 0.76071429 0.83214286\n",
      " 0.80178571 0.84642857 0.82142857 0.775      0.79107143 0.73571429\n",
      "        nan        nan        nan        nan        nan        nan\n",
      "        nan        nan        nan        nan        nan        nan\n",
      "        nan        nan        nan        nan        nan        nan\n",
      " 0.76071429 0.80535714 0.75892857 0.7625     0.73571429 0.81785714\n",
      " 0.7625     0.80892857 0.69285714 0.79285714 0.81964286 0.80892857\n",
      " 0.67678571 0.77678571 0.79107143 0.80714286 0.72142857 0.79642857\n",
      "        nan        nan        nan        nan        nan        nan\n",
      "        nan        nan        nan        nan        nan        nan\n",
      "        nan        nan        nan        nan        nan        nan\n",
      " 0.79285714 0.7625     0.80714286 0.7375     0.78035714 0.75357143\n",
      " 0.73392857 0.77678571 0.76785714 0.80357143 0.80357143 0.80178571\n",
      " 0.83392857 0.75       0.81607143 0.72142857 0.80357143 0.73928571\n",
      "        nan        nan        nan        nan        nan        nan\n",
      "        nan        nan        nan        nan        nan        nan\n",
      "        nan        nan        nan        nan        nan        nan\n",
      " 0.73392857 0.83571429 0.74821429 0.8625     0.81785714 0.8625\n",
      " 0.80357143 0.77678571 0.78035714 0.775      0.8625     0.83392857\n",
      " 0.80357143 0.77857143 0.79107143 0.76071429 0.81964286 0.81964286\n",
      "        nan        nan        nan        nan        nan        nan\n",
      "        nan        nan        nan        nan        nan        nan\n",
      "        nan        nan        nan        nan        nan        nan\n",
      " 0.775      0.77678571 0.74821429 0.84642857 0.77678571 0.79285714\n",
      " 0.76428571 0.83214286 0.7625     0.81785714 0.76071429 0.81964286\n",
      " 0.75       0.68392857 0.80357143 0.83571429 0.73571429 0.70892857\n",
      "        nan        nan        nan        nan        nan        nan\n",
      "        nan        nan        nan        nan        nan        nan\n",
      "        nan        nan        nan        nan        nan        nan\n",
      " 0.83571429 0.79107143 0.72142857 0.80714286 0.74821429 0.875\n",
      " 0.7625     0.79285714 0.71964286 0.775      0.76071429 0.80357143\n",
      " 0.77857143 0.83392857 0.74285714 0.81964286 0.77678571 0.75357143\n",
      "        nan        nan        nan        nan        nan        nan\n",
      "        nan        nan        nan        nan        nan        nan\n",
      "        nan        nan        nan        nan        nan        nan\n",
      " 0.85892857 0.81785714 0.74821429 0.75178571 0.74821429 0.81964286\n",
      " 0.78928571 0.79107143 0.75       0.73392857 0.775      0.84821429\n",
      " 0.71964286 0.76964286 0.775      0.72142857 0.70535714 0.78035714\n",
      "        nan        nan        nan        nan        nan        nan\n",
      "        nan        nan        nan        nan        nan        nan\n",
      "        nan        nan        nan        nan        nan        nan\n",
      " 0.80535714 0.79285714 0.75178571 0.7625     0.73571429 0.80535714\n",
      " 0.76428571 0.77857143 0.81785714 0.81785714 0.8625     0.86071429\n",
      " 0.78571429 0.79107143 0.76964286 0.75178571 0.7625     0.84464286\n",
      "        nan        nan        nan        nan        nan        nan\n",
      "        nan        nan        nan        nan        nan        nan\n",
      "        nan        nan        nan        nan        nan        nan\n",
      " 0.75178571 0.79285714 0.71964286 0.80714286 0.81785714 0.79107143\n",
      " 0.73571429 0.79107143 0.71964286 0.78214286 0.7375     0.79285714\n",
      " 0.81785714 0.81785714 0.79464286 0.70714286 0.78928571 0.78035714\n",
      "        nan        nan        nan        nan        nan        nan\n",
      "        nan        nan        nan        nan        nan        nan\n",
      "        nan        nan        nan        nan        nan        nan\n",
      " 0.73392857 0.83571429 0.77678571 0.79107143 0.69107143 0.81785714\n",
      " 0.73392857 0.80714286 0.80178571 0.79285714 0.70535714 0.71964286\n",
      " 0.79107143 0.77678571 0.80357143 0.83392857 0.74821429 0.81071429\n",
      "        nan        nan        nan        nan        nan        nan\n",
      "        nan        nan        nan        nan        nan        nan\n",
      "        nan        nan        nan        nan        nan        nan\n",
      " 0.73928571 0.76607143 0.73571429 0.79107143 0.74821429 0.69285714\n",
      " 0.69285714 0.7125     0.7875     0.79285714 0.81964286 0.775\n",
      " 0.77678571 0.73928571 0.73392857 0.7625     0.74821429 0.79285714]\n",
      "  warnings.warn(\n"
     ]
    },
    {
     "data": {
      "text/plain": "GridSearchCV(cv=10, estimator=DecisionTreeClassifier(),\n             param_grid={'criterion': ['gini', 'entropy'],\n                         'max_depth': [2, 4, 6, 8, 10, 12, 14, 16, 18],\n                         'max_features': ['auto', 'sqrt'],\n                         'min_samples_leaf': [1, 2, 4],\n                         'min_samples_split': [2, 5, 10],\n                         'splitter': ['best', 'random']})",
      "text/html": "<style>#sk-container-id-9 {color: black;}#sk-container-id-9 pre{padding: 0;}#sk-container-id-9 div.sk-toggleable {background-color: white;}#sk-container-id-9 label.sk-toggleable__label {cursor: pointer;display: block;width: 100%;margin-bottom: 0;padding: 0.3em;box-sizing: border-box;text-align: center;}#sk-container-id-9 label.sk-toggleable__label-arrow:before {content: \"▸\";float: left;margin-right: 0.25em;color: #696969;}#sk-container-id-9 label.sk-toggleable__label-arrow:hover:before {color: black;}#sk-container-id-9 div.sk-estimator:hover label.sk-toggleable__label-arrow:before {color: black;}#sk-container-id-9 div.sk-toggleable__content {max-height: 0;max-width: 0;overflow: hidden;text-align: left;background-color: #f0f8ff;}#sk-container-id-9 div.sk-toggleable__content pre {margin: 0.2em;color: black;border-radius: 0.25em;background-color: #f0f8ff;}#sk-container-id-9 input.sk-toggleable__control:checked~div.sk-toggleable__content {max-height: 200px;max-width: 100%;overflow: auto;}#sk-container-id-9 input.sk-toggleable__control:checked~label.sk-toggleable__label-arrow:before {content: \"▾\";}#sk-container-id-9 div.sk-estimator input.sk-toggleable__control:checked~label.sk-toggleable__label {background-color: #d4ebff;}#sk-container-id-9 div.sk-label input.sk-toggleable__control:checked~label.sk-toggleable__label {background-color: #d4ebff;}#sk-container-id-9 input.sk-hidden--visually {border: 0;clip: rect(1px 1px 1px 1px);clip: rect(1px, 1px, 1px, 1px);height: 1px;margin: -1px;overflow: hidden;padding: 0;position: absolute;width: 1px;}#sk-container-id-9 div.sk-estimator {font-family: monospace;background-color: #f0f8ff;border: 1px dotted black;border-radius: 0.25em;box-sizing: border-box;margin-bottom: 0.5em;}#sk-container-id-9 div.sk-estimator:hover {background-color: #d4ebff;}#sk-container-id-9 div.sk-parallel-item::after {content: \"\";width: 100%;border-bottom: 1px solid gray;flex-grow: 1;}#sk-container-id-9 div.sk-label:hover label.sk-toggleable__label {background-color: #d4ebff;}#sk-container-id-9 div.sk-serial::before {content: \"\";position: absolute;border-left: 1px solid gray;box-sizing: border-box;top: 0;bottom: 0;left: 50%;z-index: 0;}#sk-container-id-9 div.sk-serial {display: flex;flex-direction: column;align-items: center;background-color: white;padding-right: 0.2em;padding-left: 0.2em;position: relative;}#sk-container-id-9 div.sk-item {position: relative;z-index: 1;}#sk-container-id-9 div.sk-parallel {display: flex;align-items: stretch;justify-content: center;background-color: white;position: relative;}#sk-container-id-9 div.sk-item::before, #sk-container-id-9 div.sk-parallel-item::before {content: \"\";position: absolute;border-left: 1px solid gray;box-sizing: border-box;top: 0;bottom: 0;left: 50%;z-index: -1;}#sk-container-id-9 div.sk-parallel-item {display: flex;flex-direction: column;z-index: 1;position: relative;background-color: white;}#sk-container-id-9 div.sk-parallel-item:first-child::after {align-self: flex-end;width: 50%;}#sk-container-id-9 div.sk-parallel-item:last-child::after {align-self: flex-start;width: 50%;}#sk-container-id-9 div.sk-parallel-item:only-child::after {width: 0;}#sk-container-id-9 div.sk-dashed-wrapped {border: 1px dashed gray;margin: 0 0.4em 0.5em 0.4em;box-sizing: border-box;padding-bottom: 0.4em;background-color: white;}#sk-container-id-9 div.sk-label label {font-family: monospace;font-weight: bold;display: inline-block;line-height: 1.2em;}#sk-container-id-9 div.sk-label-container {text-align: center;}#sk-container-id-9 div.sk-container {/* jupyter's `normalize.less` sets `[hidden] { display: none; }` but bootstrap.min.css set `[hidden] { display: none !important; }` so we also need the `!important` here to be able to override the default hidden behavior on the sphinx rendered scikit-learn.org. See: https://github.com/scikit-learn/scikit-learn/issues/21755 */display: inline-block !important;position: relative;}#sk-container-id-9 div.sk-text-repr-fallback {display: none;}</style><div id=\"sk-container-id-9\" class=\"sk-top-container\"><div class=\"sk-text-repr-fallback\"><pre>GridSearchCV(cv=10, estimator=DecisionTreeClassifier(),\n             param_grid={&#x27;criterion&#x27;: [&#x27;gini&#x27;, &#x27;entropy&#x27;],\n                         &#x27;max_depth&#x27;: [2, 4, 6, 8, 10, 12, 14, 16, 18],\n                         &#x27;max_features&#x27;: [&#x27;auto&#x27;, &#x27;sqrt&#x27;],\n                         &#x27;min_samples_leaf&#x27;: [1, 2, 4],\n                         &#x27;min_samples_split&#x27;: [2, 5, 10],\n                         &#x27;splitter&#x27;: [&#x27;best&#x27;, &#x27;random&#x27;]})</pre><b>In a Jupyter environment, please rerun this cell to show the HTML representation or trust the notebook. <br />On GitHub, the HTML representation is unable to render, please try loading this page with nbviewer.org.</b></div><div class=\"sk-container\" hidden><div class=\"sk-item sk-dashed-wrapped\"><div class=\"sk-label-container\"><div class=\"sk-label sk-toggleable\"><input class=\"sk-toggleable__control sk-hidden--visually\" id=\"sk-estimator-id-25\" type=\"checkbox\" ><label for=\"sk-estimator-id-25\" class=\"sk-toggleable__label sk-toggleable__label-arrow\">GridSearchCV</label><div class=\"sk-toggleable__content\"><pre>GridSearchCV(cv=10, estimator=DecisionTreeClassifier(),\n             param_grid={&#x27;criterion&#x27;: [&#x27;gini&#x27;, &#x27;entropy&#x27;],\n                         &#x27;max_depth&#x27;: [2, 4, 6, 8, 10, 12, 14, 16, 18],\n                         &#x27;max_features&#x27;: [&#x27;auto&#x27;, &#x27;sqrt&#x27;],\n                         &#x27;min_samples_leaf&#x27;: [1, 2, 4],\n                         &#x27;min_samples_split&#x27;: [2, 5, 10],\n                         &#x27;splitter&#x27;: [&#x27;best&#x27;, &#x27;random&#x27;]})</pre></div></div></div><div class=\"sk-parallel\"><div class=\"sk-parallel-item\"><div class=\"sk-item\"><div class=\"sk-label-container\"><div class=\"sk-label sk-toggleable\"><input class=\"sk-toggleable__control sk-hidden--visually\" id=\"sk-estimator-id-26\" type=\"checkbox\" ><label for=\"sk-estimator-id-26\" class=\"sk-toggleable__label sk-toggleable__label-arrow\">estimator: DecisionTreeClassifier</label><div class=\"sk-toggleable__content\"><pre>DecisionTreeClassifier()</pre></div></div></div><div class=\"sk-serial\"><div class=\"sk-item\"><div class=\"sk-estimator sk-toggleable\"><input class=\"sk-toggleable__control sk-hidden--visually\" id=\"sk-estimator-id-27\" type=\"checkbox\" ><label for=\"sk-estimator-id-27\" class=\"sk-toggleable__label sk-toggleable__label-arrow\">DecisionTreeClassifier</label><div class=\"sk-toggleable__content\"><pre>DecisionTreeClassifier()</pre></div></div></div></div></div></div></div></div></div></div>"
     },
     "execution_count": 87,
     "metadata": {},
     "output_type": "execute_result"
    }
   ],
   "execution_count": 87
  },
  {
   "cell_type": "code",
   "source": [
    "print(\"tuned hpyerparameters :(best parameters) \",tree_cv.best_params_)\n",
    "print(\"accuracy :\",tree_cv.best_score_)"
   ],
   "metadata": {
    "ExecuteTime": {
     "end_time": "2024-02-09T20:01:18.878137200Z",
     "start_time": "2024-02-09T20:01:18.874622200Z"
    }
   },
   "outputs": [
    {
     "name": "stdout",
     "output_type": "stream",
     "text": [
      "tuned hpyerparameters :(best parameters)  {'criterion': 'entropy', 'max_depth': 8, 'max_features': 'sqrt', 'min_samples_leaf': 1, 'min_samples_split': 10, 'splitter': 'random'}\n",
      "accuracy : 0.875\n"
     ]
    }
   ],
   "execution_count": 88
  },
  {
   "cell_type": "markdown",
   "source": [
    "## TASK  9\n"
   ],
   "metadata": {}
  },
  {
   "cell_type": "markdown",
   "source": [
    "Calculate the accuracy of tree_cv on the test data using the method <code>score</code>:\n"
   ],
   "metadata": {}
  },
  {
   "cell_type": "code",
   "source": [
    "print(\"score: \",tree_cv.score(X_test, Y_test))"
   ],
   "metadata": {
    "ExecuteTime": {
     "end_time": "2024-02-09T20:01:18.888347700Z",
     "start_time": "2024-02-09T20:01:18.878137200Z"
    }
   },
   "outputs": [
    {
     "name": "stdout",
     "output_type": "stream",
     "text": [
      "score:  0.8333333333333334\n"
     ]
    }
   ],
   "execution_count": 89
  },
  {
   "cell_type": "markdown",
   "source": [
    "We can plot the confusion matrix\n"
   ],
   "metadata": {}
  },
  {
   "cell_type": "code",
   "source": [
    "yhat = tree_cv.predict(X_test)\n",
    "plot_confusion_matrix(Y_test,yhat)"
   ],
   "metadata": {
    "ExecuteTime": {
     "end_time": "2024-02-09T20:01:19.037387Z",
     "start_time": "2024-02-09T20:01:18.884346100Z"
    }
   },
   "outputs": [
    {
     "data": {
      "text/plain": "<Figure size 640x480 with 2 Axes>",
      "image/png": "[encoded data removed]"
     },
     "metadata": {},
     "output_type": "display_data"
    }
   ],
   "execution_count": 90
  },
  {
   "cell_type": "markdown",
   "source": [
    "## TASK  10\n"
   ],
   "metadata": {}
  },
  {
   "cell_type": "markdown",
   "source": [
    "Create a k nearest neighbors object then  create a  <code>GridSearchCV</code> object  <code>knn_cv</code> with cv = 10.  Fit the object to find the best parameters from the dictionary <code>parameters</code>.\n"
   ],
   "metadata": {}
  },
  {
   "cell_type": "code",
   "source": [
    "parameters = {'n_neighbors': [1, 2, 3, 4, 5, 6, 7, 8, 9, 10],\n",
    "              'algorithm': ['auto', 'ball_tree', 'kd_tree', 'brute'],\n",
    "              'p': [1,2]}\n",
    "\n",
    "KNN = KNeighborsClassifier()"
   ],
   "metadata": {
    "ExecuteTime": {
     "end_time": "2024-02-09T20:01:19.039904400Z",
     "start_time": "2024-02-09T20:01:19.035452900Z"
    }
   },
   "outputs": [],
   "execution_count": 91
  },
  {
   "cell_type": "code",
   "source": [
    "knn_cv = GridSearchCV(KNN, parameters, cv=10)\n",
    "knn_cv.fit(X_train, Y_train)"
   ],
   "metadata": {
    "ExecuteTime": {
     "end_time": "2024-02-09T20:01:26.199640Z",
     "start_time": "2024-02-09T20:01:19.040904500Z"
    }
   },
   "outputs": [
    {
     "data": {
      "text/plain": "GridSearchCV(cv=10, estimator=KNeighborsClassifier(),\n             param_grid={'algorithm': ['auto', 'ball_tree', 'kd_tree', 'brute'],\n                         'n_neighbors': [1, 2, 3, 4, 5, 6, 7, 8, 9, 10],\n                         'p': [1, 2]})",
      "text/html": "<style>#sk-container-id-10 {color: black;}#sk-container-id-10 pre{padding: 0;}#sk-container-id-10 div.sk-toggleable {background-color: white;}#sk-container-id-10 label.sk-toggleable__label {cursor: pointer;display: block;width: 100%;margin-bottom: 0;padding: 0.3em;box-sizing: border-box;text-align: center;}#sk-container-id-10 label.sk-toggleable__label-arrow:before {content: \"▸\";float: left;margin-right: 0.25em;color: #696969;}#sk-container-id-10 label.sk-toggleable__label-arrow:hover:before {color: black;}#sk-container-id-10 div.sk-estimator:hover label.sk-toggleable__label-arrow:before {color: black;}#sk-container-id-10 div.sk-toggleable__content {max-height: 0;max-width: 0;overflow: hidden;text-align: left;background-color: #f0f8ff;}#sk-container-id-10 div.sk-toggleable__content pre {margin: 0.2em;color: black;border-radius: 0.25em;background-color: #f0f8ff;}#sk-container-id-10 input.sk-toggleable__control:checked~div.sk-toggleable__content {max-height: 200px;max-width: 100%;overflow: auto;}#sk-container-id-10 input.sk-toggleable__control:checked~label.sk-toggleable__label-arrow:before {content: \"▾\";}#sk-container-id-10 div.sk-estimator input.sk-toggleable__control:checked~label.sk-toggleable__label {background-color: #d4ebff;}#sk-container-id-10 div.sk-label input.sk-toggleable__control:checked~label.sk-toggleable__label {background-color: #d4ebff;}#sk-container-id-10 input.sk-hidden--visually {border: 0;clip: rect(1px 1px 1px 1px);clip: rect(1px, 1px, 1px, 1px);height: 1px;margin: -1px;overflow: hidden;padding: 0;position: absolute;width: 1px;}#sk-container-id-10 div.sk-estimator {font-family: monospace;background-color: #f0f8ff;border: 1px dotted black;border-radius: 0.25em;box-sizing: border-box;margin-bottom: 0.5em;}#sk-container-id-10 div.sk-estimator:hover {background-color: #d4ebff;}#sk-container-id-10 div.sk-parallel-item::after {content: \"\";width: 100%;border-bottom: 1px solid gray;flex-grow: 1;}#sk-container-id-10 div.sk-label:hover label.sk-toggleable__label {background-color: #d4ebff;}#sk-container-id-10 div.sk-serial::before {content: \"\";position: absolute;border-left: 1px solid gray;box-sizing: border-box;top: 0;bottom: 0;left: 50%;z-index: 0;}#sk-container-id-10 div.sk-serial {display: flex;flex-direction: column;align-items: center;background-color: white;padding-right: 0.2em;padding-left: 0.2em;position: relative;}#sk-container-id-10 div.sk-item {position: relative;z-index: 1;}#sk-container-id-10 div.sk-parallel {display: flex;align-items: stretch;justify-content: center;background-color: white;position: relative;}#sk-container-id-10 div.sk-item::before, #sk-container-id-10 div.sk-parallel-item::before {content: \"\";position: absolute;border-left: 1px solid gray;box-sizing: border-box;top: 0;bottom: 0;left: 50%;z-index: -1;}#sk-container-id-10 div.sk-parallel-item {display: flex;flex-direction: column;z-index: 1;position: relative;background-color: white;}#sk-container-id-10 div.sk-parallel-item:first-child::after {align-self: flex-end;width: 50%;}#sk-container-id-10 div.sk-parallel-item:last-child::after {align-self: flex-start;width: 50%;}#sk-container-id-10 div.sk-parallel-item:only-child::after {width: 0;}#sk-container-id-10 div.sk-dashed-wrapped {border: 1px dashed gray;margin: 0 0.4em 0.5em 0.4em;box-sizing: border-box;padding-bottom: 0.4em;background-color: white;}#sk-container-id-10 div.sk-label label {font-family: monospace;font-weight: bold;display: inline-block;line-height: 1.2em;}#sk-container-id-10 div.sk-label-container {text-align: center;}#sk-container-id-10 div.sk-container {/* jupyter's `normalize.less` sets `[hidden] { display: none; }` but bootstrap.min.css set `[hidden] { display: none !important; }` so we also need the `!important` here to be able to override the default hidden behavior on the sphinx rendered scikit-learn.org. See: https://github.com/scikit-learn/scikit-learn/issues/21755 */display: inline-block !important;position: relative;}#sk-container-id-10 div.sk-text-repr-fallback {display: none;}</style><div id=\"sk-container-id-10\" class=\"sk-top-container\"><div class=\"sk-text-repr-fallback\"><pre>GridSearchCV(cv=10, estimator=KNeighborsClassifier(),\n             param_grid={&#x27;algorithm&#x27;: [&#x27;auto&#x27;, &#x27;ball_tree&#x27;, &#x27;kd_tree&#x27;, &#x27;brute&#x27;],\n                         &#x27;n_neighbors&#x27;: [1, 2, 3, 4, 5, 6, 7, 8, 9, 10],\n                         &#x27;p&#x27;: [1, 2]})</pre><b>In a Jupyter environment, please rerun this cell to show the HTML representation or trust the notebook. <br />On GitHub, the HTML representation is unable to render, please try loading this page with nbviewer.org.</b></div><div class=\"sk-container\" hidden><div class=\"sk-item sk-dashed-wrapped\"><div class=\"sk-label-container\"><div class=\"sk-label sk-toggleable\"><input class=\"sk-toggleable__control sk-hidden--visually\" id=\"sk-estimator-id-28\" type=\"checkbox\" ><label for=\"sk-estimator-id-28\" class=\"sk-toggleable__label sk-toggleable__label-arrow\">GridSearchCV</label><div class=\"sk-toggleable__content\"><pre>GridSearchCV(cv=10, estimator=KNeighborsClassifier(),\n             param_grid={&#x27;algorithm&#x27;: [&#x27;auto&#x27;, &#x27;ball_tree&#x27;, &#x27;kd_tree&#x27;, &#x27;brute&#x27;],\n                         &#x27;n_neighbors&#x27;: [1, 2, 3, 4, 5, 6, 7, 8, 9, 10],\n                         &#x27;p&#x27;: [1, 2]})</pre></div></div></div><div class=\"sk-parallel\"><div class=\"sk-parallel-item\"><div class=\"sk-item\"><div class=\"sk-label-container\"><div class=\"sk-label sk-toggleable\"><input class=\"sk-toggleable__control sk-hidden--visually\" id=\"sk-estimator-id-29\" type=\"checkbox\" ><label for=\"sk-estimator-id-29\" class=\"sk-toggleable__label sk-toggleable__label-arrow\">estimator: KNeighborsClassifier</label><div class=\"sk-toggleable__content\"><pre>KNeighborsClassifier()</pre></div></div></div><div class=\"sk-serial\"><div class=\"sk-item\"><div class=\"sk-estimator sk-toggleable\"><input class=\"sk-toggleable__control sk-hidden--visually\" id=\"sk-estimator-id-30\" type=\"checkbox\" ><label for=\"sk-estimator-id-30\" class=\"sk-toggleable__label sk-toggleable__label-arrow\">KNeighborsClassifier</label><div class=\"sk-toggleable__content\"><pre>KNeighborsClassifier()</pre></div></div></div></div></div></div></div></div></div></div>"
     },
     "execution_count": 92,
     "metadata": {},
     "output_type": "execute_result"
    }
   ],
   "execution_count": 92
  },
  {
   "cell_type": "code",
   "source": [
    "print(\"tuned hpyerparameters :(best parameters) \",knn_cv.best_params_)\n",
    "print(\"accuracy :\",knn_cv.best_score_)"
   ],
   "metadata": {
    "ExecuteTime": {
     "end_time": "2024-02-09T20:01:26.211058200Z",
     "start_time": "2024-02-09T20:01:26.200640400Z"
    }
   },
   "outputs": [
    {
     "name": "stdout",
     "output_type": "stream",
     "text": [
      "tuned hpyerparameters :(best parameters)  {'algorithm': 'auto', 'n_neighbors': 10, 'p': 1}\n",
      "accuracy : 0.8482142857142858\n"
     ]
    }
   ],
   "execution_count": 93
  },
  {
   "cell_type": "markdown",
   "source": [
    "## TASK  11\n"
   ],
   "metadata": {}
  },
  {
   "cell_type": "markdown",
   "source": [
    "Calculate the accuracy of knn_cv on the test data using the method <code>score</code>:\n"
   ],
   "metadata": {}
  },
  {
   "cell_type": "code",
   "source": [
    "print(\"score: \",knn_cv.score(X_test, Y_test))"
   ],
   "metadata": {
    "ExecuteTime": {
     "end_time": "2024-02-09T20:01:26.240042800Z",
     "start_time": "2024-02-09T20:01:26.204059500Z"
    }
   },
   "outputs": [
    {
     "name": "stdout",
     "output_type": "stream",
     "text": [
      "score:  0.8333333333333334\n"
     ]
    }
   ],
   "execution_count": 94
  },
  {
   "cell_type": "markdown",
   "source": [
    "We can plot the confusion matrix\n"
   ],
   "metadata": {}
  },
  {
   "cell_type": "code",
   "source": [
    "yhat = knn_cv.predict(X_test)\n",
    "plot_confusion_matrix(Y_test,yhat)"
   ],
   "metadata": {
    "ExecuteTime": {
     "end_time": "2024-02-09T20:01:26.393020700Z",
     "start_time": "2024-02-09T20:01:26.226042800Z"
    }
   },
   "outputs": [
    {
     "data": {
      "text/plain": "<Figure size 640x480 with 2 Axes>",
      "image/png": "[encoded data removed]"
     },
     "metadata": {},
     "output_type": "display_data"
    }
   ],
   "execution_count": 95
  },
  {
   "cell_type": "markdown",
   "source": [
    "## TASK  12\n"
   ],
   "metadata": {}
  },
  {
   "cell_type": "markdown",
   "source": [
    "Find the method performs best:\n"
   ],
   "metadata": {}
  },
  {
   "cell_type": "code",
   "source": [
    "print(\"Logistic Regression score: \",logreg_cv.score(X_test, Y_test))\n",
    "print(\"SVM score: \",svm_cv.score(X_test, Y_test))\n",
    "print(\"Decision Tree score: \",tree_cv.score(X_test, Y_test))\n",
    "print(\"K-Nearest Neighbours score: \",knn_cv.score(X_test, Y_test))"
   ],
   "metadata": {
    "ExecuteTime": {
     "end_time": "2024-02-09T20:01:32.580614700Z",
     "start_time": "2024-02-09T20:01:32.557890700Z"
    }
   },
   "outputs": [
    {
     "name": "stdout",
     "output_type": "stream",
     "text": [
      "Logistic Regression score:  0.8333333333333334\n",
      "SVM score:  0.8333333333333334\n",
      "Decision Tree score:  0.8333333333333334\n",
      "K-Nearest Neighbours score:  0.8333333333333334\n"
     ]
    }
   ],
   "execution_count": 96
  },
  {
   "cell_type": "markdown",
   "source": [
    "## Authors\n"
   ],
   "metadata": {}
  },
  {
   "cell_type": "markdown",
   "source": [
    "[Pratiksha Verma](https://www.linkedin.com/in/pratiksha-verma-6487561b1/?utm_medium=Exinfluencer&utm_source=Exinfluencer&utm_content=000026UJ&utm_term=10006555&utm_id=NA-SkillsNetwork-Channel-SkillsNetworkCoursesIBMDS0321ENSkillsNetwork865-2023-01-01)\n"
   ],
   "metadata": {}
  },
  {
   "cell_type": "markdown",
   "source": [
    "## Change Log\n"
   ],
   "metadata": {}
  },
  {
   "cell_type": "markdown",
   "source": [
    "| Date (YYYY-MM-DD) | Version | Changed By      | Change Description      |\n",
    "| ----------------- | ------- | -------------   | ----------------------- |\n",
    "| 2022-11-09        | 1.0     | Pratiksha Verma | Converted initial version to Jupyterlite|\n"
   ],
   "metadata": {}
  },
  {
   "cell_type": "markdown",
   "source": [
    "### <h3 align=\"center\"> IBM Corporation 2022. All rights reserved. <h3/>\n"
   ],
   "metadata": {}
  }
 ]
}
